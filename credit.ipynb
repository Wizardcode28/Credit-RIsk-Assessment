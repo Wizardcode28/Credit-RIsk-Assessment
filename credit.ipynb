{
  "cells": [
    {
      "cell_type": "markdown",
      "id": "aee5eb6e",
      "metadata": {
        "id": "aee5eb6e"
      },
      "source": [
        "# Importing all required things"
      ]
    },
    {
      "cell_type": "code",
      "source": [
        "from google.colab import drive\n",
        "drive.mount('/content/drive')"
      ],
      "metadata": {
        "id": "iruZXGHaDrAd"
      },
      "id": "iruZXGHaDrAd",
      "execution_count": null,
      "outputs": []
    },
    {
      "cell_type": "code",
      "execution_count": 19,
      "id": "3e168eaf",
      "metadata": {
        "id": "3e168eaf"
      },
      "outputs": [],
      "source": [
        "import numpy as np\n",
        "import pandas as pd\n",
        "import matplotlib.pyplot as plt\n",
        "import seaborn as sns\n",
        "import joblib\n",
        "from sklearn.linear_model import LogisticRegression,SGDClassifier\n",
        "from sklearn.tree import DecisionTreeClassifier\n",
        "from xgboost import XGBClassifier\n",
        "from sklearn.ensemble import VotingClassifier\n",
        "from sklearn.svm import SVC\n",
        "from sklearn.ensemble import StackingClassifier\n",
        "from sklearn.ensemble import RandomForestClassifier,ExtraTreesClassifier\n",
        "from sklearn.model_selection import GridSearchCV,RandomizedSearchCV\n",
        "from sklearn.preprocessing import RobustScaler\n",
        "from sklearn.compose import ColumnTransformer\n",
        "from imblearn.pipeline import Pipeline\n",
        "from sklearn.preprocessing import OneHotEncoder,StandardScaler,OrdinalEncoder\n",
        "from sklearn.model_selection import train_test_split\n",
        "from imblearn.over_sampling import SMOTE\n",
        "from sklearn.metrics import accuracy_score,precision_score,recall_score,f1_score,classification_report,confusion_matrix,roc_auc_score,precision_recall_curve,roc_curve,average_precision_score"
      ]
    },
    {
      "cell_type": "markdown",
      "id": "33de5b99",
      "metadata": {
        "id": "33de5b99"
      },
      "source": [
        "# Data Loading and Cleaning"
      ]
    },
    {
      "cell_type": "code",
      "execution_count": 6,
      "id": "a6a07823",
      "metadata": {
        "id": "a6a07823"
      },
      "outputs": [],
      "source": [
        "# first i set option to display all columns\n",
        "pd.set_option('display.max_columns',None)"
      ]
    },
    {
      "cell_type": "code",
      "execution_count": 6,
      "id": "9565d4d0",
      "metadata": {
        "id": "9565d4d0"
      },
      "outputs": [],
      "source": [
        "df=pd.read_csv(\"/content/drive/MyDrive/credit_data.csv\")"
      ]
    },
    {
      "cell_type": "code",
      "execution_count": null,
      "id": "3dd0be98",
      "metadata": {
        "id": "3dd0be98",
        "outputId": "40682e26-6b0c-4d6b-dfe6-834696946fff"
      },
      "outputs": [
        {
          "data": {
            "text/plain": [
              "(32581, 12)"
            ]
          },
          "execution_count": 5,
          "metadata": {},
          "output_type": "execute_result"
        }
      ],
      "source": [
        "df.shape"
      ]
    },
    {
      "cell_type": "code",
      "execution_count": null,
      "id": "b409ccb2",
      "metadata": {
        "id": "b409ccb2",
        "outputId": "4d8b4c8c-2282-4e2c-8e6d-af9839ac783c"
      },
      "outputs": [
        {
          "data": {
            "text/html": [
              "<div>\n",
              "<style scoped>\n",
              "    .dataframe tbody tr th:only-of-type {\n",
              "        vertical-align: middle;\n",
              "    }\n",
              "\n",
              "    .dataframe tbody tr th {\n",
              "        vertical-align: top;\n",
              "    }\n",
              "\n",
              "    .dataframe thead th {\n",
              "        text-align: right;\n",
              "    }\n",
              "</style>\n",
              "<table border=\"1\" class=\"dataframe\">\n",
              "  <thead>\n",
              "    <tr style=\"text-align: right;\">\n",
              "      <th></th>\n",
              "      <th>person_age</th>\n",
              "      <th>person_income</th>\n",
              "      <th>person_home_ownership</th>\n",
              "      <th>person_emp_length</th>\n",
              "      <th>loan_intent</th>\n",
              "      <th>loan_grade</th>\n",
              "      <th>loan_amnt</th>\n",
              "      <th>loan_int_rate</th>\n",
              "      <th>loan_status</th>\n",
              "      <th>loan_percent_income</th>\n",
              "      <th>cb_person_default_on_file</th>\n",
              "      <th>cb_person_cred_hist_length</th>\n",
              "    </tr>\n",
              "  </thead>\n",
              "  <tbody>\n",
              "    <tr>\n",
              "      <th>0</th>\n",
              "      <td>22</td>\n",
              "      <td>59000</td>\n",
              "      <td>RENT</td>\n",
              "      <td>123.0</td>\n",
              "      <td>PERSONAL</td>\n",
              "      <td>D</td>\n",
              "      <td>35000</td>\n",
              "      <td>16.02</td>\n",
              "      <td>1</td>\n",
              "      <td>0.59</td>\n",
              "      <td>Y</td>\n",
              "      <td>3</td>\n",
              "    </tr>\n",
              "    <tr>\n",
              "      <th>1</th>\n",
              "      <td>21</td>\n",
              "      <td>9600</td>\n",
              "      <td>OWN</td>\n",
              "      <td>5.0</td>\n",
              "      <td>EDUCATION</td>\n",
              "      <td>B</td>\n",
              "      <td>1000</td>\n",
              "      <td>11.14</td>\n",
              "      <td>0</td>\n",
              "      <td>0.10</td>\n",
              "      <td>N</td>\n",
              "      <td>2</td>\n",
              "    </tr>\n",
              "    <tr>\n",
              "      <th>2</th>\n",
              "      <td>25</td>\n",
              "      <td>9600</td>\n",
              "      <td>MORTGAGE</td>\n",
              "      <td>1.0</td>\n",
              "      <td>MEDICAL</td>\n",
              "      <td>C</td>\n",
              "      <td>5500</td>\n",
              "      <td>12.87</td>\n",
              "      <td>1</td>\n",
              "      <td>0.57</td>\n",
              "      <td>N</td>\n",
              "      <td>3</td>\n",
              "    </tr>\n",
              "    <tr>\n",
              "      <th>3</th>\n",
              "      <td>23</td>\n",
              "      <td>65500</td>\n",
              "      <td>RENT</td>\n",
              "      <td>4.0</td>\n",
              "      <td>MEDICAL</td>\n",
              "      <td>C</td>\n",
              "      <td>35000</td>\n",
              "      <td>15.23</td>\n",
              "      <td>1</td>\n",
              "      <td>0.53</td>\n",
              "      <td>N</td>\n",
              "      <td>2</td>\n",
              "    </tr>\n",
              "    <tr>\n",
              "      <th>4</th>\n",
              "      <td>24</td>\n",
              "      <td>54400</td>\n",
              "      <td>RENT</td>\n",
              "      <td>8.0</td>\n",
              "      <td>MEDICAL</td>\n",
              "      <td>C</td>\n",
              "      <td>35000</td>\n",
              "      <td>14.27</td>\n",
              "      <td>1</td>\n",
              "      <td>0.55</td>\n",
              "      <td>Y</td>\n",
              "      <td>4</td>\n",
              "    </tr>\n",
              "  </tbody>\n",
              "</table>\n",
              "</div>"
            ],
            "text/plain": [
              "   person_age  person_income person_home_ownership  person_emp_length  \\\n",
              "0          22          59000                  RENT              123.0   \n",
              "1          21           9600                   OWN                5.0   \n",
              "2          25           9600              MORTGAGE                1.0   \n",
              "3          23          65500                  RENT                4.0   \n",
              "4          24          54400                  RENT                8.0   \n",
              "\n",
              "  loan_intent loan_grade  loan_amnt  loan_int_rate  loan_status  \\\n",
              "0    PERSONAL          D      35000          16.02            1   \n",
              "1   EDUCATION          B       1000          11.14            0   \n",
              "2     MEDICAL          C       5500          12.87            1   \n",
              "3     MEDICAL          C      35000          15.23            1   \n",
              "4     MEDICAL          C      35000          14.27            1   \n",
              "\n",
              "   loan_percent_income cb_person_default_on_file  cb_person_cred_hist_length  \n",
              "0                 0.59                         Y                           3  \n",
              "1                 0.10                         N                           2  \n",
              "2                 0.57                         N                           3  \n",
              "3                 0.53                         N                           2  \n",
              "4                 0.55                         Y                           4  "
            ]
          },
          "execution_count": 6,
          "metadata": {},
          "output_type": "execute_result"
        }
      ],
      "source": [
        "df.head()"
      ]
    },
    {
      "cell_type": "code",
      "execution_count": null,
      "id": "08bb9943",
      "metadata": {
        "id": "08bb9943",
        "outputId": "80e9c294-4138-41fc-cd8c-7f41d6b2ed91"
      },
      "outputs": [
        {
          "data": {
            "text/html": [
              "<div>\n",
              "<style scoped>\n",
              "    .dataframe tbody tr th:only-of-type {\n",
              "        vertical-align: middle;\n",
              "    }\n",
              "\n",
              "    .dataframe tbody tr th {\n",
              "        vertical-align: top;\n",
              "    }\n",
              "\n",
              "    .dataframe thead th {\n",
              "        text-align: right;\n",
              "    }\n",
              "</style>\n",
              "<table border=\"1\" class=\"dataframe\">\n",
              "  <thead>\n",
              "    <tr style=\"text-align: right;\">\n",
              "      <th></th>\n",
              "      <th>person_age</th>\n",
              "      <th>person_income</th>\n",
              "      <th>person_emp_length</th>\n",
              "      <th>loan_amnt</th>\n",
              "      <th>loan_int_rate</th>\n",
              "      <th>loan_status</th>\n",
              "      <th>loan_percent_income</th>\n",
              "      <th>cb_person_cred_hist_length</th>\n",
              "    </tr>\n",
              "  </thead>\n",
              "  <tbody>\n",
              "    <tr>\n",
              "      <th>count</th>\n",
              "      <td>32581.000000</td>\n",
              "      <td>3.258100e+04</td>\n",
              "      <td>31686.000000</td>\n",
              "      <td>32581.000000</td>\n",
              "      <td>29465.000000</td>\n",
              "      <td>32581.000000</td>\n",
              "      <td>32581.000000</td>\n",
              "      <td>32581.000000</td>\n",
              "    </tr>\n",
              "    <tr>\n",
              "      <th>mean</th>\n",
              "      <td>27.734600</td>\n",
              "      <td>6.607485e+04</td>\n",
              "      <td>4.789686</td>\n",
              "      <td>9589.371106</td>\n",
              "      <td>11.011695</td>\n",
              "      <td>0.218164</td>\n",
              "      <td>0.170203</td>\n",
              "      <td>5.804211</td>\n",
              "    </tr>\n",
              "    <tr>\n",
              "      <th>std</th>\n",
              "      <td>6.348078</td>\n",
              "      <td>6.198312e+04</td>\n",
              "      <td>4.142630</td>\n",
              "      <td>6322.086646</td>\n",
              "      <td>3.240459</td>\n",
              "      <td>0.413006</td>\n",
              "      <td>0.106782</td>\n",
              "      <td>4.055001</td>\n",
              "    </tr>\n",
              "    <tr>\n",
              "      <th>min</th>\n",
              "      <td>20.000000</td>\n",
              "      <td>4.000000e+03</td>\n",
              "      <td>0.000000</td>\n",
              "      <td>500.000000</td>\n",
              "      <td>5.420000</td>\n",
              "      <td>0.000000</td>\n",
              "      <td>0.000000</td>\n",
              "      <td>2.000000</td>\n",
              "    </tr>\n",
              "    <tr>\n",
              "      <th>25%</th>\n",
              "      <td>23.000000</td>\n",
              "      <td>3.850000e+04</td>\n",
              "      <td>2.000000</td>\n",
              "      <td>5000.000000</td>\n",
              "      <td>7.900000</td>\n",
              "      <td>0.000000</td>\n",
              "      <td>0.090000</td>\n",
              "      <td>3.000000</td>\n",
              "    </tr>\n",
              "    <tr>\n",
              "      <th>50%</th>\n",
              "      <td>26.000000</td>\n",
              "      <td>5.500000e+04</td>\n",
              "      <td>4.000000</td>\n",
              "      <td>8000.000000</td>\n",
              "      <td>10.990000</td>\n",
              "      <td>0.000000</td>\n",
              "      <td>0.150000</td>\n",
              "      <td>4.000000</td>\n",
              "    </tr>\n",
              "    <tr>\n",
              "      <th>75%</th>\n",
              "      <td>30.000000</td>\n",
              "      <td>7.920000e+04</td>\n",
              "      <td>7.000000</td>\n",
              "      <td>12200.000000</td>\n",
              "      <td>13.470000</td>\n",
              "      <td>0.000000</td>\n",
              "      <td>0.230000</td>\n",
              "      <td>8.000000</td>\n",
              "    </tr>\n",
              "    <tr>\n",
              "      <th>max</th>\n",
              "      <td>144.000000</td>\n",
              "      <td>6.000000e+06</td>\n",
              "      <td>123.000000</td>\n",
              "      <td>35000.000000</td>\n",
              "      <td>23.220000</td>\n",
              "      <td>1.000000</td>\n",
              "      <td>0.830000</td>\n",
              "      <td>30.000000</td>\n",
              "    </tr>\n",
              "  </tbody>\n",
              "</table>\n",
              "</div>"
            ],
            "text/plain": [
              "         person_age  person_income  person_emp_length     loan_amnt  \\\n",
              "count  32581.000000   3.258100e+04       31686.000000  32581.000000   \n",
              "mean      27.734600   6.607485e+04           4.789686   9589.371106   \n",
              "std        6.348078   6.198312e+04           4.142630   6322.086646   \n",
              "min       20.000000   4.000000e+03           0.000000    500.000000   \n",
              "25%       23.000000   3.850000e+04           2.000000   5000.000000   \n",
              "50%       26.000000   5.500000e+04           4.000000   8000.000000   \n",
              "75%       30.000000   7.920000e+04           7.000000  12200.000000   \n",
              "max      144.000000   6.000000e+06         123.000000  35000.000000   \n",
              "\n",
              "       loan_int_rate   loan_status  loan_percent_income  \\\n",
              "count   29465.000000  32581.000000         32581.000000   \n",
              "mean       11.011695      0.218164             0.170203   \n",
              "std         3.240459      0.413006             0.106782   \n",
              "min         5.420000      0.000000             0.000000   \n",
              "25%         7.900000      0.000000             0.090000   \n",
              "50%        10.990000      0.000000             0.150000   \n",
              "75%        13.470000      0.000000             0.230000   \n",
              "max        23.220000      1.000000             0.830000   \n",
              "\n",
              "       cb_person_cred_hist_length  \n",
              "count                32581.000000  \n",
              "mean                     5.804211  \n",
              "std                      4.055001  \n",
              "min                      2.000000  \n",
              "25%                      3.000000  \n",
              "50%                      4.000000  \n",
              "75%                      8.000000  \n",
              "max                     30.000000  "
            ]
          },
          "execution_count": 8,
          "metadata": {},
          "output_type": "execute_result"
        }
      ],
      "source": [
        "df.describe()"
      ]
    },
    {
      "cell_type": "code",
      "execution_count": null,
      "id": "84b423c2",
      "metadata": {
        "id": "84b423c2",
        "outputId": "a8fefe66-6fde-49cb-a26b-969b7cadbe19"
      },
      "outputs": [
        {
          "name": "stdout",
          "output_type": "stream",
          "text": [
            "<class 'pandas.core.frame.DataFrame'>\n",
            "RangeIndex: 32581 entries, 0 to 32580\n",
            "Data columns (total 12 columns):\n",
            " #   Column                      Non-Null Count  Dtype  \n",
            "---  ------                      --------------  -----  \n",
            " 0   person_age                  32581 non-null  int64  \n",
            " 1   person_income               32581 non-null  int64  \n",
            " 2   person_home_ownership       32581 non-null  object \n",
            " 3   person_emp_length           31686 non-null  float64\n",
            " 4   loan_intent                 32581 non-null  object \n",
            " 5   loan_grade                  32581 non-null  object \n",
            " 6   loan_amnt                   32581 non-null  int64  \n",
            " 7   loan_int_rate               29465 non-null  float64\n",
            " 8   loan_status                 32581 non-null  int64  \n",
            " 9   loan_percent_income         32581 non-null  float64\n",
            " 10  cb_person_default_on_file   32581 non-null  object \n",
            " 11  cb_person_cred_hist_length  32581 non-null  int64  \n",
            "dtypes: float64(3), int64(5), object(4)\n",
            "memory usage: 3.0+ MB\n"
          ]
        }
      ],
      "source": [
        "df.info()"
      ]
    },
    {
      "cell_type": "code",
      "execution_count": null,
      "id": "3e606bb2",
      "metadata": {
        "id": "3e606bb2",
        "outputId": "1c3d1118-295e-47f2-f75c-0e83fa033007"
      },
      "outputs": [
        {
          "data": {
            "text/html": [
              "<div>\n",
              "<style scoped>\n",
              "    .dataframe tbody tr th:only-of-type {\n",
              "        vertical-align: middle;\n",
              "    }\n",
              "\n",
              "    .dataframe tbody tr th {\n",
              "        vertical-align: top;\n",
              "    }\n",
              "\n",
              "    .dataframe thead th {\n",
              "        text-align: right;\n",
              "    }\n",
              "</style>\n",
              "<table border=\"1\" class=\"dataframe\">\n",
              "  <thead>\n",
              "    <tr style=\"text-align: right;\">\n",
              "      <th></th>\n",
              "      <th>person_age</th>\n",
              "      <th>person_income</th>\n",
              "      <th>person_home_ownership</th>\n",
              "      <th>person_emp_length</th>\n",
              "      <th>loan_intent</th>\n",
              "      <th>loan_grade</th>\n",
              "      <th>loan_amnt</th>\n",
              "      <th>loan_int_rate</th>\n",
              "      <th>loan_status</th>\n",
              "      <th>loan_percent_income</th>\n",
              "      <th>cb_person_default_on_file</th>\n",
              "      <th>cb_person_cred_hist_length</th>\n",
              "    </tr>\n",
              "  </thead>\n",
              "  <tbody>\n",
              "    <tr>\n",
              "      <th>15975</th>\n",
              "      <td>23</td>\n",
              "      <td>42000</td>\n",
              "      <td>RENT</td>\n",
              "      <td>5.0</td>\n",
              "      <td>VENTURE</td>\n",
              "      <td>B</td>\n",
              "      <td>6000</td>\n",
              "      <td>9.99</td>\n",
              "      <td>0</td>\n",
              "      <td>0.14</td>\n",
              "      <td>N</td>\n",
              "      <td>4</td>\n",
              "    </tr>\n",
              "    <tr>\n",
              "      <th>15989</th>\n",
              "      <td>23</td>\n",
              "      <td>90000</td>\n",
              "      <td>MORTGAGE</td>\n",
              "      <td>7.0</td>\n",
              "      <td>EDUCATION</td>\n",
              "      <td>B</td>\n",
              "      <td>8000</td>\n",
              "      <td>10.36</td>\n",
              "      <td>0</td>\n",
              "      <td>0.09</td>\n",
              "      <td>N</td>\n",
              "      <td>3</td>\n",
              "    </tr>\n",
              "    <tr>\n",
              "      <th>15995</th>\n",
              "      <td>24</td>\n",
              "      <td>48000</td>\n",
              "      <td>MORTGAGE</td>\n",
              "      <td>4.0</td>\n",
              "      <td>MEDICAL</td>\n",
              "      <td>A</td>\n",
              "      <td>4000</td>\n",
              "      <td>5.42</td>\n",
              "      <td>0</td>\n",
              "      <td>0.08</td>\n",
              "      <td>N</td>\n",
              "      <td>4</td>\n",
              "    </tr>\n",
              "    <tr>\n",
              "      <th>16025</th>\n",
              "      <td>24</td>\n",
              "      <td>10000</td>\n",
              "      <td>RENT</td>\n",
              "      <td>8.0</td>\n",
              "      <td>PERSONAL</td>\n",
              "      <td>A</td>\n",
              "      <td>3000</td>\n",
              "      <td>7.90</td>\n",
              "      <td>1</td>\n",
              "      <td>0.30</td>\n",
              "      <td>N</td>\n",
              "      <td>3</td>\n",
              "    </tr>\n",
              "    <tr>\n",
              "      <th>16028</th>\n",
              "      <td>23</td>\n",
              "      <td>100000</td>\n",
              "      <td>MORTGAGE</td>\n",
              "      <td>7.0</td>\n",
              "      <td>EDUCATION</td>\n",
              "      <td>A</td>\n",
              "      <td>15000</td>\n",
              "      <td>7.88</td>\n",
              "      <td>0</td>\n",
              "      <td>0.15</td>\n",
              "      <td>N</td>\n",
              "      <td>4</td>\n",
              "    </tr>\n",
              "    <tr>\n",
              "      <th>...</th>\n",
              "      <td>...</td>\n",
              "      <td>...</td>\n",
              "      <td>...</td>\n",
              "      <td>...</td>\n",
              "      <td>...</td>\n",
              "      <td>...</td>\n",
              "      <td>...</td>\n",
              "      <td>...</td>\n",
              "      <td>...</td>\n",
              "      <td>...</td>\n",
              "      <td>...</td>\n",
              "      <td>...</td>\n",
              "    </tr>\n",
              "    <tr>\n",
              "      <th>32010</th>\n",
              "      <td>42</td>\n",
              "      <td>39996</td>\n",
              "      <td>MORTGAGE</td>\n",
              "      <td>2.0</td>\n",
              "      <td>HOMEIMPROVEMENT</td>\n",
              "      <td>A</td>\n",
              "      <td>2500</td>\n",
              "      <td>5.42</td>\n",
              "      <td>0</td>\n",
              "      <td>0.06</td>\n",
              "      <td>N</td>\n",
              "      <td>12</td>\n",
              "    </tr>\n",
              "    <tr>\n",
              "      <th>32047</th>\n",
              "      <td>36</td>\n",
              "      <td>250000</td>\n",
              "      <td>RENT</td>\n",
              "      <td>2.0</td>\n",
              "      <td>DEBTCONSOLIDATION</td>\n",
              "      <td>A</td>\n",
              "      <td>20000</td>\n",
              "      <td>7.88</td>\n",
              "      <td>0</td>\n",
              "      <td>0.08</td>\n",
              "      <td>N</td>\n",
              "      <td>17</td>\n",
              "    </tr>\n",
              "    <tr>\n",
              "      <th>32172</th>\n",
              "      <td>49</td>\n",
              "      <td>120000</td>\n",
              "      <td>MORTGAGE</td>\n",
              "      <td>12.0</td>\n",
              "      <td>MEDICAL</td>\n",
              "      <td>B</td>\n",
              "      <td>12000</td>\n",
              "      <td>10.99</td>\n",
              "      <td>0</td>\n",
              "      <td>0.10</td>\n",
              "      <td>N</td>\n",
              "      <td>12</td>\n",
              "    </tr>\n",
              "    <tr>\n",
              "      <th>32259</th>\n",
              "      <td>39</td>\n",
              "      <td>40000</td>\n",
              "      <td>OWN</td>\n",
              "      <td>4.0</td>\n",
              "      <td>VENTURE</td>\n",
              "      <td>B</td>\n",
              "      <td>1000</td>\n",
              "      <td>10.37</td>\n",
              "      <td>0</td>\n",
              "      <td>0.03</td>\n",
              "      <td>N</td>\n",
              "      <td>16</td>\n",
              "    </tr>\n",
              "    <tr>\n",
              "      <th>32279</th>\n",
              "      <td>43</td>\n",
              "      <td>11340</td>\n",
              "      <td>RENT</td>\n",
              "      <td>4.0</td>\n",
              "      <td>EDUCATION</td>\n",
              "      <td>C</td>\n",
              "      <td>1950</td>\n",
              "      <td>NaN</td>\n",
              "      <td>1</td>\n",
              "      <td>0.17</td>\n",
              "      <td>N</td>\n",
              "      <td>11</td>\n",
              "    </tr>\n",
              "  </tbody>\n",
              "</table>\n",
              "<p>165 rows × 12 columns</p>\n",
              "</div>"
            ],
            "text/plain": [
              "       person_age  person_income person_home_ownership  person_emp_length  \\\n",
              "15975          23          42000                  RENT                5.0   \n",
              "15989          23          90000              MORTGAGE                7.0   \n",
              "15995          24          48000              MORTGAGE                4.0   \n",
              "16025          24          10000                  RENT                8.0   \n",
              "16028          23         100000              MORTGAGE                7.0   \n",
              "...           ...            ...                   ...                ...   \n",
              "32010          42          39996              MORTGAGE                2.0   \n",
              "32047          36         250000                  RENT                2.0   \n",
              "32172          49         120000              MORTGAGE               12.0   \n",
              "32259          39          40000                   OWN                4.0   \n",
              "32279          43          11340                  RENT                4.0   \n",
              "\n",
              "             loan_intent loan_grade  loan_amnt  loan_int_rate  loan_status  \\\n",
              "15975            VENTURE          B       6000           9.99            0   \n",
              "15989          EDUCATION          B       8000          10.36            0   \n",
              "15995            MEDICAL          A       4000           5.42            0   \n",
              "16025           PERSONAL          A       3000           7.90            1   \n",
              "16028          EDUCATION          A      15000           7.88            0   \n",
              "...                  ...        ...        ...            ...          ...   \n",
              "32010    HOMEIMPROVEMENT          A       2500           5.42            0   \n",
              "32047  DEBTCONSOLIDATION          A      20000           7.88            0   \n",
              "32172            MEDICAL          B      12000          10.99            0   \n",
              "32259            VENTURE          B       1000          10.37            0   \n",
              "32279          EDUCATION          C       1950            NaN            1   \n",
              "\n",
              "       loan_percent_income cb_person_default_on_file  \\\n",
              "15975                 0.14                         N   \n",
              "15989                 0.09                         N   \n",
              "15995                 0.08                         N   \n",
              "16025                 0.30                         N   \n",
              "16028                 0.15                         N   \n",
              "...                    ...                       ...   \n",
              "32010                 0.06                         N   \n",
              "32047                 0.08                         N   \n",
              "32172                 0.10                         N   \n",
              "32259                 0.03                         N   \n",
              "32279                 0.17                         N   \n",
              "\n",
              "       cb_person_cred_hist_length  \n",
              "15975                           4  \n",
              "15989                           3  \n",
              "15995                           4  \n",
              "16025                           3  \n",
              "16028                           4  \n",
              "...                           ...  \n",
              "32010                          12  \n",
              "32047                          17  \n",
              "32172                          12  \n",
              "32259                          16  \n",
              "32279                          11  \n",
              "\n",
              "[165 rows x 12 columns]"
            ]
          },
          "execution_count": 10,
          "metadata": {},
          "output_type": "execute_result"
        }
      ],
      "source": [
        "# checking for duplicated rows\n",
        "df[df.duplicated()]"
      ]
    },
    {
      "cell_type": "code",
      "execution_count": 7,
      "id": "aa32570d",
      "metadata": {
        "colab": {
          "base_uri": "https://localhost:8080/"
        },
        "id": "aa32570d",
        "outputId": "035f285e-d6e4-478b-b0ce-227b004dc072"
      },
      "outputs": [
        {
          "output_type": "execute_result",
          "data": {
            "text/plain": [
              "np.int64(0)"
            ]
          },
          "metadata": {},
          "execution_count": 7
        }
      ],
      "source": [
        "# dropping duplicated rows\n",
        "df.drop_duplicates(inplace=True)\n",
        "df.duplicated().sum()"
      ]
    },
    {
      "cell_type": "code",
      "execution_count": null,
      "id": "79ef468c",
      "metadata": {
        "id": "79ef468c",
        "outputId": "a9c301f5-df8c-41be-80ba-316678b298c4"
      },
      "outputs": [
        {
          "data": {
            "text/plain": [
              "loan_status\n",
              "0    25327\n",
              "1     7089\n",
              "Name: count, dtype: int64"
            ]
          },
          "execution_count": 12,
          "metadata": {},
          "output_type": "execute_result"
        }
      ],
      "source": [
        "# target class distribution\n",
        "df[\"loan_status\"].value_counts()"
      ]
    },
    {
      "cell_type": "code",
      "execution_count": 8,
      "id": "a1d17741",
      "metadata": {
        "id": "a1d17741"
      },
      "outputs": [],
      "source": [
        "# replacing empty values with numpy nan\n",
        "df.replace(\"\",np.nan,inplace=True)"
      ]
    },
    {
      "cell_type": "code",
      "execution_count": null,
      "id": "b42cc7ae",
      "metadata": {
        "id": "b42cc7ae",
        "outputId": "70fdd23f-f4e4-4a7e-cfac-de6c342eb670"
      },
      "outputs": [
        {
          "data": {
            "text/plain": [
              "Index(['person_emp_length', 'loan_int_rate'], dtype='object')"
            ]
          },
          "execution_count": 14,
          "metadata": {},
          "output_type": "execute_result"
        }
      ],
      "source": [
        "# checking for null values in any column\n",
        "df.columns[df.isnull().sum()>0]"
      ]
    },
    {
      "cell_type": "code",
      "execution_count": 9,
      "id": "825c3edf",
      "metadata": {
        "id": "825c3edf"
      },
      "outputs": [],
      "source": [
        "# dropping rows which contain null values\n",
        "df.dropna(subset=['person_emp_length', 'loan_int_rate'],inplace=True)"
      ]
    },
    {
      "cell_type": "code",
      "execution_count": 10,
      "id": "fe2b6617",
      "metadata": {
        "id": "fe2b6617"
      },
      "outputs": [],
      "source": [
        "# deleting one column which is unnecessary loan_percent_income=(loan_amnt/person_income)*100\n",
        "del df[\"loan_percent_income\"]"
      ]
    },
    {
      "cell_type": "markdown",
      "source": [
        "## Outliers"
      ],
      "metadata": {
        "id": "CKjZ55h2oHoz"
      },
      "id": "CKjZ55h2oHoz"
    },
    {
      "cell_type": "code",
      "source": [
        "for col in df.columns:\n",
        "  print(df[col].value_counts())"
      ],
      "metadata": {
        "colab": {
          "base_uri": "https://localhost:8080/"
        },
        "id": "b_X3Aeseo_DG",
        "outputId": "acf0e70a-415e-4676-db43-fbbc501c4024"
      },
      "id": "b_X3Aeseo_DG",
      "execution_count": 12,
      "outputs": [
        {
          "output_type": "stream",
          "name": "stdout",
          "text": [
            "person_age\n",
            "23     3390\n",
            "22     3144\n",
            "24     3109\n",
            "25     2686\n",
            "26     2188\n",
            "27     1880\n",
            "28     1619\n",
            "29     1488\n",
            "30     1122\n",
            "21     1048\n",
            "31     1006\n",
            "32      857\n",
            "33      757\n",
            "34      624\n",
            "35      558\n",
            "36      481\n",
            "37      409\n",
            "38      321\n",
            "39      269\n",
            "40      235\n",
            "41      218\n",
            "42      164\n",
            "43      142\n",
            "44      116\n",
            "45       91\n",
            "46       86\n",
            "47       76\n",
            "48       65\n",
            "50       45\n",
            "49       40\n",
            "51       33\n",
            "52       33\n",
            "53       26\n",
            "54       21\n",
            "55       18\n",
            "58       17\n",
            "57       15\n",
            "20       14\n",
            "56       14\n",
            "60       13\n",
            "61        8\n",
            "66        8\n",
            "64        7\n",
            "62        6\n",
            "65        5\n",
            "69        5\n",
            "70        5\n",
            "59        5\n",
            "144       3\n",
            "63        3\n",
            "73        2\n",
            "123       1\n",
            "78        1\n",
            "80        1\n",
            "84        1\n",
            "76        1\n",
            "67        1\n",
            "Name: count, dtype: int64\n",
            "person_income\n",
            "60000      919\n",
            "30000      726\n",
            "50000      672\n",
            "40000      582\n",
            "45000      531\n",
            "          ... \n",
            "10636        1\n",
            "46680        1\n",
            "6000000      1\n",
            "667680       1\n",
            "108350       1\n",
            "Name: count, Length: 3835, dtype: int64\n",
            "person_home_ownership\n",
            "RENT        14498\n",
            "MORTGAGE    11736\n",
            "OWN          2174\n",
            "OTHER          93\n",
            "Name: count, dtype: int64\n",
            "person_emp_length\n",
            "0.0      3690\n",
            "2.0      3453\n",
            "3.0      3121\n",
            "5.0      2696\n",
            "1.0      2629\n",
            "4.0      2561\n",
            "6.0      2382\n",
            "7.0      1963\n",
            "8.0      1525\n",
            "9.0      1221\n",
            "11.0      660\n",
            "10.0      628\n",
            "12.0      515\n",
            "13.0      380\n",
            "14.0      305\n",
            "15.0      213\n",
            "16.0      152\n",
            "17.0      114\n",
            "18.0       96\n",
            "19.0       61\n",
            "20.0       36\n",
            "21.0       33\n",
            "22.0       18\n",
            "23.0       10\n",
            "25.0        8\n",
            "24.0        8\n",
            "27.0        5\n",
            "26.0        4\n",
            "31.0        4\n",
            "123.0       2\n",
            "28.0        2\n",
            "30.0        2\n",
            "41.0        1\n",
            "34.0        1\n",
            "29.0        1\n",
            "38.0        1\n",
            "Name: count, dtype: int64\n",
            "loan_intent\n",
            "EDUCATION            5670\n",
            "MEDICAL              5269\n",
            "VENTURE              4969\n",
            "PERSONAL             4859\n",
            "DEBTCONSOLIDATION    4547\n",
            "HOMEIMPROVEMENT      3187\n",
            "Name: count, dtype: int64\n",
            "loan_grade\n",
            "A    9345\n",
            "B    9094\n",
            "C    5682\n",
            "D    3243\n",
            "E     869\n",
            "F     209\n",
            "G      59\n",
            "Name: count, dtype: int64\n",
            "loan_amnt\n",
            "10000    2321\n",
            "5000     1770\n",
            "6000     1591\n",
            "12000    1581\n",
            "15000    1337\n",
            "         ... \n",
            "20700       1\n",
            "32500       1\n",
            "15575       1\n",
            "34800       1\n",
            "19275       1\n",
            "Name: count, Length: 728, dtype: int64\n",
            "loan_int_rate\n",
            "10.99    730\n",
            "7.51     724\n",
            "7.88     618\n",
            "7.49     618\n",
            "7.90     547\n",
            "        ... \n",
            "23.22      1\n",
            "16.71      1\n",
            "18.54      1\n",
            "20.69      1\n",
            "20.53      1\n",
            "Name: count, Length: 348, dtype: int64\n",
            "cb_person_default_on_file\n",
            "N    23411\n",
            "Y     5090\n",
            "Name: count, dtype: int64\n",
            "cb_person_cred_hist_length\n",
            "3     5201\n",
            "2     5192\n",
            "4     5189\n",
            "7     1670\n",
            "8     1659\n",
            "9     1659\n",
            "5     1656\n",
            "6     1635\n",
            "10    1632\n",
            "14     436\n",
            "12     424\n",
            "11     410\n",
            "13     387\n",
            "16     385\n",
            "15     370\n",
            "17     346\n",
            "20      29\n",
            "24      27\n",
            "28      22\n",
            "22      21\n",
            "30      19\n",
            "23      19\n",
            "21      18\n",
            "27      18\n",
            "19      18\n",
            "25      17\n",
            "26      16\n",
            "18      15\n",
            "29      11\n",
            "Name: count, dtype: int64\n"
          ]
        }
      ]
    },
    {
      "cell_type": "code",
      "source": [
        "# beyond age=84 there are ages like 144 and 123 which are clearly outliers\n",
        "(df[\"person_age\"]>100).sum()"
      ],
      "metadata": {
        "colab": {
          "base_uri": "https://localhost:8080/"
        },
        "id": "QgucSkvlHLy2",
        "outputId": "1703ce74-bfd8-4aa9-d3ab-869e7b999d7d"
      },
      "execution_count": 14,
      "outputs": [
        {
          "output_type": "execute_result",
          "data": {
            "text/plain": [
              "np.int64(4)"
            ]
          },
          "metadata": {},
          "execution_count": 14
        }
      ],
      "id": "QgucSkvlHLy2"
    },
    {
      "cell_type": "code",
      "source": [
        "# there are some cases which have retirement time greater than 100\n",
        "(df[\"person_emp_length\"]>100).sum()"
      ],
      "metadata": {
        "colab": {
          "base_uri": "https://localhost:8080/"
        },
        "id": "co5kCZhmI_VH",
        "outputId": "21d957b5-c567-482d-b9e5-56170ab6ce26"
      },
      "execution_count": 15,
      "outputs": [
        {
          "output_type": "execute_result",
          "data": {
            "text/plain": [
              "np.int64(2)"
            ]
          },
          "metadata": {},
          "execution_count": 15
        }
      ],
      "id": "co5kCZhmI_VH"
    },
    {
      "cell_type": "code",
      "source": [
        "df=df[df[\"person_age\"]<=100]"
      ],
      "metadata": {
        "id": "imcJ5YadHYFO"
      },
      "id": "imcJ5YadHYFO",
      "execution_count": 79,
      "outputs": []
    },
    {
      "cell_type": "code",
      "source": [
        "df=df[df[\"person_emp_length\"]<=80]"
      ],
      "metadata": {
        "id": "DmKwYv92JMmW"
      },
      "id": "DmKwYv92JMmW",
      "execution_count": 80,
      "outputs": []
    },
    {
      "cell_type": "code",
      "source": [
        "# for less memory usage and faster training i converted dtype from float64 to float32 and int64 to int8\n",
        "for col in df.select_dtypes(include=\"float64\"):\n",
        "  df[col]=df[col].astype(\"float32\")\n",
        "for col in df.select_dtypes(include=\"int64\"):\n",
        "  df[col]=df[col].astype(\"int32\")"
      ],
      "metadata": {
        "id": "L6-kwSzmKb1Y"
      },
      "id": "L6-kwSzmKb1Y",
      "execution_count": 82,
      "outputs": []
    },
    {
      "cell_type": "code",
      "source": [
        "# separating output labels from features\n",
        "y=df[\"loan_status\"]\n",
        "df=df.drop(\"loan_status\",axis=1)"
      ],
      "metadata": {
        "id": "z-2o1S6UKCEW"
      },
      "id": "z-2o1S6UKCEW",
      "execution_count": 11,
      "outputs": []
    },
    {
      "cell_type": "code",
      "source": [
        "y[df[\"person_home_ownership\"]==\"OTHER\"].value_counts(normalize=True)"
      ],
      "metadata": {
        "colab": {
          "base_uri": "https://localhost:8080/",
          "height": 178
        },
        "id": "If3SVIxJLtw8",
        "outputId": "6518c8a3-1cac-411e-b605-26d3a3bb55a3"
      },
      "id": "If3SVIxJLtw8",
      "execution_count": 83,
      "outputs": [
        {
          "output_type": "execute_result",
          "data": {
            "text/plain": [
              "loan_status\n",
              "0    0.709677\n",
              "1    0.290323\n",
              "Name: proportion, dtype: float64"
            ],
            "text/html": [
              "<div>\n",
              "<style scoped>\n",
              "    .dataframe tbody tr th:only-of-type {\n",
              "        vertical-align: middle;\n",
              "    }\n",
              "\n",
              "    .dataframe tbody tr th {\n",
              "        vertical-align: top;\n",
              "    }\n",
              "\n",
              "    .dataframe thead th {\n",
              "        text-align: right;\n",
              "    }\n",
              "</style>\n",
              "<table border=\"1\" class=\"dataframe\">\n",
              "  <thead>\n",
              "    <tr style=\"text-align: right;\">\n",
              "      <th></th>\n",
              "      <th>proportion</th>\n",
              "    </tr>\n",
              "    <tr>\n",
              "      <th>loan_status</th>\n",
              "      <th></th>\n",
              "    </tr>\n",
              "  </thead>\n",
              "  <tbody>\n",
              "    <tr>\n",
              "      <th>0</th>\n",
              "      <td>0.709677</td>\n",
              "    </tr>\n",
              "    <tr>\n",
              "      <th>1</th>\n",
              "      <td>0.290323</td>\n",
              "    </tr>\n",
              "  </tbody>\n",
              "</table>\n",
              "</div><br><label><b>dtype:</b> float64</label>"
            ]
          },
          "metadata": {},
          "execution_count": 83
        }
      ]
    },
    {
      "cell_type": "markdown",
      "source": [
        "# Encoding by Pipeline"
      ],
      "metadata": {
        "id": "mcSxlJBFFnZM"
      },
      "id": "mcSxlJBFFnZM"
    },
    {
      "cell_type": "code",
      "source": [
        "onehot_cols=[\"person_home_ownership\",\"loan_intent\",\"cb_person_default_on_file\"]\n",
        "ordinal_cols=[\"loan_grade\"]\n",
        "numerical_cols=[\"person_age\",\"person_income\",\"person_emp_length\",\"loan_amnt\",\"loan_int_rate\",\"cb_person_cred_hist_length\"]"
      ],
      "metadata": {
        "id": "l7F7nAjfNBHg"
      },
      "id": "l7F7nAjfNBHg",
      "execution_count": 65,
      "outputs": []
    },
    {
      "cell_type": "code",
      "source": [
        "preprocessor=ColumnTransformer(\n",
        "    transformers=[\n",
        "        (\"onehot\",OneHotEncoder(drop=\"first\",sparse_output=False),onehot_cols),\n",
        "        (\"ordinal\",OrdinalEncoder(),ordinal_cols),\n",
        "        (\"numerical\",StandardScaler(),numerical_cols)\n",
        "    ],\n",
        "    remainder=\"drop\" #drop any other columns not listed\n",
        ")"
      ],
      "metadata": {
        "id": "NpxaJ5eaOE_d"
      },
      "id": "NpxaJ5eaOE_d",
      "execution_count": 66,
      "outputs": []
    },
    {
      "cell_type": "code",
      "source": [
        "pipeline=Pipeline(\n",
        "    steps=[\n",
        "        (\"preprocessor\",preprocessor),\n",
        "        (\"smote\",SMOTE(random_state=42))\n",
        "    ]\n",
        ")"
      ],
      "metadata": {
        "id": "Vv6y2BmCO5qp"
      },
      "id": "Vv6y2BmCO5qp",
      "execution_count": 90,
      "outputs": []
    },
    {
      "cell_type": "code",
      "source": [
        "# If you run the pipeline on the full dataset before splitting, steps like scaling or encoding will see the test data.\n",
        "# This causes data leakage, leading to unrealistic, overly optimistic model performance.\n",
        "x_train,x_test,y_train,y_test= train_test_split(df,y,test_size=0.2,stratify=y,random_state=42)"
      ],
      "metadata": {
        "id": "mNbqVHz-PkYJ"
      },
      "id": "mNbqVHz-PkYJ",
      "execution_count": 84,
      "outputs": []
    },
    {
      "cell_type": "code",
      "source": [
        "y_train.value_counts(normalize=True),y_test.value_counts(normalize=True)"
      ],
      "metadata": {
        "colab": {
          "base_uri": "https://localhost:8080/"
        },
        "id": "54Hd8E_9RDWh",
        "outputId": "2c2316d0-33b5-4f4c-f340-455125efe75b"
      },
      "id": "54Hd8E_9RDWh",
      "execution_count": 85,
      "outputs": [
        {
          "output_type": "execute_result",
          "data": {
            "text/plain": [
              "(loan_status\n",
              " 0    0.782857\n",
              " 1    0.217143\n",
              " Name: proportion, dtype: float64,\n",
              " loan_status\n",
              " 0    0.782944\n",
              " 1    0.217056\n",
              " Name: proportion, dtype: float64)"
            ]
          },
          "metadata": {},
          "execution_count": 85
        }
      ]
    },
    {
      "cell_type": "code",
      "source": [
        "x_res,y_res=pipeline.fit_resample(x_train,y_train)"
      ],
      "metadata": {
        "id": "PK-hNLEORw9M"
      },
      "id": "PK-hNLEORw9M",
      "execution_count": 91,
      "outputs": []
    },
    {
      "cell_type": "code",
      "source": [
        "x_test = pipeline.named_steps['preprocessor'].transform(x_test)"
      ],
      "metadata": {
        "id": "F0k_YwBETJr9"
      },
      "id": "F0k_YwBETJr9",
      "execution_count": 93,
      "outputs": []
    },
    {
      "cell_type": "code",
      "source": [
        "onehot_cols_names=pipeline.named_steps[\"preprocessor\"]\\\n",
        "                        .named_transformers_[\"onehot\"]\\\n",
        "                        .get_feature_names_out(onehot_cols)"
      ],
      "metadata": {
        "id": "lXD2HUORT9fr"
      },
      "id": "lXD2HUORT9fr",
      "execution_count": 97,
      "outputs": []
    },
    {
      "cell_type": "code",
      "source": [
        "#combine all feature names\n",
        "final_features_names=np.concatenate([onehot_cols_names,ordinal_cols,numerical_cols])"
      ],
      "metadata": {
        "id": "mdFo3xGKTdSS"
      },
      "id": "mdFo3xGKTdSS",
      "execution_count": 98,
      "outputs": []
    },
    {
      "cell_type": "code",
      "source": [
        "x_res=pd.DataFrame(x_res,columns=final_features_names)"
      ],
      "metadata": {
        "id": "064IQeTMTtCS"
      },
      "id": "064IQeTMTtCS",
      "execution_count": 99,
      "outputs": []
    },
    {
      "cell_type": "code",
      "source": [
        "x_test=pd.DataFrame(x_test,columns=final_features_names)"
      ],
      "metadata": {
        "id": "pOOcU-ZHUBua"
      },
      "id": "pOOcU-ZHUBua",
      "execution_count": 100,
      "outputs": []
    },
    {
      "cell_type": "code",
      "source": [
        "x_res"
      ],
      "metadata": {
        "colab": {
          "base_uri": "https://localhost:8080/",
          "height": 444
        },
        "id": "lrCI4gXuUMZY",
        "outputId": "42f1d352-6c4d-4560-b0f1-7b2bbc86d11c"
      },
      "id": "lrCI4gXuUMZY",
      "execution_count": 101,
      "outputs": [
        {
          "output_type": "execute_result",
          "data": {
            "text/plain": [
              "       person_home_ownership_OTHER  person_home_ownership_OWN  \\\n",
              "0                              0.0                        0.0   \n",
              "1                              0.0                        0.0   \n",
              "2                              0.0                        0.0   \n",
              "3                              0.0                        0.0   \n",
              "4                              0.0                        0.0   \n",
              "...                            ...                        ...   \n",
              "35687                          0.0                        0.0   \n",
              "35688                          0.0                        0.0   \n",
              "35689                          0.0                        0.0   \n",
              "35690                          0.0                        1.0   \n",
              "35691                          0.0                        0.0   \n",
              "\n",
              "       person_home_ownership_RENT  loan_intent_EDUCATION  \\\n",
              "0                             0.0                    0.0   \n",
              "1                             0.0                    1.0   \n",
              "2                             1.0                    0.0   \n",
              "3                             0.0                    0.0   \n",
              "4                             1.0                    0.0   \n",
              "...                           ...                    ...   \n",
              "35687                         1.0                    0.0   \n",
              "35688                         1.0                    0.0   \n",
              "35689                         1.0                    0.0   \n",
              "35690                         0.0                    0.0   \n",
              "35691                         1.0                    0.0   \n",
              "\n",
              "       loan_intent_HOMEIMPROVEMENT  loan_intent_MEDICAL  loan_intent_PERSONAL  \\\n",
              "0                              0.0                  0.0                   0.0   \n",
              "1                              0.0                  0.0                   0.0   \n",
              "2                              0.0                  0.0                   0.0   \n",
              "3                              0.0                  0.0                   0.0   \n",
              "4                              0.0                  0.0                   0.0   \n",
              "...                            ...                  ...                   ...   \n",
              "35687                          0.0                  1.0                   0.0   \n",
              "35688                          0.0                  0.0                   1.0   \n",
              "35689                          0.0                  0.0                   0.0   \n",
              "35690                          0.0                  0.0                   0.0   \n",
              "35691                          0.0                  0.0                   0.0   \n",
              "\n",
              "       loan_intent_VENTURE  cb_person_default_on_file_Y  loan_grade  \\\n",
              "0                      0.0                          0.0    1.000000   \n",
              "1                      0.0                          0.0    0.000000   \n",
              "2                      0.0                          0.0    3.000000   \n",
              "3                      0.0                          0.0    1.000000   \n",
              "4                      0.0                          1.0    2.000000   \n",
              "...                    ...                          ...         ...   \n",
              "35687                  0.0                          0.0    3.000000   \n",
              "35688                  0.0                          0.0    3.039244   \n",
              "35689                  0.0                          0.0    3.000000   \n",
              "35690                  1.0                          0.0    2.000000   \n",
              "35691                  0.0                          1.0    3.000000   \n",
              "\n",
              "       person_age  person_income  person_emp_length  loan_amnt  loan_int_rate  \\\n",
              "0       -0.440014       0.573865           1.056437   1.357843       0.017939   \n",
              "1        1.521858      -0.730708           0.309143  -1.239575      -1.324539   \n",
              "2        0.867901      -0.624410           3.049221   0.240717       1.206110   \n",
              "3       -0.440014       1.520888          -0.438151   2.423653       0.095093   \n",
              "4       -0.113035      -0.489121          -0.438151  -0.418506       0.517897   \n",
              "...           ...            ...                ...        ...            ...   \n",
              "35687   -0.675052      -0.285482          -0.718319   0.755879       1.346573   \n",
              "35688   -0.766993       0.162427           0.279817   2.263122       0.595670   \n",
              "35689   -0.749410       0.490104           0.558241  -0.627347       1.635809   \n",
              "35690   -1.093971      -1.023429          -1.057317  -0.777718       0.664103   \n",
              "35691   -0.327336       0.104841           1.150701  -0.897539       1.274174   \n",
              "\n",
              "       cb_person_cred_hist_length  \n",
              "0                       -0.443593  \n",
              "1                        1.552193  \n",
              "2                        0.554300  \n",
              "3                       -0.693067  \n",
              "4                       -0.194120  \n",
              "...                           ...  \n",
              "35687                   -0.443593  \n",
              "35688                   -0.922959  \n",
              "35689                   -0.443593  \n",
              "35690                   -0.507754  \n",
              "35691                   -0.615533  \n",
              "\n",
              "[35692 rows x 16 columns]"
            ],
            "text/html": [
              "\n",
              "  <div id=\"df-0b6e3f01-eff2-44a7-9f43-7166d009d756\" class=\"colab-df-container\">\n",
              "    <div>\n",
              "<style scoped>\n",
              "    .dataframe tbody tr th:only-of-type {\n",
              "        vertical-align: middle;\n",
              "    }\n",
              "\n",
              "    .dataframe tbody tr th {\n",
              "        vertical-align: top;\n",
              "    }\n",
              "\n",
              "    .dataframe thead th {\n",
              "        text-align: right;\n",
              "    }\n",
              "</style>\n",
              "<table border=\"1\" class=\"dataframe\">\n",
              "  <thead>\n",
              "    <tr style=\"text-align: right;\">\n",
              "      <th></th>\n",
              "      <th>person_home_ownership_OTHER</th>\n",
              "      <th>person_home_ownership_OWN</th>\n",
              "      <th>person_home_ownership_RENT</th>\n",
              "      <th>loan_intent_EDUCATION</th>\n",
              "      <th>loan_intent_HOMEIMPROVEMENT</th>\n",
              "      <th>loan_intent_MEDICAL</th>\n",
              "      <th>loan_intent_PERSONAL</th>\n",
              "      <th>loan_intent_VENTURE</th>\n",
              "      <th>cb_person_default_on_file_Y</th>\n",
              "      <th>loan_grade</th>\n",
              "      <th>person_age</th>\n",
              "      <th>person_income</th>\n",
              "      <th>person_emp_length</th>\n",
              "      <th>loan_amnt</th>\n",
              "      <th>loan_int_rate</th>\n",
              "      <th>cb_person_cred_hist_length</th>\n",
              "    </tr>\n",
              "  </thead>\n",
              "  <tbody>\n",
              "    <tr>\n",
              "      <th>0</th>\n",
              "      <td>0.0</td>\n",
              "      <td>0.0</td>\n",
              "      <td>0.0</td>\n",
              "      <td>0.0</td>\n",
              "      <td>0.0</td>\n",
              "      <td>0.0</td>\n",
              "      <td>0.0</td>\n",
              "      <td>0.0</td>\n",
              "      <td>0.0</td>\n",
              "      <td>1.000000</td>\n",
              "      <td>-0.440014</td>\n",
              "      <td>0.573865</td>\n",
              "      <td>1.056437</td>\n",
              "      <td>1.357843</td>\n",
              "      <td>0.017939</td>\n",
              "      <td>-0.443593</td>\n",
              "    </tr>\n",
              "    <tr>\n",
              "      <th>1</th>\n",
              "      <td>0.0</td>\n",
              "      <td>0.0</td>\n",
              "      <td>0.0</td>\n",
              "      <td>1.0</td>\n",
              "      <td>0.0</td>\n",
              "      <td>0.0</td>\n",
              "      <td>0.0</td>\n",
              "      <td>0.0</td>\n",
              "      <td>0.0</td>\n",
              "      <td>0.000000</td>\n",
              "      <td>1.521858</td>\n",
              "      <td>-0.730708</td>\n",
              "      <td>0.309143</td>\n",
              "      <td>-1.239575</td>\n",
              "      <td>-1.324539</td>\n",
              "      <td>1.552193</td>\n",
              "    </tr>\n",
              "    <tr>\n",
              "      <th>2</th>\n",
              "      <td>0.0</td>\n",
              "      <td>0.0</td>\n",
              "      <td>1.0</td>\n",
              "      <td>0.0</td>\n",
              "      <td>0.0</td>\n",
              "      <td>0.0</td>\n",
              "      <td>0.0</td>\n",
              "      <td>0.0</td>\n",
              "      <td>0.0</td>\n",
              "      <td>3.000000</td>\n",
              "      <td>0.867901</td>\n",
              "      <td>-0.624410</td>\n",
              "      <td>3.049221</td>\n",
              "      <td>0.240717</td>\n",
              "      <td>1.206110</td>\n",
              "      <td>0.554300</td>\n",
              "    </tr>\n",
              "    <tr>\n",
              "      <th>3</th>\n",
              "      <td>0.0</td>\n",
              "      <td>0.0</td>\n",
              "      <td>0.0</td>\n",
              "      <td>0.0</td>\n",
              "      <td>0.0</td>\n",
              "      <td>0.0</td>\n",
              "      <td>0.0</td>\n",
              "      <td>0.0</td>\n",
              "      <td>0.0</td>\n",
              "      <td>1.000000</td>\n",
              "      <td>-0.440014</td>\n",
              "      <td>1.520888</td>\n",
              "      <td>-0.438151</td>\n",
              "      <td>2.423653</td>\n",
              "      <td>0.095093</td>\n",
              "      <td>-0.693067</td>\n",
              "    </tr>\n",
              "    <tr>\n",
              "      <th>4</th>\n",
              "      <td>0.0</td>\n",
              "      <td>0.0</td>\n",
              "      <td>1.0</td>\n",
              "      <td>0.0</td>\n",
              "      <td>0.0</td>\n",
              "      <td>0.0</td>\n",
              "      <td>0.0</td>\n",
              "      <td>0.0</td>\n",
              "      <td>1.0</td>\n",
              "      <td>2.000000</td>\n",
              "      <td>-0.113035</td>\n",
              "      <td>-0.489121</td>\n",
              "      <td>-0.438151</td>\n",
              "      <td>-0.418506</td>\n",
              "      <td>0.517897</td>\n",
              "      <td>-0.194120</td>\n",
              "    </tr>\n",
              "    <tr>\n",
              "      <th>...</th>\n",
              "      <td>...</td>\n",
              "      <td>...</td>\n",
              "      <td>...</td>\n",
              "      <td>...</td>\n",
              "      <td>...</td>\n",
              "      <td>...</td>\n",
              "      <td>...</td>\n",
              "      <td>...</td>\n",
              "      <td>...</td>\n",
              "      <td>...</td>\n",
              "      <td>...</td>\n",
              "      <td>...</td>\n",
              "      <td>...</td>\n",
              "      <td>...</td>\n",
              "      <td>...</td>\n",
              "      <td>...</td>\n",
              "    </tr>\n",
              "    <tr>\n",
              "      <th>35687</th>\n",
              "      <td>0.0</td>\n",
              "      <td>0.0</td>\n",
              "      <td>1.0</td>\n",
              "      <td>0.0</td>\n",
              "      <td>0.0</td>\n",
              "      <td>1.0</td>\n",
              "      <td>0.0</td>\n",
              "      <td>0.0</td>\n",
              "      <td>0.0</td>\n",
              "      <td>3.000000</td>\n",
              "      <td>-0.675052</td>\n",
              "      <td>-0.285482</td>\n",
              "      <td>-0.718319</td>\n",
              "      <td>0.755879</td>\n",
              "      <td>1.346573</td>\n",
              "      <td>-0.443593</td>\n",
              "    </tr>\n",
              "    <tr>\n",
              "      <th>35688</th>\n",
              "      <td>0.0</td>\n",
              "      <td>0.0</td>\n",
              "      <td>1.0</td>\n",
              "      <td>0.0</td>\n",
              "      <td>0.0</td>\n",
              "      <td>0.0</td>\n",
              "      <td>1.0</td>\n",
              "      <td>0.0</td>\n",
              "      <td>0.0</td>\n",
              "      <td>3.039244</td>\n",
              "      <td>-0.766993</td>\n",
              "      <td>0.162427</td>\n",
              "      <td>0.279817</td>\n",
              "      <td>2.263122</td>\n",
              "      <td>0.595670</td>\n",
              "      <td>-0.922959</td>\n",
              "    </tr>\n",
              "    <tr>\n",
              "      <th>35689</th>\n",
              "      <td>0.0</td>\n",
              "      <td>0.0</td>\n",
              "      <td>1.0</td>\n",
              "      <td>0.0</td>\n",
              "      <td>0.0</td>\n",
              "      <td>0.0</td>\n",
              "      <td>0.0</td>\n",
              "      <td>0.0</td>\n",
              "      <td>0.0</td>\n",
              "      <td>3.000000</td>\n",
              "      <td>-0.749410</td>\n",
              "      <td>0.490104</td>\n",
              "      <td>0.558241</td>\n",
              "      <td>-0.627347</td>\n",
              "      <td>1.635809</td>\n",
              "      <td>-0.443593</td>\n",
              "    </tr>\n",
              "    <tr>\n",
              "      <th>35690</th>\n",
              "      <td>0.0</td>\n",
              "      <td>1.0</td>\n",
              "      <td>0.0</td>\n",
              "      <td>0.0</td>\n",
              "      <td>0.0</td>\n",
              "      <td>0.0</td>\n",
              "      <td>0.0</td>\n",
              "      <td>1.0</td>\n",
              "      <td>0.0</td>\n",
              "      <td>2.000000</td>\n",
              "      <td>-1.093971</td>\n",
              "      <td>-1.023429</td>\n",
              "      <td>-1.057317</td>\n",
              "      <td>-0.777718</td>\n",
              "      <td>0.664103</td>\n",
              "      <td>-0.507754</td>\n",
              "    </tr>\n",
              "    <tr>\n",
              "      <th>35691</th>\n",
              "      <td>0.0</td>\n",
              "      <td>0.0</td>\n",
              "      <td>1.0</td>\n",
              "      <td>0.0</td>\n",
              "      <td>0.0</td>\n",
              "      <td>0.0</td>\n",
              "      <td>0.0</td>\n",
              "      <td>0.0</td>\n",
              "      <td>1.0</td>\n",
              "      <td>3.000000</td>\n",
              "      <td>-0.327336</td>\n",
              "      <td>0.104841</td>\n",
              "      <td>1.150701</td>\n",
              "      <td>-0.897539</td>\n",
              "      <td>1.274174</td>\n",
              "      <td>-0.615533</td>\n",
              "    </tr>\n",
              "  </tbody>\n",
              "</table>\n",
              "<p>35692 rows × 16 columns</p>\n",
              "</div>\n",
              "    <div class=\"colab-df-buttons\">\n",
              "\n",
              "  <div class=\"colab-df-container\">\n",
              "    <button class=\"colab-df-convert\" onclick=\"convertToInteractive('df-0b6e3f01-eff2-44a7-9f43-7166d009d756')\"\n",
              "            title=\"Convert this dataframe to an interactive table.\"\n",
              "            style=\"display:none;\">\n",
              "\n",
              "  <svg xmlns=\"http://www.w3.org/2000/svg\" height=\"24px\" viewBox=\"0 -960 960 960\">\n",
              "    <path d=\"M120-120v-720h720v720H120Zm60-500h600v-160H180v160Zm220 220h160v-160H400v160Zm0 220h160v-160H400v160ZM180-400h160v-160H180v160Zm440 0h160v-160H620v160ZM180-180h160v-160H180v160Zm440 0h160v-160H620v160Z\"/>\n",
              "  </svg>\n",
              "    </button>\n",
              "\n",
              "  <style>\n",
              "    .colab-df-container {\n",
              "      display:flex;\n",
              "      gap: 12px;\n",
              "    }\n",
              "\n",
              "    .colab-df-convert {\n",
              "      background-color: #E8F0FE;\n",
              "      border: none;\n",
              "      border-radius: 50%;\n",
              "      cursor: pointer;\n",
              "      display: none;\n",
              "      fill: #1967D2;\n",
              "      height: 32px;\n",
              "      padding: 0 0 0 0;\n",
              "      width: 32px;\n",
              "    }\n",
              "\n",
              "    .colab-df-convert:hover {\n",
              "      background-color: #E2EBFA;\n",
              "      box-shadow: 0px 1px 2px rgba(60, 64, 67, 0.3), 0px 1px 3px 1px rgba(60, 64, 67, 0.15);\n",
              "      fill: #174EA6;\n",
              "    }\n",
              "\n",
              "    .colab-df-buttons div {\n",
              "      margin-bottom: 4px;\n",
              "    }\n",
              "\n",
              "    [theme=dark] .colab-df-convert {\n",
              "      background-color: #3B4455;\n",
              "      fill: #D2E3FC;\n",
              "    }\n",
              "\n",
              "    [theme=dark] .colab-df-convert:hover {\n",
              "      background-color: #434B5C;\n",
              "      box-shadow: 0px 1px 3px 1px rgba(0, 0, 0, 0.15);\n",
              "      filter: drop-shadow(0px 1px 2px rgba(0, 0, 0, 0.3));\n",
              "      fill: #FFFFFF;\n",
              "    }\n",
              "  </style>\n",
              "\n",
              "    <script>\n",
              "      const buttonEl =\n",
              "        document.querySelector('#df-0b6e3f01-eff2-44a7-9f43-7166d009d756 button.colab-df-convert');\n",
              "      buttonEl.style.display =\n",
              "        google.colab.kernel.accessAllowed ? 'block' : 'none';\n",
              "\n",
              "      async function convertToInteractive(key) {\n",
              "        const element = document.querySelector('#df-0b6e3f01-eff2-44a7-9f43-7166d009d756');\n",
              "        const dataTable =\n",
              "          await google.colab.kernel.invokeFunction('convertToInteractive',\n",
              "                                                    [key], {});\n",
              "        if (!dataTable) return;\n",
              "\n",
              "        const docLinkHtml = 'Like what you see? Visit the ' +\n",
              "          '<a target=\"_blank\" href=https://colab.research.google.com/notebooks/data_table.ipynb>data table notebook</a>'\n",
              "          + ' to learn more about interactive tables.';\n",
              "        element.innerHTML = '';\n",
              "        dataTable['output_type'] = 'display_data';\n",
              "        await google.colab.output.renderOutput(dataTable, element);\n",
              "        const docLink = document.createElement('div');\n",
              "        docLink.innerHTML = docLinkHtml;\n",
              "        element.appendChild(docLink);\n",
              "      }\n",
              "    </script>\n",
              "  </div>\n",
              "\n",
              "\n",
              "    <div id=\"df-fd54a777-26b2-4802-a495-44136525166d\">\n",
              "      <button class=\"colab-df-quickchart\" onclick=\"quickchart('df-fd54a777-26b2-4802-a495-44136525166d')\"\n",
              "                title=\"Suggest charts\"\n",
              "                style=\"display:none;\">\n",
              "\n",
              "<svg xmlns=\"http://www.w3.org/2000/svg\" height=\"24px\"viewBox=\"0 0 24 24\"\n",
              "     width=\"24px\">\n",
              "    <g>\n",
              "        <path d=\"M19 3H5c-1.1 0-2 .9-2 2v14c0 1.1.9 2 2 2h14c1.1 0 2-.9 2-2V5c0-1.1-.9-2-2-2zM9 17H7v-7h2v7zm4 0h-2V7h2v10zm4 0h-2v-4h2v4z\"/>\n",
              "    </g>\n",
              "</svg>\n",
              "      </button>\n",
              "\n",
              "<style>\n",
              "  .colab-df-quickchart {\n",
              "      --bg-color: #E8F0FE;\n",
              "      --fill-color: #1967D2;\n",
              "      --hover-bg-color: #E2EBFA;\n",
              "      --hover-fill-color: #174EA6;\n",
              "      --disabled-fill-color: #AAA;\n",
              "      --disabled-bg-color: #DDD;\n",
              "  }\n",
              "\n",
              "  [theme=dark] .colab-df-quickchart {\n",
              "      --bg-color: #3B4455;\n",
              "      --fill-color: #D2E3FC;\n",
              "      --hover-bg-color: #434B5C;\n",
              "      --hover-fill-color: #FFFFFF;\n",
              "      --disabled-bg-color: #3B4455;\n",
              "      --disabled-fill-color: #666;\n",
              "  }\n",
              "\n",
              "  .colab-df-quickchart {\n",
              "    background-color: var(--bg-color);\n",
              "    border: none;\n",
              "    border-radius: 50%;\n",
              "    cursor: pointer;\n",
              "    display: none;\n",
              "    fill: var(--fill-color);\n",
              "    height: 32px;\n",
              "    padding: 0;\n",
              "    width: 32px;\n",
              "  }\n",
              "\n",
              "  .colab-df-quickchart:hover {\n",
              "    background-color: var(--hover-bg-color);\n",
              "    box-shadow: 0 1px 2px rgba(60, 64, 67, 0.3), 0 1px 3px 1px rgba(60, 64, 67, 0.15);\n",
              "    fill: var(--button-hover-fill-color);\n",
              "  }\n",
              "\n",
              "  .colab-df-quickchart-complete:disabled,\n",
              "  .colab-df-quickchart-complete:disabled:hover {\n",
              "    background-color: var(--disabled-bg-color);\n",
              "    fill: var(--disabled-fill-color);\n",
              "    box-shadow: none;\n",
              "  }\n",
              "\n",
              "  .colab-df-spinner {\n",
              "    border: 2px solid var(--fill-color);\n",
              "    border-color: transparent;\n",
              "    border-bottom-color: var(--fill-color);\n",
              "    animation:\n",
              "      spin 1s steps(1) infinite;\n",
              "  }\n",
              "\n",
              "  @keyframes spin {\n",
              "    0% {\n",
              "      border-color: transparent;\n",
              "      border-bottom-color: var(--fill-color);\n",
              "      border-left-color: var(--fill-color);\n",
              "    }\n",
              "    20% {\n",
              "      border-color: transparent;\n",
              "      border-left-color: var(--fill-color);\n",
              "      border-top-color: var(--fill-color);\n",
              "    }\n",
              "    30% {\n",
              "      border-color: transparent;\n",
              "      border-left-color: var(--fill-color);\n",
              "      border-top-color: var(--fill-color);\n",
              "      border-right-color: var(--fill-color);\n",
              "    }\n",
              "    40% {\n",
              "      border-color: transparent;\n",
              "      border-right-color: var(--fill-color);\n",
              "      border-top-color: var(--fill-color);\n",
              "    }\n",
              "    60% {\n",
              "      border-color: transparent;\n",
              "      border-right-color: var(--fill-color);\n",
              "    }\n",
              "    80% {\n",
              "      border-color: transparent;\n",
              "      border-right-color: var(--fill-color);\n",
              "      border-bottom-color: var(--fill-color);\n",
              "    }\n",
              "    90% {\n",
              "      border-color: transparent;\n",
              "      border-bottom-color: var(--fill-color);\n",
              "    }\n",
              "  }\n",
              "</style>\n",
              "\n",
              "      <script>\n",
              "        async function quickchart(key) {\n",
              "          const quickchartButtonEl =\n",
              "            document.querySelector('#' + key + ' button');\n",
              "          quickchartButtonEl.disabled = true;  // To prevent multiple clicks.\n",
              "          quickchartButtonEl.classList.add('colab-df-spinner');\n",
              "          try {\n",
              "            const charts = await google.colab.kernel.invokeFunction(\n",
              "                'suggestCharts', [key], {});\n",
              "          } catch (error) {\n",
              "            console.error('Error during call to suggestCharts:', error);\n",
              "          }\n",
              "          quickchartButtonEl.classList.remove('colab-df-spinner');\n",
              "          quickchartButtonEl.classList.add('colab-df-quickchart-complete');\n",
              "        }\n",
              "        (() => {\n",
              "          let quickchartButtonEl =\n",
              "            document.querySelector('#df-fd54a777-26b2-4802-a495-44136525166d button');\n",
              "          quickchartButtonEl.style.display =\n",
              "            google.colab.kernel.accessAllowed ? 'block' : 'none';\n",
              "        })();\n",
              "      </script>\n",
              "    </div>\n",
              "\n",
              "  <div id=\"id_0e7043d5-0372-4449-a050-84cc2dffaa75\">\n",
              "    <style>\n",
              "      .colab-df-generate {\n",
              "        background-color: #E8F0FE;\n",
              "        border: none;\n",
              "        border-radius: 50%;\n",
              "        cursor: pointer;\n",
              "        display: none;\n",
              "        fill: #1967D2;\n",
              "        height: 32px;\n",
              "        padding: 0 0 0 0;\n",
              "        width: 32px;\n",
              "      }\n",
              "\n",
              "      .colab-df-generate:hover {\n",
              "        background-color: #E2EBFA;\n",
              "        box-shadow: 0px 1px 2px rgba(60, 64, 67, 0.3), 0px 1px 3px 1px rgba(60, 64, 67, 0.15);\n",
              "        fill: #174EA6;\n",
              "      }\n",
              "\n",
              "      [theme=dark] .colab-df-generate {\n",
              "        background-color: #3B4455;\n",
              "        fill: #D2E3FC;\n",
              "      }\n",
              "\n",
              "      [theme=dark] .colab-df-generate:hover {\n",
              "        background-color: #434B5C;\n",
              "        box-shadow: 0px 1px 3px 1px rgba(0, 0, 0, 0.15);\n",
              "        filter: drop-shadow(0px 1px 2px rgba(0, 0, 0, 0.3));\n",
              "        fill: #FFFFFF;\n",
              "      }\n",
              "    </style>\n",
              "    <button class=\"colab-df-generate\" onclick=\"generateWithVariable('x_res')\"\n",
              "            title=\"Generate code using this dataframe.\"\n",
              "            style=\"display:none;\">\n",
              "\n",
              "  <svg xmlns=\"http://www.w3.org/2000/svg\" height=\"24px\"viewBox=\"0 0 24 24\"\n",
              "       width=\"24px\">\n",
              "    <path d=\"M7,19H8.4L18.45,9,17,7.55,7,17.6ZM5,21V16.75L18.45,3.32a2,2,0,0,1,2.83,0l1.4,1.43a1.91,1.91,0,0,1,.58,1.4,1.91,1.91,0,0,1-.58,1.4L9.25,21ZM18.45,9,17,7.55Zm-12,3A5.31,5.31,0,0,0,4.9,8.1,5.31,5.31,0,0,0,1,6.5,5.31,5.31,0,0,0,4.9,4.9,5.31,5.31,0,0,0,6.5,1,5.31,5.31,0,0,0,8.1,4.9,5.31,5.31,0,0,0,12,6.5,5.46,5.46,0,0,0,6.5,12Z\"/>\n",
              "  </svg>\n",
              "    </button>\n",
              "    <script>\n",
              "      (() => {\n",
              "      const buttonEl =\n",
              "        document.querySelector('#id_0e7043d5-0372-4449-a050-84cc2dffaa75 button.colab-df-generate');\n",
              "      buttonEl.style.display =\n",
              "        google.colab.kernel.accessAllowed ? 'block' : 'none';\n",
              "\n",
              "      buttonEl.onclick = () => {\n",
              "        google.colab.notebook.generateWithVariable('x_res');\n",
              "      }\n",
              "      })();\n",
              "    </script>\n",
              "  </div>\n",
              "\n",
              "    </div>\n",
              "  </div>\n"
            ],
            "application/vnd.google.colaboratory.intrinsic+json": {
              "type": "dataframe",
              "variable_name": "x_res",
              "summary": "{\n  \"name\": \"x_res\",\n  \"rows\": 35692,\n  \"fields\": [\n    {\n      \"column\": \"person_home_ownership_OTHER\",\n      \"properties\": {\n        \"dtype\": \"number\",\n        \"std\": 0.053005309893898206,\n        \"min\": 0.0,\n        \"max\": 1.0,\n        \"num_unique_values\": 61,\n        \"samples\": [\n          0.0,\n          0.18569901632841224,\n          0.970682391221214\n        ],\n        \"semantic_type\": \"\",\n        \"description\": \"\"\n      }\n    },\n    {\n      \"column\": \"person_home_ownership_OWN\",\n      \"properties\": {\n        \"dtype\": \"number\",\n        \"std\": 0.22751275492923298,\n        \"min\": 0.0,\n        \"max\": 1.0,\n        \"num_unique_values\": 195,\n        \"samples\": [\n          0.5138353115463513,\n          0.4944141688156024,\n          0.7209576128697398\n        ],\n        \"semantic_type\": \"\",\n        \"description\": \"\"\n      }\n    },\n    {\n      \"column\": \"person_home_ownership_RENT\",\n      \"properties\": {\n        \"dtype\": \"number\",\n        \"std\": 0.4864981152340537,\n        \"min\": 0.0,\n        \"max\": 1.0,\n        \"num_unique_values\": 933,\n        \"samples\": [\n          0.8933565746596509,\n          0.3978312306111167,\n          0.030058312201998505\n        ],\n        \"semantic_type\": \"\",\n        \"description\": \"\"\n      }\n    },\n    {\n      \"column\": \"loan_intent_EDUCATION\",\n      \"properties\": {\n        \"dtype\": \"number\",\n        \"std\": 0.3853569092387747,\n        \"min\": 0.0,\n        \"max\": 1.0,\n        \"num_unique_values\": 454,\n        \"samples\": [\n          0.5302219865915261,\n          0.187350417662427,\n          0.19480407979302095\n        ],\n        \"semantic_type\": \"\",\n        \"description\": \"\"\n      }\n    },\n    {\n      \"column\": \"loan_intent_HOMEIMPROVEMENT\",\n      \"properties\": {\n        \"dtype\": \"number\",\n        \"std\": 0.3156929379772465,\n        \"min\": 0.0,\n        \"max\": 1.0,\n        \"num_unique_values\": 422,\n        \"samples\": [\n          0.1199401838575358,\n          0.5267919098513837,\n          0.2630868013624841\n        ],\n        \"semantic_type\": \"\",\n        \"description\": \"\"\n      }\n    },\n    {\n      \"column\": \"loan_intent_MEDICAL\",\n      \"properties\": {\n        \"dtype\": \"number\",\n        \"std\": 0.3970287180148733,\n        \"min\": 0.0,\n        \"max\": 1.0,\n        \"num_unique_values\": 606,\n        \"samples\": [\n          0.15687402631085146,\n          0.7755190805238095,\n          0.7629693887090233\n        ],\n        \"semantic_type\": \"\",\n        \"description\": \"\"\n      }\n    },\n    {\n      \"column\": \"loan_intent_PERSONAL\",\n      \"properties\": {\n        \"dtype\": \"number\",\n        \"std\": 0.3678587581586275,\n        \"min\": 0.0,\n        \"max\": 1.0,\n        \"num_unique_values\": 465,\n        \"samples\": [\n          0.7023384341018618,\n          0.33380703973356884,\n          0.9256684486396541\n        ],\n        \"semantic_type\": \"\",\n        \"description\": \"\"\n      }\n    },\n    {\n      \"column\": \"loan_intent_VENTURE\",\n      \"properties\": {\n        \"dtype\": \"number\",\n        \"std\": 0.3567666445879779,\n        \"min\": 0.0,\n        \"max\": 1.0,\n        \"num_unique_values\": 320,\n        \"samples\": [\n          0.2093813334457727,\n          0.1949278391718975,\n          0.6376640461485906\n        ],\n        \"semantic_type\": \"\",\n        \"description\": \"\"\n      }\n    },\n    {\n      \"column\": \"cb_person_default_on_file_Y\",\n      \"properties\": {\n        \"dtype\": \"number\",\n        \"std\": 0.4154634487175083,\n        \"min\": 0.0,\n        \"max\": 1.0,\n        \"num_unique_values\": 683,\n        \"samples\": [\n          0.8023605509824779,\n          0.7820900146236098,\n          0.1897867774345764\n        ],\n        \"semantic_type\": \"\",\n        \"description\": \"\"\n      }\n    },\n    {\n      \"column\": \"loan_grade\",\n      \"properties\": {\n        \"dtype\": \"number\",\n        \"std\": 1.3083496056005552,\n        \"min\": 0.0,\n        \"max\": 6.0,\n        \"num_unique_values\": 1121,\n        \"samples\": [\n          3.431707258008242,\n          0.913412938164032,\n          4.2655316141246775\n        ],\n        \"semantic_type\": \"\",\n        \"description\": \"\"\n      }\n    },\n    {\n      \"column\": \"person_age\",\n      \"properties\": {\n        \"dtype\": \"number\",\n        \"std\": 0.9906109559232757,\n        \"min\": -1.25746081530075,\n        \"max\": 9.20585705251727,\n        \"num_unique_values\": 10111,\n        \"samples\": [\n          -0.3527142410015168,\n          0.8275434615769963,\n          0.3473204326638888\n        ],\n        \"semantic_type\": \"\",\n        \"description\": \"\"\n      }\n    },\n    {\n      \"column\": \"person_income\",\n      \"properties\": {\n        \"dtype\": \"number\",\n        \"std\": 0.9006540353108141,\n        \"min\": -1.2042202088591225,\n        \"max\": 38.141397710370896,\n        \"num_unique_values\": 15800,\n        \"samples\": [\n          -0.4348529384662613,\n          0.9732380564834336,\n          -0.33165156915298716\n        ],\n        \"semantic_type\": \"\",\n        \"description\": \"\"\n      }\n    },\n    {\n      \"column\": \"person_emp_length\",\n      \"properties\": {\n        \"dtype\": \"number\",\n        \"std\": 0.9675368183533904,\n        \"min\": -1.1854443777802934,\n        \"max\": 9.027571167880971,\n        \"num_unique_values\": 9387,\n        \"samples\": [\n          -1.1847480264442254,\n          -0.5435411787034585,\n          0.840308742090948\n        ],\n        \"semantic_type\": \"\",\n        \"description\": \"\"\n      }\n    },\n    {\n      \"column\": \"loan_amnt\",\n      \"properties\": {\n        \"dtype\": \"number\",\n        \"std\": 1.0385663317707772,\n        \"min\": -1.444841715956471,\n        \"max\": 4.002630279010599,\n        \"num_unique_values\": 12025,\n        \"samples\": [\n          -1.2687271141150034,\n          0.7308221281491711,\n          -0.4987552655280697\n        ],\n        \"semantic_type\": \"\",\n        \"description\": \"\"\n      }\n    },\n    {\n      \"column\": \"loan_int_rate\",\n      \"properties\": {\n        \"dtype\": \"number\",\n        \"std\": 1.046229554099419,\n        \"min\": -1.7380843576457867,\n        \"max\": 3.7552759255089825,\n        \"num_unique_values\": 12621,\n        \"samples\": [\n          1.579395530095886,\n          -0.23752189490993136,\n          -0.862362101433274\n        ],\n        \"semantic_type\": \"\",\n        \"description\": \"\"\n      }\n    },\n    {\n      \"column\": \"cb_person_cred_hist_length\",\n      \"properties\": {\n        \"dtype\": \"number\",\n        \"std\": 0.9938316944148549,\n        \"min\": -0.9425398020461506,\n        \"max\": 6.04271256272678,\n        \"num_unique_values\": 8656,\n        \"samples\": [\n          0.21789814823827341,\n          0.7317075883379605,\n          -0.007908800661134655\n        ],\n        \"semantic_type\": \"\",\n        \"description\": \"\"\n      }\n    }\n  ]\n}"
            }
          },
          "metadata": {},
          "execution_count": 101
        }
      ]
    },
    {
      "cell_type": "code",
      "source": [
        "joblib.dump((x_res,x_test,y_res,y_test),\"/content/drive/MyDrive/credit.pkl\")"
      ],
      "metadata": {
        "colab": {
          "base_uri": "https://localhost:8080/"
        },
        "id": "AvH6nGmZUfaI",
        "outputId": "e12689db-947d-427e-ff20-4b6397ed5c5a"
      },
      "id": "AvH6nGmZUfaI",
      "execution_count": 103,
      "outputs": [
        {
          "output_type": "execute_result",
          "data": {
            "text/plain": [
              "['/content/drive/MyDrive/credit.pkl']"
            ]
          },
          "metadata": {},
          "execution_count": 103
        }
      ]
    },
    {
      "cell_type": "code",
      "source": [
        "(x_res,x_test,y_res,y_test)=joblib.load(\"/content/drive/MyDrive/credit.pkl\")"
      ],
      "metadata": {
        "id": "ACiCaGxkutpW"
      },
      "id": "ACiCaGxkutpW",
      "execution_count": 20,
      "outputs": []
    },
    {
      "cell_type": "markdown",
      "id": "d33f564f",
      "metadata": {
        "id": "d33f564f"
      },
      "source": [
        "# EDA and Visualizations"
      ]
    },
    {
      "cell_type": "code",
      "execution_count": null,
      "id": "ba4cc384",
      "metadata": {
        "id": "ba4cc384",
        "outputId": "482bdc34-db99-43ea-ec62-ed179d468e68"
      },
      "outputs": [
        {
          "data": {
            "image/png": "[encoded data removed]",
            "text/plain": [
              "<Figure size 900x900 with 9 Axes>"
            ]
          },
          "metadata": {},
          "output_type": "display_data"
        }
      ],
      "source": [
        "# hist plot\n",
        "_=df.hist(figsize=(9,9))"
      ]
    },
    {
      "cell_type": "code",
      "source": [
        "# Correlation heatmap\n",
        "sns.heatmap(df.select_dtypes(include=\"number\").corr(method=\"spearman\"),cmap=\"coolwarm\",annot=False,center=0,cbar_kws={'shrink': 0.5})\n",
        "plt.title(\"Correlation Heatmap of all features\")"
      ],
      "metadata": {
        "colab": {
          "base_uri": "https://localhost:8080/",
          "height": 647
        },
        "id": "7aOZVJzxBEFx",
        "outputId": "516e83a2-ebe7-4d71-b1b9-a0b7d0020297"
      },
      "id": "7aOZVJzxBEFx",
      "execution_count": 40,
      "outputs": [
        {
          "output_type": "execute_result",
          "data": {
            "text/plain": [
              "Text(0.5, 1.0, 'Correlation Heatmap of all features')"
            ]
          },
          "metadata": {},
          "execution_count": 40
        },
        {
          "output_type": "display_data",
          "data": {
            "text/plain": [
              "<Figure size 640x480 with 2 Axes>"
            ],
            "image/png": "[encoded data removed]"
          },
          "metadata": {}
        }
      ]
    },
    {
      "cell_type": "code",
      "execution_count": 17,
      "id": "186f24c3",
      "metadata": {
        "colab": {
          "base_uri": "https://localhost:8080/",
          "height": 574
        },
        "id": "186f24c3",
        "outputId": "fab62d34-8bc2-491e-b7be-771464fe1980"
      },
      "outputs": [
        {
          "output_type": "stream",
          "name": "stderr",
          "text": [
            "/tmp/ipython-input-17-160894386.py:2: FutureWarning: \n",
            "\n",
            "Passing `palette` without assigning `hue` is deprecated and will be removed in v0.14.0. Assign the `x` variable to `hue` and set `legend=False` for the same effect.\n",
            "\n",
            "  sns.barplot(x=ownership.index,y=ownership.values,palette=\"viridis\")\n"
          ]
        },
        {
          "output_type": "execute_result",
          "data": {
            "text/plain": [
              "<Axes: xlabel='person_home_ownership'>"
            ]
          },
          "metadata": {},
          "execution_count": 17
        },
        {
          "output_type": "display_data",
          "data": {
            "text/plain": [
              "<Figure size 640x480 with 1 Axes>"
            ],
            "image/png": "[encoded data removed]"
          },
          "metadata": {}
        }
      ],
      "source": [
        "ownership=df[\"person_home_ownership\"].value_counts()\n",
        "sns.barplot(x=ownership.index,y=ownership.values,palette=\"viridis\")"
      ]
    },
    {
      "cell_type": "code",
      "execution_count": 17,
      "id": "2fc6e241",
      "metadata": {
        "colab": {
          "base_uri": "https://localhost:8080/",
          "height": 589
        },
        "id": "2fc6e241",
        "outputId": "efee1b69-7254-48c1-a118-50a1856fbe46"
      },
      "outputs": [
        {
          "output_type": "stream",
          "name": "stderr",
          "text": [
            "/tmp/ipython-input-17-1572176800.py:3: FutureWarning: \n",
            "\n",
            "Passing `palette` without assigning `hue` is deprecated and will be removed in v0.14.0. Assign the `x` variable to `hue` and set `legend=False` for the same effect.\n",
            "\n",
            "  sns.barplot(x=loan_intent.index,y=loan_intent.values,palette=\"magma\")\n"
          ]
        },
        {
          "output_type": "execute_result",
          "data": {
            "text/plain": [
              "<Axes: xlabel='loan_intent'>"
            ]
          },
          "metadata": {},
          "execution_count": 17
        },
        {
          "output_type": "display_data",
          "data": {
            "text/plain": [
              "<Figure size 1200x500 with 1 Axes>"
            ],
            "image/png": "[encoded data removed]"
          },
          "metadata": {}
        }
      ],
      "source": [
        "plt.figure(figsize=(12,5))\n",
        "loan_intent=df[\"loan_intent\"].value_counts()\n",
        "sns.barplot(x=loan_intent.index,y=loan_intent.values,palette=\"magma\")"
      ]
    },
    {
      "cell_type": "code",
      "execution_count": 16,
      "id": "04241a46",
      "metadata": {
        "colab": {
          "base_uri": "https://localhost:8080/",
          "height": 574
        },
        "id": "04241a46",
        "outputId": "e4276d65-d28a-4a14-e124-d302bc7d46c0"
      },
      "outputs": [
        {
          "output_type": "stream",
          "name": "stderr",
          "text": [
            "/tmp/ipython-input-16-3538702959.py:2: FutureWarning: \n",
            "\n",
            "Passing `palette` without assigning `hue` is deprecated and will be removed in v0.14.0. Assign the `x` variable to `hue` and set `legend=False` for the same effect.\n",
            "\n",
            "  sns.barplot(x=loan_grade.index,y=loan_grade.values,palette=\"viridis\")\n"
          ]
        },
        {
          "output_type": "execute_result",
          "data": {
            "text/plain": [
              "<Axes: xlabel='loan_grade'>"
            ]
          },
          "metadata": {},
          "execution_count": 16
        },
        {
          "output_type": "display_data",
          "data": {
            "text/plain": [
              "<Figure size 640x480 with 1 Axes>"
            ],
            "image/png": "[encoded data removed]"
          },
          "metadata": {}
        }
      ],
      "source": [
        "loan_grade=df[\"loan_grade\"].value_counts()\n",
        "sns.barplot(x=loan_grade.index,y=loan_grade.values,palette=\"viridis\")"
      ]
    },
    {
      "cell_type": "code",
      "execution_count": null,
      "id": "b7ca9cde",
      "metadata": {
        "id": "b7ca9cde",
        "outputId": "e847e739-5ac8-43af-b463-b1528f7b1d86"
      },
      "outputs": [
        {
          "data": {
            "text/plain": [
              "<Axes: xlabel='loan_status', ylabel='count'>"
            ]
          },
          "execution_count": 118,
          "metadata": {},
          "output_type": "execute_result"
        },
        {
          "data": {
            "image/png": "[encoded data removed]",
            "text/plain": [
              "<Figure size 640x480 with 1 Axes>"
            ]
          },
          "metadata": {},
          "output_type": "display_data"
        }
      ],
      "source": [
        "sns.countplot(x=\"loan_status\",hue=\"loan_status\",legend=False,data=df,palette=\"Set2\")"
      ]
    },
    {
      "cell_type": "code",
      "execution_count": null,
      "id": "f96a78ab",
      "metadata": {
        "id": "f96a78ab",
        "outputId": "bb086735-cd4c-4b20-ca83-657364912c37"
      },
      "outputs": [
        {
          "data": {
            "text/plain": [
              "<Axes: xlabel='cb_person_default_on_file', ylabel='count'>"
            ]
          },
          "execution_count": 117,
          "metadata": {},
          "output_type": "execute_result"
        },
        {
          "data": {
            "image/png": "[encoded data removed]",
            "text/plain": [
              "<Figure size 640x480 with 1 Axes>"
            ]
          },
          "metadata": {},
          "output_type": "display_data"
        }
      ],
      "source": [
        "sns.countplot(x=\"cb_person_default_on_file\",hue=\"cb_person_default_on_file\",data=df,palette=\"cubehelix\")"
      ]
    },
    {
      "cell_type": "markdown",
      "source": [
        "# Training Models"
      ],
      "metadata": {
        "id": "fdyP8exGvJ8h"
      },
      "id": "fdyP8exGvJ8h"
    },
    {
      "cell_type": "code",
      "execution_count": 22,
      "id": "2f831595",
      "metadata": {
        "id": "2f831595"
      },
      "outputs": [],
      "source": [
        "def report(model,y_test,y_pred,y_proba):\n",
        "  if hasattr(model,'n_iter_'):\n",
        "    print(model.n_iter_)\n",
        "  print(classification_report(y_test,y_pred))\n",
        "  print(\"Confusion Matrix:\\n \",confusion_matrix(y_test,y_pred))\n",
        "  print(f\"ROC AUC Score: {roc_auc_score(y_test,y_proba):.2f}\")"
      ]
    },
    {
      "cell_type": "code",
      "source": [
        "def threshold_testing(y_proba):\n",
        "  best_f1=0\n",
        "  best_thresh=0\n",
        "  thresholds=np.arange(0,1.01,0.01)\n",
        "  for t in thresholds:\n",
        "    y_pred=(y_proba>=t).astype(int)\n",
        "    f1=f1_score(y_test,y_pred)\n",
        "    if f1>best_f1:\n",
        "      best_f1=f1\n",
        "      best_thresh=t\n",
        "  print(f\"best_f1: {best_f1:.2f}\")\n",
        "  print(f\"best_thresh: {best_thresh:.2f}\")"
      ],
      "metadata": {
        "id": "A224rskvwJYY"
      },
      "id": "A224rskvwJYY",
      "execution_count": 23,
      "outputs": []
    },
    {
      "cell_type": "markdown",
      "source": [
        "## Logistic Regression"
      ],
      "metadata": {
        "id": "WoOeRjMDxjrn"
      },
      "id": "WoOeRjMDxjrn"
    },
    {
      "cell_type": "code",
      "source": [
        "results=[]"
      ],
      "metadata": {
        "id": "y80rU8Tf058P"
      },
      "id": "y80rU8Tf058P",
      "execution_count": 14,
      "outputs": []
    },
    {
      "cell_type": "code",
      "source": [
        "for C in [0.01,0.1,1]:\n",
        "  for solver in [\"lbfgs\",\"liblinear\",\"saga\"]:\n",
        "    for penalty in [\"l2\",\"l1\"]:\n",
        "      if not (solver==\"lbfgs\" and penalty==\"l1\"):\n",
        "        log_reg=LogisticRegression(C=C,solver=solver,penalty=penalty,max_iter=6000,random_state=42)\n",
        "        log_reg.fit(x_res,y_res)\n",
        "        y_pred=log_reg.predict(x_test)\n",
        "        print(f\"solver={solver}, penalty={penalty} and C={C}\")\n",
        "        y_proba=log_reg.predict_proba(x_test)[:,1]\n",
        "        print(classification_report(y_test,y_pred))\n",
        "        threshold_testing(y_proba)\n",
        "        print(\"\\n\")"
      ],
      "metadata": {
        "colab": {
          "base_uri": "https://localhost:8080/"
        },
        "collapsed": true,
        "id": "YiN1eyakxhPF",
        "outputId": "4e578b86-8357-4f2f-971e-ea875278741a"
      },
      "id": "YiN1eyakxhPF",
      "execution_count": 13,
      "outputs": [
        {
          "output_type": "stream",
          "name": "stdout",
          "text": [
            "solver=lbfgs, penalty=l2 and C=0.01\n",
            "              precision    recall  f1-score   support\n",
            "\n",
            "           0       0.92      0.76      0.84      4462\n",
            "           1       0.48      0.77      0.59      1237\n",
            "\n",
            "    accuracy                           0.77      5699\n",
            "   macro avg       0.70      0.77      0.71      5699\n",
            "weighted avg       0.83      0.77      0.78      5699\n",
            "\n",
            "best_f1: 0.60\n",
            "best_thresh: 0.68\n",
            "\n",
            "\n",
            "solver=liblinear, penalty=l2 and C=0.01\n",
            "              precision    recall  f1-score   support\n",
            "\n",
            "           0       0.92      0.76      0.83      4462\n",
            "           1       0.47      0.78      0.59      1237\n",
            "\n",
            "    accuracy                           0.76      5699\n",
            "   macro avg       0.70      0.77      0.71      5699\n",
            "weighted avg       0.83      0.76      0.78      5699\n",
            "\n",
            "best_f1: 0.60\n",
            "best_thresh: 0.64\n",
            "\n",
            "\n",
            "solver=liblinear, penalty=l1 and C=0.01\n",
            "              precision    recall  f1-score   support\n",
            "\n",
            "           0       0.92      0.76      0.83      4462\n",
            "           1       0.47      0.78      0.59      1237\n",
            "\n",
            "    accuracy                           0.76      5699\n",
            "   macro avg       0.70      0.77      0.71      5699\n",
            "weighted avg       0.83      0.76      0.78      5699\n",
            "\n",
            "best_f1: 0.61\n",
            "best_thresh: 0.65\n",
            "\n",
            "\n",
            "solver=saga, penalty=l2 and C=0.01\n",
            "              precision    recall  f1-score   support\n",
            "\n",
            "           0       0.92      0.76      0.84      4462\n",
            "           1       0.48      0.77      0.59      1237\n",
            "\n",
            "    accuracy                           0.77      5699\n",
            "   macro avg       0.70      0.77      0.71      5699\n",
            "weighted avg       0.83      0.77      0.78      5699\n",
            "\n",
            "best_f1: 0.60\n",
            "best_thresh: 0.68\n",
            "\n",
            "\n",
            "solver=saga, penalty=l1 and C=0.01\n",
            "              precision    recall  f1-score   support\n",
            "\n",
            "           0       0.92      0.76      0.84      4462\n",
            "           1       0.48      0.77      0.59      1237\n",
            "\n",
            "    accuracy                           0.77      5699\n",
            "   macro avg       0.70      0.77      0.71      5699\n",
            "weighted avg       0.83      0.77      0.78      5699\n",
            "\n",
            "best_f1: 0.61\n",
            "best_thresh: 0.65\n",
            "\n",
            "\n",
            "solver=lbfgs, penalty=l2 and C=0.1\n",
            "              precision    recall  f1-score   support\n",
            "\n",
            "           0       0.92      0.77      0.84      4462\n",
            "           1       0.48      0.77      0.59      1237\n",
            "\n",
            "    accuracy                           0.77      5699\n",
            "   macro avg       0.70      0.77      0.71      5699\n",
            "weighted avg       0.83      0.77      0.78      5699\n",
            "\n",
            "best_f1: 0.61\n",
            "best_thresh: 0.63\n",
            "\n",
            "\n",
            "solver=liblinear, penalty=l2 and C=0.1\n",
            "              precision    recall  f1-score   support\n",
            "\n",
            "           0       0.92      0.76      0.84      4462\n",
            "           1       0.47      0.77      0.59      1237\n",
            "\n",
            "    accuracy                           0.76      5699\n",
            "   macro avg       0.70      0.77      0.71      5699\n",
            "weighted avg       0.83      0.76      0.78      5699\n",
            "\n",
            "best_f1: 0.61\n",
            "best_thresh: 0.63\n",
            "\n",
            "\n",
            "solver=liblinear, penalty=l1 and C=0.1\n",
            "              precision    recall  f1-score   support\n",
            "\n",
            "           0       0.92      0.76      0.84      4462\n",
            "           1       0.47      0.77      0.59      1237\n",
            "\n",
            "    accuracy                           0.77      5699\n",
            "   macro avg       0.70      0.77      0.71      5699\n",
            "weighted avg       0.83      0.77      0.78      5699\n",
            "\n",
            "best_f1: 0.61\n",
            "best_thresh: 0.63\n",
            "\n",
            "\n",
            "solver=saga, penalty=l2 and C=0.1\n",
            "              precision    recall  f1-score   support\n",
            "\n",
            "           0       0.92      0.76      0.84      4462\n",
            "           1       0.47      0.77      0.59      1237\n",
            "\n",
            "    accuracy                           0.77      5699\n",
            "   macro avg       0.70      0.77      0.71      5699\n",
            "weighted avg       0.82      0.77      0.78      5699\n",
            "\n",
            "best_f1: 0.61\n",
            "best_thresh: 0.67\n",
            "\n",
            "\n",
            "solver=saga, penalty=l1 and C=0.1\n",
            "              precision    recall  f1-score   support\n",
            "\n",
            "           0       0.92      0.77      0.84      4462\n",
            "           1       0.48      0.77      0.59      1237\n",
            "\n",
            "    accuracy                           0.77      5699\n",
            "   macro avg       0.70      0.77      0.71      5699\n",
            "weighted avg       0.83      0.77      0.78      5699\n",
            "\n",
            "best_f1: 0.61\n",
            "best_thresh: 0.67\n",
            "\n",
            "\n",
            "solver=lbfgs, penalty=l2 and C=1\n",
            "              precision    recall  f1-score   support\n",
            "\n",
            "           0       0.92      0.76      0.84      4462\n",
            "           1       0.48      0.77      0.59      1237\n",
            "\n",
            "    accuracy                           0.77      5699\n",
            "   macro avg       0.70      0.77      0.71      5699\n",
            "weighted avg       0.83      0.77      0.78      5699\n",
            "\n",
            "best_f1: 0.61\n",
            "best_thresh: 0.63\n",
            "\n",
            "\n",
            "solver=liblinear, penalty=l2 and C=1\n",
            "              precision    recall  f1-score   support\n",
            "\n",
            "           0       0.92      0.76      0.84      4462\n",
            "           1       0.47      0.77      0.59      1237\n",
            "\n",
            "    accuracy                           0.77      5699\n",
            "   macro avg       0.70      0.77      0.71      5699\n",
            "weighted avg       0.83      0.77      0.78      5699\n",
            "\n",
            "best_f1: 0.61\n",
            "best_thresh: 0.63\n",
            "\n",
            "\n",
            "solver=liblinear, penalty=l1 and C=1\n",
            "              precision    recall  f1-score   support\n",
            "\n",
            "           0       0.92      0.76      0.84      4462\n",
            "           1       0.48      0.77      0.59      1237\n",
            "\n",
            "    accuracy                           0.77      5699\n",
            "   macro avg       0.70      0.77      0.71      5699\n",
            "weighted avg       0.83      0.77      0.78      5699\n",
            "\n",
            "best_f1: 0.61\n",
            "best_thresh: 0.63\n",
            "\n",
            "\n",
            "solver=saga, penalty=l2 and C=1\n",
            "              precision    recall  f1-score   support\n",
            "\n",
            "           0       0.92      0.76      0.84      4462\n",
            "           1       0.47      0.77      0.59      1237\n",
            "\n",
            "    accuracy                           0.77      5699\n",
            "   macro avg       0.70      0.77      0.71      5699\n",
            "weighted avg       0.83      0.77      0.78      5699\n",
            "\n",
            "best_f1: 0.61\n",
            "best_thresh: 0.63\n",
            "\n",
            "\n",
            "solver=saga, penalty=l1 and C=1\n",
            "              precision    recall  f1-score   support\n",
            "\n",
            "           0       0.92      0.76      0.84      4462\n",
            "           1       0.47      0.77      0.59      1237\n",
            "\n",
            "    accuracy                           0.77      5699\n",
            "   macro avg       0.70      0.77      0.71      5699\n",
            "weighted avg       0.83      0.77      0.78      5699\n",
            "\n",
            "best_f1: 0.61\n",
            "best_thresh: 0.63\n",
            "\n",
            "\n"
          ]
        }
      ]
    },
    {
      "cell_type": "markdown",
      "source": [
        "`Here, mostly all are having best_f1=0.61 so default is good`"
      ],
      "metadata": {
        "id": "5tez0Z0TC0IH"
      },
      "id": "5tez0Z0TC0IH"
    },
    {
      "cell_type": "markdown",
      "source": [
        "## Decision Tree"
      ],
      "metadata": {
        "id": "edtKv-WO2MZs"
      },
      "id": "edtKv-WO2MZs"
    },
    {
      "cell_type": "code",
      "source": [
        "for depth in [None,3,5,7,10]:\n",
        "  dec_clf=DecisionTreeClassifier(max_depth=depth,random_state=42)\n",
        "  dec_clf.fit(x_res,y_res)\n",
        "  y_pred=dec_clf.predict(x_test)\n",
        "  y_proba=dec_clf.predict_proba(x_test)[:,1]\n",
        "  threshold_testing(y_proba)"
      ],
      "metadata": {
        "colab": {
          "base_uri": "https://localhost:8080/"
        },
        "id": "ylfKvcfQyx7G",
        "outputId": "d00793a3-1e81-405c-fcc1-ed84e800c15a"
      },
      "id": "ylfKvcfQyx7G",
      "execution_count": 16,
      "outputs": [
        {
          "output_type": "stream",
          "name": "stdout",
          "text": [
            "best_f1: 0.73\n",
            "best_thresh: 0.01\n",
            "best_f1: 0.58\n",
            "best_thresh: 0.48\n",
            "best_f1: 0.72\n",
            "best_thresh: 0.58\n",
            "best_f1: 0.79\n",
            "best_thresh: 0.81\n",
            "best_f1: 0.80\n",
            "best_thresh: 0.81\n"
          ]
        }
      ]
    },
    {
      "cell_type": "code",
      "source": [
        "for depth in [10,15,20,40]:\n",
        "  dec_clf=DecisionTreeClassifier(max_depth=depth,random_state=42)\n",
        "  dec_clf.fit(x_res,y_res)\n",
        "  y_pred=dec_clf.predict(x_test)\n",
        "  y_proba=dec_clf.predict_proba(x_test)[:,1]\n",
        "  threshold_testing(y_proba)"
      ],
      "metadata": {
        "colab": {
          "base_uri": "https://localhost:8080/"
        },
        "id": "W9AQjq6f2t39",
        "outputId": "8b85229e-9ea9-42cb-839f-59c65cb9b3de"
      },
      "id": "W9AQjq6f2t39",
      "execution_count": 17,
      "outputs": [
        {
          "output_type": "stream",
          "name": "stdout",
          "text": [
            "best_f1: 0.80\n",
            "best_thresh: 0.81\n",
            "best_f1: 0.78\n",
            "best_thresh: 0.96\n",
            "best_f1: 0.75\n",
            "best_thresh: 0.92\n",
            "best_f1: 0.73\n",
            "best_thresh: 0.01\n"
          ]
        }
      ]
    },
    {
      "cell_type": "markdown",
      "source": [
        "`max_depth=10 seems to be optimal for decision tree`"
      ],
      "metadata": {
        "id": "tXl9saZDCtvs"
      },
      "id": "tXl9saZDCtvs"
    },
    {
      "cell_type": "markdown",
      "source": [
        "## RandomForestClassifier"
      ],
      "metadata": {
        "id": "1wUdojA53jLD"
      },
      "id": "1wUdojA53jLD"
    },
    {
      "cell_type": "code",
      "source": [
        "for estimators in [100,200]:\n",
        "  for max_depth in [7,10,15,20]:\n",
        "    for max_features in [\"sqrt\",\"log2\"]:\n",
        "      rnd_clf=RandomForestClassifier(max_depth=max_depth,n_estimators=estimators,max_features=max_features,random_state=42)\n",
        "      rnd_clf.fit(x_res,y_res)\n",
        "      y_pred=rnd_clf.predict(x_test)\n",
        "      y_proba=rnd_clf.predict_proba(x_test)[:,1]\n",
        "      print(f\"max_depth={max_depth}, estimators={estimators} and max_features={max_features}\")\n",
        "      threshold_testing(y_proba)\n",
        "      print(\"\\n\")"
      ],
      "metadata": {
        "colab": {
          "base_uri": "https://localhost:8080/"
        },
        "collapsed": true,
        "id": "QvzAIkon3eK1",
        "outputId": "c5bdb742-1369-4eb4-8fb4-01f862b4021c"
      },
      "id": "QvzAIkon3eK1",
      "execution_count": 19,
      "outputs": [
        {
          "output_type": "stream",
          "name": "stdout",
          "text": [
            "max_depth=7, estimators=100 and max_features=sqrt\n",
            "best_f1: 0.74\n",
            "best_thresh: 0.60\n",
            "\n",
            "\n",
            "max_depth=7, estimators=100 and max_features=log2\n",
            "best_f1: 0.74\n",
            "best_thresh: 0.60\n",
            "\n",
            "\n",
            "max_depth=10, estimators=100 and max_features=sqrt\n",
            "best_f1: 0.79\n",
            "best_thresh: 0.62\n",
            "\n",
            "\n",
            "max_depth=10, estimators=100 and max_features=log2\n",
            "best_f1: 0.79\n",
            "best_thresh: 0.62\n",
            "\n",
            "\n",
            "max_depth=15, estimators=100 and max_features=sqrt\n",
            "best_f1: 0.81\n",
            "best_thresh: 0.55\n",
            "\n",
            "\n",
            "max_depth=15, estimators=100 and max_features=log2\n",
            "best_f1: 0.81\n",
            "best_thresh: 0.55\n",
            "\n",
            "\n",
            "max_depth=20, estimators=100 and max_features=sqrt\n",
            "best_f1: 0.81\n",
            "best_thresh: 0.50\n",
            "\n",
            "\n",
            "max_depth=20, estimators=100 and max_features=log2\n",
            "best_f1: 0.81\n",
            "best_thresh: 0.50\n",
            "\n",
            "\n",
            "max_depth=7, estimators=200 and max_features=sqrt\n",
            "best_f1: 0.74\n",
            "best_thresh: 0.59\n",
            "\n",
            "\n",
            "max_depth=7, estimators=200 and max_features=log2\n",
            "best_f1: 0.74\n",
            "best_thresh: 0.59\n",
            "\n",
            "\n",
            "max_depth=10, estimators=200 and max_features=sqrt\n",
            "best_f1: 0.79\n",
            "best_thresh: 0.62\n",
            "\n",
            "\n",
            "max_depth=10, estimators=200 and max_features=log2\n",
            "best_f1: 0.79\n",
            "best_thresh: 0.62\n",
            "\n",
            "\n",
            "max_depth=15, estimators=200 and max_features=sqrt\n",
            "best_f1: 0.81\n",
            "best_thresh: 0.53\n",
            "\n",
            "\n",
            "max_depth=15, estimators=200 and max_features=log2\n",
            "best_f1: 0.81\n",
            "best_thresh: 0.53\n",
            "\n",
            "\n",
            "max_depth=20, estimators=200 and max_features=sqrt\n",
            "best_f1: 0.81\n",
            "best_thresh: 0.48\n",
            "\n",
            "\n",
            "max_depth=20, estimators=200 and max_features=log2\n",
            "best_f1: 0.81\n",
            "best_thresh: 0.48\n",
            "\n",
            "\n"
          ]
        }
      ]
    },
    {
      "cell_type": "markdown",
      "source": [
        "`Here n_estimators=100/200 and max_features=sqrt/log2 have same performance thus we will fix these now`"
      ],
      "metadata": {
        "id": "L5EZXEj3DCho"
      },
      "id": "L5EZXEj3DCho"
    },
    {
      "cell_type": "markdown",
      "source": [
        "`performance increases as 0.74-0.79-0.81-0.81 for max_depth= [7,10,15,20] thus we will search now in range (10-15)`"
      ],
      "metadata": {
        "id": "9pCzFXwnDW0P"
      },
      "id": "9pCzFXwnDW0P"
    },
    {
      "cell_type": "code",
      "source": [
        "# keeping fix n_estimators=100, max_features=sqrt\n",
        "for max_depth in [12,13,14,15]:\n",
        "  for min_samples_split in [10,20,40]:\n",
        "    for min_samples_leaf in [3,5,10]:\n",
        "      rnd_clf=RandomForestClassifier(max_depth=max_depth,min_samples_leaf=min_samples_leaf,min_samples_split=min_samples_split,n_estimators=100,max_features=\"sqrt\",random_state=42)\n",
        "      rnd_clf.fit(x_res,y_res)\n",
        "      y_pred=rnd_clf.predict(x_test)\n",
        "      y_proba=rnd_clf.predict_proba(x_test)[:,1]\n",
        "      print(f\"max_depth={max_depth}, min_samples_split={min_samples_split} and min_samples_leaf={min_samples_leaf}\")\n",
        "      threshold_testing(y_proba)\n",
        "      print(\"\\n\")"
      ],
      "metadata": {
        "colab": {
          "base_uri": "https://localhost:8080/"
        },
        "collapsed": true,
        "id": "baQbnbua48lP",
        "outputId": "0e3b78a4-22f5-4ea3-fdca-9158d6d154a9"
      },
      "id": "baQbnbua48lP",
      "execution_count": 24,
      "outputs": [
        {
          "output_type": "stream",
          "name": "stdout",
          "text": [
            "max_depth=12, min_samples_split=10 and min_samples_leaf=3\n",
            "best_f1: 0.80\n",
            "best_thresh: 0.59\n",
            "\n",
            "\n",
            "max_depth=12, min_samples_split=10 and min_samples_leaf=5\n",
            "best_f1: 0.80\n",
            "best_thresh: 0.57\n",
            "\n",
            "\n",
            "max_depth=12, min_samples_split=10 and min_samples_leaf=10\n",
            "best_f1: 0.80\n",
            "best_thresh: 0.61\n",
            "\n",
            "\n",
            "max_depth=12, min_samples_split=20 and min_samples_leaf=3\n",
            "best_f1: 0.80\n",
            "best_thresh: 0.58\n",
            "\n",
            "\n",
            "max_depth=12, min_samples_split=20 and min_samples_leaf=5\n",
            "best_f1: 0.80\n",
            "best_thresh: 0.59\n",
            "\n",
            "\n",
            "max_depth=12, min_samples_split=20 and min_samples_leaf=10\n",
            "best_f1: 0.80\n",
            "best_thresh: 0.61\n",
            "\n",
            "\n",
            "max_depth=12, min_samples_split=40 and min_samples_leaf=3\n",
            "best_f1: 0.80\n",
            "best_thresh: 0.62\n",
            "\n",
            "\n",
            "max_depth=12, min_samples_split=40 and min_samples_leaf=5\n",
            "best_f1: 0.80\n",
            "best_thresh: 0.60\n",
            "\n",
            "\n",
            "max_depth=12, min_samples_split=40 and min_samples_leaf=10\n",
            "best_f1: 0.80\n",
            "best_thresh: 0.58\n",
            "\n",
            "\n",
            "max_depth=13, min_samples_split=10 and min_samples_leaf=3\n",
            "best_f1: 0.80\n",
            "best_thresh: 0.61\n",
            "\n",
            "\n",
            "max_depth=13, min_samples_split=10 and min_samples_leaf=5\n",
            "best_f1: 0.81\n",
            "best_thresh: 0.56\n",
            "\n",
            "\n",
            "max_depth=13, min_samples_split=10 and min_samples_leaf=10\n",
            "best_f1: 0.80\n",
            "best_thresh: 0.61\n",
            "\n",
            "\n",
            "max_depth=13, min_samples_split=20 and min_samples_leaf=3\n",
            "best_f1: 0.80\n",
            "best_thresh: 0.61\n",
            "\n",
            "\n",
            "max_depth=13, min_samples_split=20 and min_samples_leaf=5\n",
            "best_f1: 0.80\n",
            "best_thresh: 0.58\n",
            "\n",
            "\n",
            "max_depth=13, min_samples_split=20 and min_samples_leaf=10\n",
            "best_f1: 0.80\n",
            "best_thresh: 0.61\n",
            "\n",
            "\n",
            "max_depth=13, min_samples_split=40 and min_samples_leaf=3\n",
            "best_f1: 0.80\n",
            "best_thresh: 0.57\n",
            "\n",
            "\n",
            "max_depth=13, min_samples_split=40 and min_samples_leaf=5\n",
            "best_f1: 0.80\n",
            "best_thresh: 0.60\n",
            "\n",
            "\n",
            "max_depth=13, min_samples_split=40 and min_samples_leaf=10\n",
            "best_f1: 0.80\n",
            "best_thresh: 0.61\n",
            "\n",
            "\n",
            "max_depth=14, min_samples_split=10 and min_samples_leaf=3\n",
            "best_f1: 0.81\n",
            "best_thresh: 0.56\n",
            "\n",
            "\n",
            "max_depth=14, min_samples_split=10 and min_samples_leaf=5\n",
            "best_f1: 0.81\n",
            "best_thresh: 0.56\n",
            "\n",
            "\n",
            "max_depth=14, min_samples_split=10 and min_samples_leaf=10\n",
            "best_f1: 0.80\n",
            "best_thresh: 0.58\n",
            "\n",
            "\n",
            "max_depth=14, min_samples_split=20 and min_samples_leaf=3\n",
            "best_f1: 0.81\n",
            "best_thresh: 0.58\n",
            "\n",
            "\n",
            "max_depth=14, min_samples_split=20 and min_samples_leaf=5\n",
            "best_f1: 0.80\n",
            "best_thresh: 0.57\n",
            "\n",
            "\n",
            "max_depth=14, min_samples_split=20 and min_samples_leaf=10\n",
            "best_f1: 0.80\n",
            "best_thresh: 0.58\n",
            "\n",
            "\n",
            "max_depth=14, min_samples_split=40 and min_samples_leaf=3\n",
            "best_f1: 0.80\n",
            "best_thresh: 0.60\n",
            "\n",
            "\n",
            "max_depth=14, min_samples_split=40 and min_samples_leaf=5\n",
            "best_f1: 0.80\n",
            "best_thresh: 0.57\n",
            "\n",
            "\n",
            "max_depth=14, min_samples_split=40 and min_samples_leaf=10\n",
            "best_f1: 0.80\n",
            "best_thresh: 0.57\n",
            "\n",
            "\n",
            "max_depth=15, min_samples_split=10 and min_samples_leaf=3\n",
            "best_f1: 0.81\n",
            "best_thresh: 0.58\n",
            "\n",
            "\n",
            "max_depth=15, min_samples_split=10 and min_samples_leaf=5\n",
            "best_f1: 0.81\n",
            "best_thresh: 0.54\n",
            "\n",
            "\n",
            "max_depth=15, min_samples_split=10 and min_samples_leaf=10\n",
            "best_f1: 0.80\n",
            "best_thresh: 0.57\n",
            "\n",
            "\n",
            "max_depth=15, min_samples_split=20 and min_samples_leaf=3\n",
            "best_f1: 0.81\n",
            "best_thresh: 0.54\n",
            "\n",
            "\n",
            "max_depth=15, min_samples_split=20 and min_samples_leaf=5\n",
            "best_f1: 0.81\n",
            "best_thresh: 0.57\n",
            "\n",
            "\n",
            "max_depth=15, min_samples_split=20 and min_samples_leaf=10\n",
            "best_f1: 0.80\n",
            "best_thresh: 0.57\n",
            "\n",
            "\n",
            "max_depth=15, min_samples_split=40 and min_samples_leaf=3\n",
            "best_f1: 0.80\n",
            "best_thresh: 0.58\n",
            "\n",
            "\n",
            "max_depth=15, min_samples_split=40 and min_samples_leaf=5\n",
            "best_f1: 0.80\n",
            "best_thresh: 0.56\n",
            "\n",
            "\n",
            "max_depth=15, min_samples_split=40 and min_samples_leaf=10\n",
            "best_f1: 0.80\n",
            "best_thresh: 0.58\n",
            "\n",
            "\n"
          ]
        }
      ]
    },
    {
      "cell_type": "markdown",
      "source": [
        "```\n",
        "Here, best_f1 after threshold optimization is 0.80 for most except following combinations  \n",
        "max_depth=13, min_samples_split=10 and min_samples_leaf=5  \n",
        "max_depth=14, min_samples_split=10 and min_samples_leaf=5  \n",
        "max_depth=14, min_samples_split=10 and min_samples_leaf=3  \n",
        "max_depth=14, min_samples_split=20 and min_samples_leaf=3  \n",
        "max_depth=15, min_samples_split=10 and min_samples_leaf=3  \n",
        "max_depth=15, min_samples_split=10 and min_samples_leaf=5  \n",
        "max_depth=15, min_samples_split=20 and min_samples_leaf=3  \n",
        "max_depth=15, min_samples_split=20 and min_samples_leaf=5\n",
        "```"
      ],
      "metadata": {
        "id": "Sk3cjkEuGWRg"
      },
      "id": "Sk3cjkEuGWRg"
    },
    {
      "cell_type": "markdown",
      "source": [
        "`Choosing this as our best model`"
      ],
      "metadata": {
        "id": "PIBHbk7uvsiP"
      },
      "id": "PIBHbk7uvsiP"
    },
    {
      "cell_type": "code",
      "source": [
        "rnd_clf=RandomForestClassifier(max_depth=15,min_samples_leaf=5,min_samples_split=20,n_estimators=100,max_features=\"sqrt\",random_state=42)\n",
        "rnd_clf.fit(x_res,y_res)\n",
        "y_pred=rnd_clf.predict(x_test)\n",
        "y_proba=rnd_clf.predict_proba(x_test)[:,1]\n",
        "report(rnd_clf,y_test,y_pred,y_proba)\n",
        "threshold_testing(y_proba)"
      ],
      "metadata": {
        "colab": {
          "base_uri": "https://localhost:8080/"
        },
        "id": "bxwTe9ek6ehN",
        "outputId": "5f869e14-5157-4cda-80ad-ff9c4bb6ea44"
      },
      "id": "bxwTe9ek6ehN",
      "execution_count": 24,
      "outputs": [
        {
          "output_type": "stream",
          "name": "stdout",
          "text": [
            "              precision    recall  f1-score   support\n",
            "\n",
            "           0       0.93      0.96      0.95      4462\n",
            "           1       0.83      0.75      0.79      1237\n",
            "\n",
            "    accuracy                           0.91      5699\n",
            "   macro avg       0.88      0.86      0.87      5699\n",
            "weighted avg       0.91      0.91      0.91      5699\n",
            "\n",
            "Confusion Matrix:\n",
            "  [[4277  185]\n",
            " [ 307  930]]\n",
            "ROC AUC Score: 0.93\n",
            "best_f1: 0.81\n",
            "best_thresh: 0.57\n"
          ]
        }
      ]
    },
    {
      "cell_type": "code",
      "source": [
        "# feature importances extracted from our best RandomForest model\n",
        "importances=pd.Series(rnd_clf.feature_importances_,index=x_res.columns)\n",
        "top_features=importances.sort_values(ascending=False)\n",
        "top_features"
      ],
      "metadata": {
        "colab": {
          "base_uri": "https://localhost:8080/",
          "height": 586
        },
        "id": "uAJZ1dmRHaKR",
        "outputId": "ba963bab-5d27-4baf-dfe8-4b8c835ab258"
      },
      "id": "uAJZ1dmRHaKR",
      "execution_count": 25,
      "outputs": [
        {
          "output_type": "execute_result",
          "data": {
            "text/plain": [
              "person_income                  0.225007\n",
              "loan_grade                     0.174545\n",
              "loan_amnt                      0.131197\n",
              "loan_int_rate                  0.117976\n",
              "person_home_ownership_RENT     0.106645\n",
              "person_emp_length              0.048057\n",
              "cb_person_cred_hist_length     0.038059\n",
              "person_age                     0.035814\n",
              "person_home_ownership_OWN      0.024789\n",
              "loan_intent_VENTURE            0.020836\n",
              "loan_intent_HOMEIMPROVEMENT    0.020484\n",
              "loan_intent_EDUCATION          0.016627\n",
              "cb_person_default_on_file_Y    0.016534\n",
              "loan_intent_PERSONAL           0.011956\n",
              "loan_intent_MEDICAL            0.011248\n",
              "person_home_ownership_OTHER    0.000226\n",
              "dtype: float64"
            ],
            "text/html": [
              "<div>\n",
              "<style scoped>\n",
              "    .dataframe tbody tr th:only-of-type {\n",
              "        vertical-align: middle;\n",
              "    }\n",
              "\n",
              "    .dataframe tbody tr th {\n",
              "        vertical-align: top;\n",
              "    }\n",
              "\n",
              "    .dataframe thead th {\n",
              "        text-align: right;\n",
              "    }\n",
              "</style>\n",
              "<table border=\"1\" class=\"dataframe\">\n",
              "  <thead>\n",
              "    <tr style=\"text-align: right;\">\n",
              "      <th></th>\n",
              "      <th>0</th>\n",
              "    </tr>\n",
              "  </thead>\n",
              "  <tbody>\n",
              "    <tr>\n",
              "      <th>person_income</th>\n",
              "      <td>0.225007</td>\n",
              "    </tr>\n",
              "    <tr>\n",
              "      <th>loan_grade</th>\n",
              "      <td>0.174545</td>\n",
              "    </tr>\n",
              "    <tr>\n",
              "      <th>loan_amnt</th>\n",
              "      <td>0.131197</td>\n",
              "    </tr>\n",
              "    <tr>\n",
              "      <th>loan_int_rate</th>\n",
              "      <td>0.117976</td>\n",
              "    </tr>\n",
              "    <tr>\n",
              "      <th>person_home_ownership_RENT</th>\n",
              "      <td>0.106645</td>\n",
              "    </tr>\n",
              "    <tr>\n",
              "      <th>person_emp_length</th>\n",
              "      <td>0.048057</td>\n",
              "    </tr>\n",
              "    <tr>\n",
              "      <th>cb_person_cred_hist_length</th>\n",
              "      <td>0.038059</td>\n",
              "    </tr>\n",
              "    <tr>\n",
              "      <th>person_age</th>\n",
              "      <td>0.035814</td>\n",
              "    </tr>\n",
              "    <tr>\n",
              "      <th>person_home_ownership_OWN</th>\n",
              "      <td>0.024789</td>\n",
              "    </tr>\n",
              "    <tr>\n",
              "      <th>loan_intent_VENTURE</th>\n",
              "      <td>0.020836</td>\n",
              "    </tr>\n",
              "    <tr>\n",
              "      <th>loan_intent_HOMEIMPROVEMENT</th>\n",
              "      <td>0.020484</td>\n",
              "    </tr>\n",
              "    <tr>\n",
              "      <th>loan_intent_EDUCATION</th>\n",
              "      <td>0.016627</td>\n",
              "    </tr>\n",
              "    <tr>\n",
              "      <th>cb_person_default_on_file_Y</th>\n",
              "      <td>0.016534</td>\n",
              "    </tr>\n",
              "    <tr>\n",
              "      <th>loan_intent_PERSONAL</th>\n",
              "      <td>0.011956</td>\n",
              "    </tr>\n",
              "    <tr>\n",
              "      <th>loan_intent_MEDICAL</th>\n",
              "      <td>0.011248</td>\n",
              "    </tr>\n",
              "    <tr>\n",
              "      <th>person_home_ownership_OTHER</th>\n",
              "      <td>0.000226</td>\n",
              "    </tr>\n",
              "  </tbody>\n",
              "</table>\n",
              "</div><br><label><b>dtype:</b> float64</label>"
            ]
          },
          "metadata": {},
          "execution_count": 25
        }
      ]
    },
    {
      "cell_type": "code",
      "source": [
        "(top_features.cumsum()<=0.99).sum()"
      ],
      "metadata": {
        "colab": {
          "base_uri": "https://localhost:8080/"
        },
        "id": "GYLf_8x1H2V1",
        "outputId": "76f94593-bcbb-469a-e9a9-c3856ab797c0"
      },
      "id": "GYLf_8x1H2V1",
      "execution_count": 36,
      "outputs": [
        {
          "output_type": "execute_result",
          "data": {
            "text/plain": [
              "np.int64(14)"
            ]
          },
          "metadata": {},
          "execution_count": 36
        }
      ]
    },
    {
      "cell_type": "code",
      "source": [
        "(top_features.cumsum()<=0.95).sum()"
      ],
      "metadata": {
        "colab": {
          "base_uri": "https://localhost:8080/"
        },
        "id": "tWa83G3SJCAd",
        "outputId": "af3ecd48-46fa-49bc-aac6-d83880def002"
      },
      "id": "tWa83G3SJCAd",
      "execution_count": 39,
      "outputs": [
        {
          "output_type": "execute_result",
          "data": {
            "text/plain": [
              "np.int64(11)"
            ]
          },
          "metadata": {},
          "execution_count": 39
        }
      ]
    },
    {
      "cell_type": "code",
      "source": [
        "top_features.cumsum()"
      ],
      "metadata": {
        "colab": {
          "base_uri": "https://localhost:8080/",
          "height": 586
        },
        "id": "NPV4sf_EINwL",
        "outputId": "fcee1ad0-856b-49a6-a07e-831ca7485081"
      },
      "id": "NPV4sf_EINwL",
      "execution_count": 33,
      "outputs": [
        {
          "output_type": "execute_result",
          "data": {
            "text/plain": [
              "person_income                  0.225007\n",
              "loan_grade                     0.399551\n",
              "loan_amnt                      0.530748\n",
              "loan_int_rate                  0.648724\n",
              "person_home_ownership_RENT     0.755369\n",
              "person_emp_length              0.803426\n",
              "cb_person_cred_hist_length     0.841485\n",
              "person_age                     0.877299\n",
              "person_home_ownership_OWN      0.902089\n",
              "loan_intent_VENTURE            0.922925\n",
              "loan_intent_HOMEIMPROVEMENT    0.943409\n",
              "loan_intent_EDUCATION          0.960036\n",
              "cb_person_default_on_file_Y    0.976570\n",
              "loan_intent_PERSONAL           0.988526\n",
              "loan_intent_MEDICAL            0.999774\n",
              "person_home_ownership_OTHER    1.000000\n",
              "dtype: float64"
            ],
            "text/html": [
              "<div>\n",
              "<style scoped>\n",
              "    .dataframe tbody tr th:only-of-type {\n",
              "        vertical-align: middle;\n",
              "    }\n",
              "\n",
              "    .dataframe tbody tr th {\n",
              "        vertical-align: top;\n",
              "    }\n",
              "\n",
              "    .dataframe thead th {\n",
              "        text-align: right;\n",
              "    }\n",
              "</style>\n",
              "<table border=\"1\" class=\"dataframe\">\n",
              "  <thead>\n",
              "    <tr style=\"text-align: right;\">\n",
              "      <th></th>\n",
              "      <th>0</th>\n",
              "    </tr>\n",
              "  </thead>\n",
              "  <tbody>\n",
              "    <tr>\n",
              "      <th>person_income</th>\n",
              "      <td>0.225007</td>\n",
              "    </tr>\n",
              "    <tr>\n",
              "      <th>loan_grade</th>\n",
              "      <td>0.399551</td>\n",
              "    </tr>\n",
              "    <tr>\n",
              "      <th>loan_amnt</th>\n",
              "      <td>0.530748</td>\n",
              "    </tr>\n",
              "    <tr>\n",
              "      <th>loan_int_rate</th>\n",
              "      <td>0.648724</td>\n",
              "    </tr>\n",
              "    <tr>\n",
              "      <th>person_home_ownership_RENT</th>\n",
              "      <td>0.755369</td>\n",
              "    </tr>\n",
              "    <tr>\n",
              "      <th>person_emp_length</th>\n",
              "      <td>0.803426</td>\n",
              "    </tr>\n",
              "    <tr>\n",
              "      <th>cb_person_cred_hist_length</th>\n",
              "      <td>0.841485</td>\n",
              "    </tr>\n",
              "    <tr>\n",
              "      <th>person_age</th>\n",
              "      <td>0.877299</td>\n",
              "    </tr>\n",
              "    <tr>\n",
              "      <th>person_home_ownership_OWN</th>\n",
              "      <td>0.902089</td>\n",
              "    </tr>\n",
              "    <tr>\n",
              "      <th>loan_intent_VENTURE</th>\n",
              "      <td>0.922925</td>\n",
              "    </tr>\n",
              "    <tr>\n",
              "      <th>loan_intent_HOMEIMPROVEMENT</th>\n",
              "      <td>0.943409</td>\n",
              "    </tr>\n",
              "    <tr>\n",
              "      <th>loan_intent_EDUCATION</th>\n",
              "      <td>0.960036</td>\n",
              "    </tr>\n",
              "    <tr>\n",
              "      <th>cb_person_default_on_file_Y</th>\n",
              "      <td>0.976570</td>\n",
              "    </tr>\n",
              "    <tr>\n",
              "      <th>loan_intent_PERSONAL</th>\n",
              "      <td>0.988526</td>\n",
              "    </tr>\n",
              "    <tr>\n",
              "      <th>loan_intent_MEDICAL</th>\n",
              "      <td>0.999774</td>\n",
              "    </tr>\n",
              "    <tr>\n",
              "      <th>person_home_ownership_OTHER</th>\n",
              "      <td>1.000000</td>\n",
              "    </tr>\n",
              "  </tbody>\n",
              "</table>\n",
              "</div><br><label><b>dtype:</b> float64</label>"
            ]
          },
          "metadata": {},
          "execution_count": 33
        }
      ]
    },
    {
      "cell_type": "markdown",
      "source": [
        "`Here, 14 features conserve 99% of feature importances while 11 features out of 16 conserve 95% of feature importances`"
      ],
      "metadata": {
        "id": "Gc5TE07nLmG5"
      },
      "id": "Gc5TE07nLmG5"
    },
    {
      "cell_type": "code",
      "source": [
        "# creating new training and test set based on top 14 features\n",
        "xtrain_top14=x_res[top_features.head(14).index]\n",
        "xtest_top14=x_test[top_features.head(14).index]"
      ],
      "metadata": {
        "id": "NPT4s566IoUm"
      },
      "id": "NPT4s566IoUm",
      "execution_count": 48,
      "outputs": []
    },
    {
      "cell_type": "code",
      "source": [
        "x_top14.head()"
      ],
      "metadata": {
        "colab": {
          "base_uri": "https://localhost:8080/",
          "height": 226
        },
        "id": "wLZb43rmLPPY",
        "outputId": "7aafa645-3a91-4623-d9a0-24711ce77dd2"
      },
      "id": "wLZb43rmLPPY",
      "execution_count": 44,
      "outputs": [
        {
          "output_type": "execute_result",
          "data": {
            "text/plain": [
              "   person_income  loan_grade  loan_amnt  loan_int_rate  \\\n",
              "0       0.573865         1.0   1.357843       0.017939   \n",
              "1      -0.730708         0.0  -1.239575      -1.324539   \n",
              "2      -0.624410         3.0   0.240717       1.206110   \n",
              "3       1.520888         1.0   2.423653       0.095093   \n",
              "4      -0.489121         2.0  -0.418506       0.517897   \n",
              "\n",
              "   person_home_ownership_RENT  person_emp_length  cb_person_cred_hist_length  \\\n",
              "0                         0.0           1.056437                   -0.443593   \n",
              "1                         0.0           0.309143                    1.552193   \n",
              "2                         1.0           3.049221                    0.554300   \n",
              "3                         0.0          -0.438151                   -0.693067   \n",
              "4                         1.0          -0.438151                   -0.194120   \n",
              "\n",
              "   person_age  person_home_ownership_OWN  loan_intent_VENTURE  \\\n",
              "0   -0.440014                        0.0                  0.0   \n",
              "1    1.521858                        0.0                  0.0   \n",
              "2    0.867901                        0.0                  0.0   \n",
              "3   -0.440014                        0.0                  0.0   \n",
              "4   -0.113035                        0.0                  0.0   \n",
              "\n",
              "   loan_intent_HOMEIMPROVEMENT  loan_intent_EDUCATION  \\\n",
              "0                          0.0                    0.0   \n",
              "1                          0.0                    1.0   \n",
              "2                          0.0                    0.0   \n",
              "3                          0.0                    0.0   \n",
              "4                          0.0                    0.0   \n",
              "\n",
              "   cb_person_default_on_file_Y  loan_intent_PERSONAL  \n",
              "0                          0.0                   0.0  \n",
              "1                          0.0                   0.0  \n",
              "2                          0.0                   0.0  \n",
              "3                          0.0                   0.0  \n",
              "4                          1.0                   0.0  "
            ],
            "text/html": [
              "\n",
              "  <div id=\"df-cc840eeb-f11a-46f3-9fb6-119b5784c348\" class=\"colab-df-container\">\n",
              "    <div>\n",
              "<style scoped>\n",
              "    .dataframe tbody tr th:only-of-type {\n",
              "        vertical-align: middle;\n",
              "    }\n",
              "\n",
              "    .dataframe tbody tr th {\n",
              "        vertical-align: top;\n",
              "    }\n",
              "\n",
              "    .dataframe thead th {\n",
              "        text-align: right;\n",
              "    }\n",
              "</style>\n",
              "<table border=\"1\" class=\"dataframe\">\n",
              "  <thead>\n",
              "    <tr style=\"text-align: right;\">\n",
              "      <th></th>\n",
              "      <th>person_income</th>\n",
              "      <th>loan_grade</th>\n",
              "      <th>loan_amnt</th>\n",
              "      <th>loan_int_rate</th>\n",
              "      <th>person_home_ownership_RENT</th>\n",
              "      <th>person_emp_length</th>\n",
              "      <th>cb_person_cred_hist_length</th>\n",
              "      <th>person_age</th>\n",
              "      <th>person_home_ownership_OWN</th>\n",
              "      <th>loan_intent_VENTURE</th>\n",
              "      <th>loan_intent_HOMEIMPROVEMENT</th>\n",
              "      <th>loan_intent_EDUCATION</th>\n",
              "      <th>cb_person_default_on_file_Y</th>\n",
              "      <th>loan_intent_PERSONAL</th>\n",
              "    </tr>\n",
              "  </thead>\n",
              "  <tbody>\n",
              "    <tr>\n",
              "      <th>0</th>\n",
              "      <td>0.573865</td>\n",
              "      <td>1.0</td>\n",
              "      <td>1.357843</td>\n",
              "      <td>0.017939</td>\n",
              "      <td>0.0</td>\n",
              "      <td>1.056437</td>\n",
              "      <td>-0.443593</td>\n",
              "      <td>-0.440014</td>\n",
              "      <td>0.0</td>\n",
              "      <td>0.0</td>\n",
              "      <td>0.0</td>\n",
              "      <td>0.0</td>\n",
              "      <td>0.0</td>\n",
              "      <td>0.0</td>\n",
              "    </tr>\n",
              "    <tr>\n",
              "      <th>1</th>\n",
              "      <td>-0.730708</td>\n",
              "      <td>0.0</td>\n",
              "      <td>-1.239575</td>\n",
              "      <td>-1.324539</td>\n",
              "      <td>0.0</td>\n",
              "      <td>0.309143</td>\n",
              "      <td>1.552193</td>\n",
              "      <td>1.521858</td>\n",
              "      <td>0.0</td>\n",
              "      <td>0.0</td>\n",
              "      <td>0.0</td>\n",
              "      <td>1.0</td>\n",
              "      <td>0.0</td>\n",
              "      <td>0.0</td>\n",
              "    </tr>\n",
              "    <tr>\n",
              "      <th>2</th>\n",
              "      <td>-0.624410</td>\n",
              "      <td>3.0</td>\n",
              "      <td>0.240717</td>\n",
              "      <td>1.206110</td>\n",
              "      <td>1.0</td>\n",
              "      <td>3.049221</td>\n",
              "      <td>0.554300</td>\n",
              "      <td>0.867901</td>\n",
              "      <td>0.0</td>\n",
              "      <td>0.0</td>\n",
              "      <td>0.0</td>\n",
              "      <td>0.0</td>\n",
              "      <td>0.0</td>\n",
              "      <td>0.0</td>\n",
              "    </tr>\n",
              "    <tr>\n",
              "      <th>3</th>\n",
              "      <td>1.520888</td>\n",
              "      <td>1.0</td>\n",
              "      <td>2.423653</td>\n",
              "      <td>0.095093</td>\n",
              "      <td>0.0</td>\n",
              "      <td>-0.438151</td>\n",
              "      <td>-0.693067</td>\n",
              "      <td>-0.440014</td>\n",
              "      <td>0.0</td>\n",
              "      <td>0.0</td>\n",
              "      <td>0.0</td>\n",
              "      <td>0.0</td>\n",
              "      <td>0.0</td>\n",
              "      <td>0.0</td>\n",
              "    </tr>\n",
              "    <tr>\n",
              "      <th>4</th>\n",
              "      <td>-0.489121</td>\n",
              "      <td>2.0</td>\n",
              "      <td>-0.418506</td>\n",
              "      <td>0.517897</td>\n",
              "      <td>1.0</td>\n",
              "      <td>-0.438151</td>\n",
              "      <td>-0.194120</td>\n",
              "      <td>-0.113035</td>\n",
              "      <td>0.0</td>\n",
              "      <td>0.0</td>\n",
              "      <td>0.0</td>\n",
              "      <td>0.0</td>\n",
              "      <td>1.0</td>\n",
              "      <td>0.0</td>\n",
              "    </tr>\n",
              "  </tbody>\n",
              "</table>\n",
              "</div>\n",
              "    <div class=\"colab-df-buttons\">\n",
              "\n",
              "  <div class=\"colab-df-container\">\n",
              "    <button class=\"colab-df-convert\" onclick=\"convertToInteractive('df-cc840eeb-f11a-46f3-9fb6-119b5784c348')\"\n",
              "            title=\"Convert this dataframe to an interactive table.\"\n",
              "            style=\"display:none;\">\n",
              "\n",
              "  <svg xmlns=\"http://www.w3.org/2000/svg\" height=\"24px\" viewBox=\"0 -960 960 960\">\n",
              "    <path d=\"M120-120v-720h720v720H120Zm60-500h600v-160H180v160Zm220 220h160v-160H400v160Zm0 220h160v-160H400v160ZM180-400h160v-160H180v160Zm440 0h160v-160H620v160ZM180-180h160v-160H180v160Zm440 0h160v-160H620v160Z\"/>\n",
              "  </svg>\n",
              "    </button>\n",
              "\n",
              "  <style>\n",
              "    .colab-df-container {\n",
              "      display:flex;\n",
              "      gap: 12px;\n",
              "    }\n",
              "\n",
              "    .colab-df-convert {\n",
              "      background-color: #E8F0FE;\n",
              "      border: none;\n",
              "      border-radius: 50%;\n",
              "      cursor: pointer;\n",
              "      display: none;\n",
              "      fill: #1967D2;\n",
              "      height: 32px;\n",
              "      padding: 0 0 0 0;\n",
              "      width: 32px;\n",
              "    }\n",
              "\n",
              "    .colab-df-convert:hover {\n",
              "      background-color: #E2EBFA;\n",
              "      box-shadow: 0px 1px 2px rgba(60, 64, 67, 0.3), 0px 1px 3px 1px rgba(60, 64, 67, 0.15);\n",
              "      fill: #174EA6;\n",
              "    }\n",
              "\n",
              "    .colab-df-buttons div {\n",
              "      margin-bottom: 4px;\n",
              "    }\n",
              "\n",
              "    [theme=dark] .colab-df-convert {\n",
              "      background-color: #3B4455;\n",
              "      fill: #D2E3FC;\n",
              "    }\n",
              "\n",
              "    [theme=dark] .colab-df-convert:hover {\n",
              "      background-color: #434B5C;\n",
              "      box-shadow: 0px 1px 3px 1px rgba(0, 0, 0, 0.15);\n",
              "      filter: drop-shadow(0px 1px 2px rgba(0, 0, 0, 0.3));\n",
              "      fill: #FFFFFF;\n",
              "    }\n",
              "  </style>\n",
              "\n",
              "    <script>\n",
              "      const buttonEl =\n",
              "        document.querySelector('#df-cc840eeb-f11a-46f3-9fb6-119b5784c348 button.colab-df-convert');\n",
              "      buttonEl.style.display =\n",
              "        google.colab.kernel.accessAllowed ? 'block' : 'none';\n",
              "\n",
              "      async function convertToInteractive(key) {\n",
              "        const element = document.querySelector('#df-cc840eeb-f11a-46f3-9fb6-119b5784c348');\n",
              "        const dataTable =\n",
              "          await google.colab.kernel.invokeFunction('convertToInteractive',\n",
              "                                                    [key], {});\n",
              "        if (!dataTable) return;\n",
              "\n",
              "        const docLinkHtml = 'Like what you see? Visit the ' +\n",
              "          '<a target=\"_blank\" href=https://colab.research.google.com/notebooks/data_table.ipynb>data table notebook</a>'\n",
              "          + ' to learn more about interactive tables.';\n",
              "        element.innerHTML = '';\n",
              "        dataTable['output_type'] = 'display_data';\n",
              "        await google.colab.output.renderOutput(dataTable, element);\n",
              "        const docLink = document.createElement('div');\n",
              "        docLink.innerHTML = docLinkHtml;\n",
              "        element.appendChild(docLink);\n",
              "      }\n",
              "    </script>\n",
              "  </div>\n",
              "\n",
              "\n",
              "    <div id=\"df-e853dfee-b44e-4868-b5cc-3429e88cca44\">\n",
              "      <button class=\"colab-df-quickchart\" onclick=\"quickchart('df-e853dfee-b44e-4868-b5cc-3429e88cca44')\"\n",
              "                title=\"Suggest charts\"\n",
              "                style=\"display:none;\">\n",
              "\n",
              "<svg xmlns=\"http://www.w3.org/2000/svg\" height=\"24px\"viewBox=\"0 0 24 24\"\n",
              "     width=\"24px\">\n",
              "    <g>\n",
              "        <path d=\"M19 3H5c-1.1 0-2 .9-2 2v14c0 1.1.9 2 2 2h14c1.1 0 2-.9 2-2V5c0-1.1-.9-2-2-2zM9 17H7v-7h2v7zm4 0h-2V7h2v10zm4 0h-2v-4h2v4z\"/>\n",
              "    </g>\n",
              "</svg>\n",
              "      </button>\n",
              "\n",
              "<style>\n",
              "  .colab-df-quickchart {\n",
              "      --bg-color: #E8F0FE;\n",
              "      --fill-color: #1967D2;\n",
              "      --hover-bg-color: #E2EBFA;\n",
              "      --hover-fill-color: #174EA6;\n",
              "      --disabled-fill-color: #AAA;\n",
              "      --disabled-bg-color: #DDD;\n",
              "  }\n",
              "\n",
              "  [theme=dark] .colab-df-quickchart {\n",
              "      --bg-color: #3B4455;\n",
              "      --fill-color: #D2E3FC;\n",
              "      --hover-bg-color: #434B5C;\n",
              "      --hover-fill-color: #FFFFFF;\n",
              "      --disabled-bg-color: #3B4455;\n",
              "      --disabled-fill-color: #666;\n",
              "  }\n",
              "\n",
              "  .colab-df-quickchart {\n",
              "    background-color: var(--bg-color);\n",
              "    border: none;\n",
              "    border-radius: 50%;\n",
              "    cursor: pointer;\n",
              "    display: none;\n",
              "    fill: var(--fill-color);\n",
              "    height: 32px;\n",
              "    padding: 0;\n",
              "    width: 32px;\n",
              "  }\n",
              "\n",
              "  .colab-df-quickchart:hover {\n",
              "    background-color: var(--hover-bg-color);\n",
              "    box-shadow: 0 1px 2px rgba(60, 64, 67, 0.3), 0 1px 3px 1px rgba(60, 64, 67, 0.15);\n",
              "    fill: var(--button-hover-fill-color);\n",
              "  }\n",
              "\n",
              "  .colab-df-quickchart-complete:disabled,\n",
              "  .colab-df-quickchart-complete:disabled:hover {\n",
              "    background-color: var(--disabled-bg-color);\n",
              "    fill: var(--disabled-fill-color);\n",
              "    box-shadow: none;\n",
              "  }\n",
              "\n",
              "  .colab-df-spinner {\n",
              "    border: 2px solid var(--fill-color);\n",
              "    border-color: transparent;\n",
              "    border-bottom-color: var(--fill-color);\n",
              "    animation:\n",
              "      spin 1s steps(1) infinite;\n",
              "  }\n",
              "\n",
              "  @keyframes spin {\n",
              "    0% {\n",
              "      border-color: transparent;\n",
              "      border-bottom-color: var(--fill-color);\n",
              "      border-left-color: var(--fill-color);\n",
              "    }\n",
              "    20% {\n",
              "      border-color: transparent;\n",
              "      border-left-color: var(--fill-color);\n",
              "      border-top-color: var(--fill-color);\n",
              "    }\n",
              "    30% {\n",
              "      border-color: transparent;\n",
              "      border-left-color: var(--fill-color);\n",
              "      border-top-color: var(--fill-color);\n",
              "      border-right-color: var(--fill-color);\n",
              "    }\n",
              "    40% {\n",
              "      border-color: transparent;\n",
              "      border-right-color: var(--fill-color);\n",
              "      border-top-color: var(--fill-color);\n",
              "    }\n",
              "    60% {\n",
              "      border-color: transparent;\n",
              "      border-right-color: var(--fill-color);\n",
              "    }\n",
              "    80% {\n",
              "      border-color: transparent;\n",
              "      border-right-color: var(--fill-color);\n",
              "      border-bottom-color: var(--fill-color);\n",
              "    }\n",
              "    90% {\n",
              "      border-color: transparent;\n",
              "      border-bottom-color: var(--fill-color);\n",
              "    }\n",
              "  }\n",
              "</style>\n",
              "\n",
              "      <script>\n",
              "        async function quickchart(key) {\n",
              "          const quickchartButtonEl =\n",
              "            document.querySelector('#' + key + ' button');\n",
              "          quickchartButtonEl.disabled = true;  // To prevent multiple clicks.\n",
              "          quickchartButtonEl.classList.add('colab-df-spinner');\n",
              "          try {\n",
              "            const charts = await google.colab.kernel.invokeFunction(\n",
              "                'suggestCharts', [key], {});\n",
              "          } catch (error) {\n",
              "            console.error('Error during call to suggestCharts:', error);\n",
              "          }\n",
              "          quickchartButtonEl.classList.remove('colab-df-spinner');\n",
              "          quickchartButtonEl.classList.add('colab-df-quickchart-complete');\n",
              "        }\n",
              "        (() => {\n",
              "          let quickchartButtonEl =\n",
              "            document.querySelector('#df-e853dfee-b44e-4868-b5cc-3429e88cca44 button');\n",
              "          quickchartButtonEl.style.display =\n",
              "            google.colab.kernel.accessAllowed ? 'block' : 'none';\n",
              "        })();\n",
              "      </script>\n",
              "    </div>\n",
              "\n",
              "    </div>\n",
              "  </div>\n"
            ],
            "application/vnd.google.colaboratory.intrinsic+json": {
              "type": "dataframe",
              "variable_name": "x_top14",
              "summary": "{\n  \"name\": \"x_top14\",\n  \"rows\": 35692,\n  \"fields\": [\n    {\n      \"column\": \"person_income\",\n      \"properties\": {\n        \"dtype\": \"number\",\n        \"std\": 0.9006540353108141,\n        \"min\": -1.2042202088591225,\n        \"max\": 38.141397710370896,\n        \"num_unique_values\": 15800,\n        \"samples\": [\n          -0.4348529384662613,\n          0.9732380564834336,\n          -0.33165156915298716\n        ],\n        \"semantic_type\": \"\",\n        \"description\": \"\"\n      }\n    },\n    {\n      \"column\": \"loan_grade\",\n      \"properties\": {\n        \"dtype\": \"number\",\n        \"std\": 1.3083496056005552,\n        \"min\": 0.0,\n        \"max\": 6.0,\n        \"num_unique_values\": 1121,\n        \"samples\": [\n          3.431707258008242,\n          0.913412938164032,\n          4.2655316141246775\n        ],\n        \"semantic_type\": \"\",\n        \"description\": \"\"\n      }\n    },\n    {\n      \"column\": \"loan_amnt\",\n      \"properties\": {\n        \"dtype\": \"number\",\n        \"std\": 1.0385663317707772,\n        \"min\": -1.444841715956471,\n        \"max\": 4.002630279010599,\n        \"num_unique_values\": 12025,\n        \"samples\": [\n          -1.2687271141150034,\n          0.7308221281491711,\n          -0.4987552655280697\n        ],\n        \"semantic_type\": \"\",\n        \"description\": \"\"\n      }\n    },\n    {\n      \"column\": \"loan_int_rate\",\n      \"properties\": {\n        \"dtype\": \"number\",\n        \"std\": 1.046229554099419,\n        \"min\": -1.7380843576457867,\n        \"max\": 3.7552759255089825,\n        \"num_unique_values\": 12621,\n        \"samples\": [\n          1.579395530095886,\n          -0.23752189490993136,\n          -0.862362101433274\n        ],\n        \"semantic_type\": \"\",\n        \"description\": \"\"\n      }\n    },\n    {\n      \"column\": \"person_home_ownership_RENT\",\n      \"properties\": {\n        \"dtype\": \"number\",\n        \"std\": 0.4864981152340537,\n        \"min\": 0.0,\n        \"max\": 1.0,\n        \"num_unique_values\": 933,\n        \"samples\": [\n          0.8933565746596509,\n          0.3978312306111167,\n          0.030058312201998505\n        ],\n        \"semantic_type\": \"\",\n        \"description\": \"\"\n      }\n    },\n    {\n      \"column\": \"person_emp_length\",\n      \"properties\": {\n        \"dtype\": \"number\",\n        \"std\": 0.9675368183533904,\n        \"min\": -1.1854443777802934,\n        \"max\": 9.027571167880971,\n        \"num_unique_values\": 9387,\n        \"samples\": [\n          -1.1847480264442254,\n          -0.5435411787034585,\n          0.840308742090948\n        ],\n        \"semantic_type\": \"\",\n        \"description\": \"\"\n      }\n    },\n    {\n      \"column\": \"cb_person_cred_hist_length\",\n      \"properties\": {\n        \"dtype\": \"number\",\n        \"std\": 0.9938316944148549,\n        \"min\": -0.9425398020461506,\n        \"max\": 6.04271256272678,\n        \"num_unique_values\": 8656,\n        \"samples\": [\n          0.21789814823827341,\n          0.7317075883379605,\n          -0.007908800661134655\n        ],\n        \"semantic_type\": \"\",\n        \"description\": \"\"\n      }\n    },\n    {\n      \"column\": \"person_age\",\n      \"properties\": {\n        \"dtype\": \"number\",\n        \"std\": 0.9906109559232757,\n        \"min\": -1.25746081530075,\n        \"max\": 9.20585705251727,\n        \"num_unique_values\": 10111,\n        \"samples\": [\n          -0.3527142410015168,\n          0.8275434615769963,\n          0.3473204326638888\n        ],\n        \"semantic_type\": \"\",\n        \"description\": \"\"\n      }\n    },\n    {\n      \"column\": \"person_home_ownership_OWN\",\n      \"properties\": {\n        \"dtype\": \"number\",\n        \"std\": 0.22751275492923298,\n        \"min\": 0.0,\n        \"max\": 1.0,\n        \"num_unique_values\": 195,\n        \"samples\": [\n          0.5138353115463513,\n          0.4944141688156024,\n          0.7209576128697398\n        ],\n        \"semantic_type\": \"\",\n        \"description\": \"\"\n      }\n    },\n    {\n      \"column\": \"loan_intent_VENTURE\",\n      \"properties\": {\n        \"dtype\": \"number\",\n        \"std\": 0.3567666445879779,\n        \"min\": 0.0,\n        \"max\": 1.0,\n        \"num_unique_values\": 320,\n        \"samples\": [\n          0.2093813334457727,\n          0.1949278391718975,\n          0.6376640461485906\n        ],\n        \"semantic_type\": \"\",\n        \"description\": \"\"\n      }\n    },\n    {\n      \"column\": \"loan_intent_HOMEIMPROVEMENT\",\n      \"properties\": {\n        \"dtype\": \"number\",\n        \"std\": 0.3156929379772465,\n        \"min\": 0.0,\n        \"max\": 1.0,\n        \"num_unique_values\": 422,\n        \"samples\": [\n          0.1199401838575358,\n          0.5267919098513837,\n          0.2630868013624841\n        ],\n        \"semantic_type\": \"\",\n        \"description\": \"\"\n      }\n    },\n    {\n      \"column\": \"loan_intent_EDUCATION\",\n      \"properties\": {\n        \"dtype\": \"number\",\n        \"std\": 0.3853569092387747,\n        \"min\": 0.0,\n        \"max\": 1.0,\n        \"num_unique_values\": 454,\n        \"samples\": [\n          0.5302219865915261,\n          0.187350417662427,\n          0.19480407979302095\n        ],\n        \"semantic_type\": \"\",\n        \"description\": \"\"\n      }\n    },\n    {\n      \"column\": \"cb_person_default_on_file_Y\",\n      \"properties\": {\n        \"dtype\": \"number\",\n        \"std\": 0.4154634487175083,\n        \"min\": 0.0,\n        \"max\": 1.0,\n        \"num_unique_values\": 683,\n        \"samples\": [\n          0.8023605509824779,\n          0.7820900146236098,\n          0.1897867774345764\n        ],\n        \"semantic_type\": \"\",\n        \"description\": \"\"\n      }\n    },\n    {\n      \"column\": \"loan_intent_PERSONAL\",\n      \"properties\": {\n        \"dtype\": \"number\",\n        \"std\": 0.3678587581586275,\n        \"min\": 0.0,\n        \"max\": 1.0,\n        \"num_unique_values\": 465,\n        \"samples\": [\n          0.7023384341018618,\n          0.33380703973356884,\n          0.9256684486396541\n        ],\n        \"semantic_type\": \"\",\n        \"description\": \"\"\n      }\n    }\n  ]\n}"
            }
          },
          "metadata": {},
          "execution_count": 44
        }
      ]
    },
    {
      "cell_type": "code",
      "source": [
        "# creating new training and test set based on top 11 features\n",
        "xtrain_top11=x_res[top_features.head(11).index]\n",
        "xtest_top11=x_test[top_features.head(11).index]"
      ],
      "metadata": {
        "id": "tZ-w1MGuLQX7"
      },
      "id": "tZ-w1MGuLQX7",
      "execution_count": 47,
      "outputs": []
    },
    {
      "cell_type": "code",
      "source": [
        "x_top11.head()"
      ],
      "metadata": {
        "colab": {
          "base_uri": "https://localhost:8080/",
          "height": 226
        },
        "id": "TGAc-i-HL3mr",
        "outputId": "a13dce67-d91d-4d0c-bca2-801eebdf89a4"
      },
      "id": "TGAc-i-HL3mr",
      "execution_count": 53,
      "outputs": [
        {
          "output_type": "execute_result",
          "data": {
            "text/plain": [
              "   person_income  loan_grade  loan_amnt  loan_int_rate  \\\n",
              "0       0.573865         1.0   1.357843       0.017939   \n",
              "1      -0.730708         0.0  -1.239575      -1.324539   \n",
              "2      -0.624410         3.0   0.240717       1.206110   \n",
              "3       1.520888         1.0   2.423653       0.095093   \n",
              "4      -0.489121         2.0  -0.418506       0.517897   \n",
              "\n",
              "   person_home_ownership_RENT  person_emp_length  cb_person_cred_hist_length  \\\n",
              "0                         0.0           1.056437                   -0.443593   \n",
              "1                         0.0           0.309143                    1.552193   \n",
              "2                         1.0           3.049221                    0.554300   \n",
              "3                         0.0          -0.438151                   -0.693067   \n",
              "4                         1.0          -0.438151                   -0.194120   \n",
              "\n",
              "   person_age  person_home_ownership_OWN  loan_intent_VENTURE  \\\n",
              "0   -0.440014                        0.0                  0.0   \n",
              "1    1.521858                        0.0                  0.0   \n",
              "2    0.867901                        0.0                  0.0   \n",
              "3   -0.440014                        0.0                  0.0   \n",
              "4   -0.113035                        0.0                  0.0   \n",
              "\n",
              "   loan_intent_HOMEIMPROVEMENT  \n",
              "0                          0.0  \n",
              "1                          0.0  \n",
              "2                          0.0  \n",
              "3                          0.0  \n",
              "4                          0.0  "
            ],
            "text/html": [
              "\n",
              "  <div id=\"df-6dcededf-4654-4133-88fe-a09266789a3e\" class=\"colab-df-container\">\n",
              "    <div>\n",
              "<style scoped>\n",
              "    .dataframe tbody tr th:only-of-type {\n",
              "        vertical-align: middle;\n",
              "    }\n",
              "\n",
              "    .dataframe tbody tr th {\n",
              "        vertical-align: top;\n",
              "    }\n",
              "\n",
              "    .dataframe thead th {\n",
              "        text-align: right;\n",
              "    }\n",
              "</style>\n",
              "<table border=\"1\" class=\"dataframe\">\n",
              "  <thead>\n",
              "    <tr style=\"text-align: right;\">\n",
              "      <th></th>\n",
              "      <th>person_income</th>\n",
              "      <th>loan_grade</th>\n",
              "      <th>loan_amnt</th>\n",
              "      <th>loan_int_rate</th>\n",
              "      <th>person_home_ownership_RENT</th>\n",
              "      <th>person_emp_length</th>\n",
              "      <th>cb_person_cred_hist_length</th>\n",
              "      <th>person_age</th>\n",
              "      <th>person_home_ownership_OWN</th>\n",
              "      <th>loan_intent_VENTURE</th>\n",
              "      <th>loan_intent_HOMEIMPROVEMENT</th>\n",
              "    </tr>\n",
              "  </thead>\n",
              "  <tbody>\n",
              "    <tr>\n",
              "      <th>0</th>\n",
              "      <td>0.573865</td>\n",
              "      <td>1.0</td>\n",
              "      <td>1.357843</td>\n",
              "      <td>0.017939</td>\n",
              "      <td>0.0</td>\n",
              "      <td>1.056437</td>\n",
              "      <td>-0.443593</td>\n",
              "      <td>-0.440014</td>\n",
              "      <td>0.0</td>\n",
              "      <td>0.0</td>\n",
              "      <td>0.0</td>\n",
              "    </tr>\n",
              "    <tr>\n",
              "      <th>1</th>\n",
              "      <td>-0.730708</td>\n",
              "      <td>0.0</td>\n",
              "      <td>-1.239575</td>\n",
              "      <td>-1.324539</td>\n",
              "      <td>0.0</td>\n",
              "      <td>0.309143</td>\n",
              "      <td>1.552193</td>\n",
              "      <td>1.521858</td>\n",
              "      <td>0.0</td>\n",
              "      <td>0.0</td>\n",
              "      <td>0.0</td>\n",
              "    </tr>\n",
              "    <tr>\n",
              "      <th>2</th>\n",
              "      <td>-0.624410</td>\n",
              "      <td>3.0</td>\n",
              "      <td>0.240717</td>\n",
              "      <td>1.206110</td>\n",
              "      <td>1.0</td>\n",
              "      <td>3.049221</td>\n",
              "      <td>0.554300</td>\n",
              "      <td>0.867901</td>\n",
              "      <td>0.0</td>\n",
              "      <td>0.0</td>\n",
              "      <td>0.0</td>\n",
              "    </tr>\n",
              "    <tr>\n",
              "      <th>3</th>\n",
              "      <td>1.520888</td>\n",
              "      <td>1.0</td>\n",
              "      <td>2.423653</td>\n",
              "      <td>0.095093</td>\n",
              "      <td>0.0</td>\n",
              "      <td>-0.438151</td>\n",
              "      <td>-0.693067</td>\n",
              "      <td>-0.440014</td>\n",
              "      <td>0.0</td>\n",
              "      <td>0.0</td>\n",
              "      <td>0.0</td>\n",
              "    </tr>\n",
              "    <tr>\n",
              "      <th>4</th>\n",
              "      <td>-0.489121</td>\n",
              "      <td>2.0</td>\n",
              "      <td>-0.418506</td>\n",
              "      <td>0.517897</td>\n",
              "      <td>1.0</td>\n",
              "      <td>-0.438151</td>\n",
              "      <td>-0.194120</td>\n",
              "      <td>-0.113035</td>\n",
              "      <td>0.0</td>\n",
              "      <td>0.0</td>\n",
              "      <td>0.0</td>\n",
              "    </tr>\n",
              "  </tbody>\n",
              "</table>\n",
              "</div>\n",
              "    <div class=\"colab-df-buttons\">\n",
              "\n",
              "  <div class=\"colab-df-container\">\n",
              "    <button class=\"colab-df-convert\" onclick=\"convertToInteractive('df-6dcededf-4654-4133-88fe-a09266789a3e')\"\n",
              "            title=\"Convert this dataframe to an interactive table.\"\n",
              "            style=\"display:none;\">\n",
              "\n",
              "  <svg xmlns=\"http://www.w3.org/2000/svg\" height=\"24px\" viewBox=\"0 -960 960 960\">\n",
              "    <path d=\"M120-120v-720h720v720H120Zm60-500h600v-160H180v160Zm220 220h160v-160H400v160Zm0 220h160v-160H400v160ZM180-400h160v-160H180v160Zm440 0h160v-160H620v160ZM180-180h160v-160H180v160Zm440 0h160v-160H620v160Z\"/>\n",
              "  </svg>\n",
              "    </button>\n",
              "\n",
              "  <style>\n",
              "    .colab-df-container {\n",
              "      display:flex;\n",
              "      gap: 12px;\n",
              "    }\n",
              "\n",
              "    .colab-df-convert {\n",
              "      background-color: #E8F0FE;\n",
              "      border: none;\n",
              "      border-radius: 50%;\n",
              "      cursor: pointer;\n",
              "      display: none;\n",
              "      fill: #1967D2;\n",
              "      height: 32px;\n",
              "      padding: 0 0 0 0;\n",
              "      width: 32px;\n",
              "    }\n",
              "\n",
              "    .colab-df-convert:hover {\n",
              "      background-color: #E2EBFA;\n",
              "      box-shadow: 0px 1px 2px rgba(60, 64, 67, 0.3), 0px 1px 3px 1px rgba(60, 64, 67, 0.15);\n",
              "      fill: #174EA6;\n",
              "    }\n",
              "\n",
              "    .colab-df-buttons div {\n",
              "      margin-bottom: 4px;\n",
              "    }\n",
              "\n",
              "    [theme=dark] .colab-df-convert {\n",
              "      background-color: #3B4455;\n",
              "      fill: #D2E3FC;\n",
              "    }\n",
              "\n",
              "    [theme=dark] .colab-df-convert:hover {\n",
              "      background-color: #434B5C;\n",
              "      box-shadow: 0px 1px 3px 1px rgba(0, 0, 0, 0.15);\n",
              "      filter: drop-shadow(0px 1px 2px rgba(0, 0, 0, 0.3));\n",
              "      fill: #FFFFFF;\n",
              "    }\n",
              "  </style>\n",
              "\n",
              "    <script>\n",
              "      const buttonEl =\n",
              "        document.querySelector('#df-6dcededf-4654-4133-88fe-a09266789a3e button.colab-df-convert');\n",
              "      buttonEl.style.display =\n",
              "        google.colab.kernel.accessAllowed ? 'block' : 'none';\n",
              "\n",
              "      async function convertToInteractive(key) {\n",
              "        const element = document.querySelector('#df-6dcededf-4654-4133-88fe-a09266789a3e');\n",
              "        const dataTable =\n",
              "          await google.colab.kernel.invokeFunction('convertToInteractive',\n",
              "                                                    [key], {});\n",
              "        if (!dataTable) return;\n",
              "\n",
              "        const docLinkHtml = 'Like what you see? Visit the ' +\n",
              "          '<a target=\"_blank\" href=https://colab.research.google.com/notebooks/data_table.ipynb>data table notebook</a>'\n",
              "          + ' to learn more about interactive tables.';\n",
              "        element.innerHTML = '';\n",
              "        dataTable['output_type'] = 'display_data';\n",
              "        await google.colab.output.renderOutput(dataTable, element);\n",
              "        const docLink = document.createElement('div');\n",
              "        docLink.innerHTML = docLinkHtml;\n",
              "        element.appendChild(docLink);\n",
              "      }\n",
              "    </script>\n",
              "  </div>\n",
              "\n",
              "\n",
              "    <div id=\"df-8937b61e-9539-4de0-aca2-09ce107be278\">\n",
              "      <button class=\"colab-df-quickchart\" onclick=\"quickchart('df-8937b61e-9539-4de0-aca2-09ce107be278')\"\n",
              "                title=\"Suggest charts\"\n",
              "                style=\"display:none;\">\n",
              "\n",
              "<svg xmlns=\"http://www.w3.org/2000/svg\" height=\"24px\"viewBox=\"0 0 24 24\"\n",
              "     width=\"24px\">\n",
              "    <g>\n",
              "        <path d=\"M19 3H5c-1.1 0-2 .9-2 2v14c0 1.1.9 2 2 2h14c1.1 0 2-.9 2-2V5c0-1.1-.9-2-2-2zM9 17H7v-7h2v7zm4 0h-2V7h2v10zm4 0h-2v-4h2v4z\"/>\n",
              "    </g>\n",
              "</svg>\n",
              "      </button>\n",
              "\n",
              "<style>\n",
              "  .colab-df-quickchart {\n",
              "      --bg-color: #E8F0FE;\n",
              "      --fill-color: #1967D2;\n",
              "      --hover-bg-color: #E2EBFA;\n",
              "      --hover-fill-color: #174EA6;\n",
              "      --disabled-fill-color: #AAA;\n",
              "      --disabled-bg-color: #DDD;\n",
              "  }\n",
              "\n",
              "  [theme=dark] .colab-df-quickchart {\n",
              "      --bg-color: #3B4455;\n",
              "      --fill-color: #D2E3FC;\n",
              "      --hover-bg-color: #434B5C;\n",
              "      --hover-fill-color: #FFFFFF;\n",
              "      --disabled-bg-color: #3B4455;\n",
              "      --disabled-fill-color: #666;\n",
              "  }\n",
              "\n",
              "  .colab-df-quickchart {\n",
              "    background-color: var(--bg-color);\n",
              "    border: none;\n",
              "    border-radius: 50%;\n",
              "    cursor: pointer;\n",
              "    display: none;\n",
              "    fill: var(--fill-color);\n",
              "    height: 32px;\n",
              "    padding: 0;\n",
              "    width: 32px;\n",
              "  }\n",
              "\n",
              "  .colab-df-quickchart:hover {\n",
              "    background-color: var(--hover-bg-color);\n",
              "    box-shadow: 0 1px 2px rgba(60, 64, 67, 0.3), 0 1px 3px 1px rgba(60, 64, 67, 0.15);\n",
              "    fill: var(--button-hover-fill-color);\n",
              "  }\n",
              "\n",
              "  .colab-df-quickchart-complete:disabled,\n",
              "  .colab-df-quickchart-complete:disabled:hover {\n",
              "    background-color: var(--disabled-bg-color);\n",
              "    fill: var(--disabled-fill-color);\n",
              "    box-shadow: none;\n",
              "  }\n",
              "\n",
              "  .colab-df-spinner {\n",
              "    border: 2px solid var(--fill-color);\n",
              "    border-color: transparent;\n",
              "    border-bottom-color: var(--fill-color);\n",
              "    animation:\n",
              "      spin 1s steps(1) infinite;\n",
              "  }\n",
              "\n",
              "  @keyframes spin {\n",
              "    0% {\n",
              "      border-color: transparent;\n",
              "      border-bottom-color: var(--fill-color);\n",
              "      border-left-color: var(--fill-color);\n",
              "    }\n",
              "    20% {\n",
              "      border-color: transparent;\n",
              "      border-left-color: var(--fill-color);\n",
              "      border-top-color: var(--fill-color);\n",
              "    }\n",
              "    30% {\n",
              "      border-color: transparent;\n",
              "      border-left-color: var(--fill-color);\n",
              "      border-top-color: var(--fill-color);\n",
              "      border-right-color: var(--fill-color);\n",
              "    }\n",
              "    40% {\n",
              "      border-color: transparent;\n",
              "      border-right-color: var(--fill-color);\n",
              "      border-top-color: var(--fill-color);\n",
              "    }\n",
              "    60% {\n",
              "      border-color: transparent;\n",
              "      border-right-color: var(--fill-color);\n",
              "    }\n",
              "    80% {\n",
              "      border-color: transparent;\n",
              "      border-right-color: var(--fill-color);\n",
              "      border-bottom-color: var(--fill-color);\n",
              "    }\n",
              "    90% {\n",
              "      border-color: transparent;\n",
              "      border-bottom-color: var(--fill-color);\n",
              "    }\n",
              "  }\n",
              "</style>\n",
              "\n",
              "      <script>\n",
              "        async function quickchart(key) {\n",
              "          const quickchartButtonEl =\n",
              "            document.querySelector('#' + key + ' button');\n",
              "          quickchartButtonEl.disabled = true;  // To prevent multiple clicks.\n",
              "          quickchartButtonEl.classList.add('colab-df-spinner');\n",
              "          try {\n",
              "            const charts = await google.colab.kernel.invokeFunction(\n",
              "                'suggestCharts', [key], {});\n",
              "          } catch (error) {\n",
              "            console.error('Error during call to suggestCharts:', error);\n",
              "          }\n",
              "          quickchartButtonEl.classList.remove('colab-df-spinner');\n",
              "          quickchartButtonEl.classList.add('colab-df-quickchart-complete');\n",
              "        }\n",
              "        (() => {\n",
              "          let quickchartButtonEl =\n",
              "            document.querySelector('#df-8937b61e-9539-4de0-aca2-09ce107be278 button');\n",
              "          quickchartButtonEl.style.display =\n",
              "            google.colab.kernel.accessAllowed ? 'block' : 'none';\n",
              "        })();\n",
              "      </script>\n",
              "    </div>\n",
              "\n",
              "    </div>\n",
              "  </div>\n"
            ],
            "application/vnd.google.colaboratory.intrinsic+json": {
              "type": "dataframe",
              "variable_name": "x_top11",
              "summary": "{\n  \"name\": \"x_top11\",\n  \"rows\": 35692,\n  \"fields\": [\n    {\n      \"column\": \"person_income\",\n      \"properties\": {\n        \"dtype\": \"number\",\n        \"std\": 0.9006540353108141,\n        \"min\": -1.2042202088591225,\n        \"max\": 38.141397710370896,\n        \"num_unique_values\": 15800,\n        \"samples\": [\n          -0.4348529384662613,\n          0.9732380564834336,\n          -0.33165156915298716\n        ],\n        \"semantic_type\": \"\",\n        \"description\": \"\"\n      }\n    },\n    {\n      \"column\": \"loan_grade\",\n      \"properties\": {\n        \"dtype\": \"number\",\n        \"std\": 1.3083496056005552,\n        \"min\": 0.0,\n        \"max\": 6.0,\n        \"num_unique_values\": 1121,\n        \"samples\": [\n          3.431707258008242,\n          0.913412938164032,\n          4.2655316141246775\n        ],\n        \"semantic_type\": \"\",\n        \"description\": \"\"\n      }\n    },\n    {\n      \"column\": \"loan_amnt\",\n      \"properties\": {\n        \"dtype\": \"number\",\n        \"std\": 1.0385663317707772,\n        \"min\": -1.444841715956471,\n        \"max\": 4.002630279010599,\n        \"num_unique_values\": 12025,\n        \"samples\": [\n          -1.2687271141150034,\n          0.7308221281491711,\n          -0.4987552655280697\n        ],\n        \"semantic_type\": \"\",\n        \"description\": \"\"\n      }\n    },\n    {\n      \"column\": \"loan_int_rate\",\n      \"properties\": {\n        \"dtype\": \"number\",\n        \"std\": 1.046229554099419,\n        \"min\": -1.7380843576457867,\n        \"max\": 3.7552759255089825,\n        \"num_unique_values\": 12621,\n        \"samples\": [\n          1.579395530095886,\n          -0.23752189490993136,\n          -0.862362101433274\n        ],\n        \"semantic_type\": \"\",\n        \"description\": \"\"\n      }\n    },\n    {\n      \"column\": \"person_home_ownership_RENT\",\n      \"properties\": {\n        \"dtype\": \"number\",\n        \"std\": 0.4864981152340537,\n        \"min\": 0.0,\n        \"max\": 1.0,\n        \"num_unique_values\": 933,\n        \"samples\": [\n          0.8933565746596509,\n          0.3978312306111167,\n          0.030058312201998505\n        ],\n        \"semantic_type\": \"\",\n        \"description\": \"\"\n      }\n    },\n    {\n      \"column\": \"person_emp_length\",\n      \"properties\": {\n        \"dtype\": \"number\",\n        \"std\": 0.9675368183533904,\n        \"min\": -1.1854443777802934,\n        \"max\": 9.027571167880971,\n        \"num_unique_values\": 9387,\n        \"samples\": [\n          -1.1847480264442254,\n          -0.5435411787034585,\n          0.840308742090948\n        ],\n        \"semantic_type\": \"\",\n        \"description\": \"\"\n      }\n    },\n    {\n      \"column\": \"cb_person_cred_hist_length\",\n      \"properties\": {\n        \"dtype\": \"number\",\n        \"std\": 0.9938316944148549,\n        \"min\": -0.9425398020461506,\n        \"max\": 6.04271256272678,\n        \"num_unique_values\": 8656,\n        \"samples\": [\n          0.21789814823827341,\n          0.7317075883379605,\n          -0.007908800661134655\n        ],\n        \"semantic_type\": \"\",\n        \"description\": \"\"\n      }\n    },\n    {\n      \"column\": \"person_age\",\n      \"properties\": {\n        \"dtype\": \"number\",\n        \"std\": 0.9906109559232757,\n        \"min\": -1.25746081530075,\n        \"max\": 9.20585705251727,\n        \"num_unique_values\": 10111,\n        \"samples\": [\n          -0.3527142410015168,\n          0.8275434615769963,\n          0.3473204326638888\n        ],\n        \"semantic_type\": \"\",\n        \"description\": \"\"\n      }\n    },\n    {\n      \"column\": \"person_home_ownership_OWN\",\n      \"properties\": {\n        \"dtype\": \"number\",\n        \"std\": 0.22751275492923298,\n        \"min\": 0.0,\n        \"max\": 1.0,\n        \"num_unique_values\": 195,\n        \"samples\": [\n          0.5138353115463513,\n          0.4944141688156024,\n          0.7209576128697398\n        ],\n        \"semantic_type\": \"\",\n        \"description\": \"\"\n      }\n    },\n    {\n      \"column\": \"loan_intent_VENTURE\",\n      \"properties\": {\n        \"dtype\": \"number\",\n        \"std\": 0.3567666445879779,\n        \"min\": 0.0,\n        \"max\": 1.0,\n        \"num_unique_values\": 320,\n        \"samples\": [\n          0.2093813334457727,\n          0.1949278391718975,\n          0.6376640461485906\n        ],\n        \"semantic_type\": \"\",\n        \"description\": \"\"\n      }\n    },\n    {\n      \"column\": \"loan_intent_HOMEIMPROVEMENT\",\n      \"properties\": {\n        \"dtype\": \"number\",\n        \"std\": 0.3156929379772465,\n        \"min\": 0.0,\n        \"max\": 1.0,\n        \"num_unique_values\": 422,\n        \"samples\": [\n          0.1199401838575358,\n          0.5267919098513837,\n          0.2630868013624841\n        ],\n        \"semantic_type\": \"\",\n        \"description\": \"\"\n      }\n    }\n  ]\n}"
            }
          },
          "metadata": {},
          "execution_count": 53
        }
      ]
    },
    {
      "cell_type": "markdown",
      "source": [
        "### Now training on both 11 and 14 features"
      ],
      "metadata": {
        "id": "O0nxC2_iMQ43"
      },
      "id": "O0nxC2_iMQ43"
    },
    {
      "cell_type": "code",
      "source": [
        "y_test.info()"
      ],
      "metadata": {
        "colab": {
          "base_uri": "https://localhost:8080/"
        },
        "id": "tyXT90WpN4M5",
        "outputId": "29322b5e-bedd-4dfc-c599-c07f94d6ea51"
      },
      "id": "tyXT90WpN4M5",
      "execution_count": 51,
      "outputs": [
        {
          "output_type": "stream",
          "name": "stdout",
          "text": [
            "<class 'pandas.core.series.Series'>\n",
            "Index: 5699 entries, 13588 to 292\n",
            "Series name: loan_status\n",
            "Non-Null Count  Dtype\n",
            "--------------  -----\n",
            "5699 non-null   int64\n",
            "dtypes: int64(1)\n",
            "memory usage: 89.0 KB\n"
          ]
        }
      ]
    },
    {
      "cell_type": "code",
      "source": [
        "rnd_clf=RandomForestClassifier(max_depth=15,min_samples_split=20,min_samples_leaf=5,n_estimators=100,max_features=\"sqrt\",random_state=42)\n",
        "rnd_clf.fit(xtrain_top14,y_res)\n",
        "y_pred=rnd_clf.predict(xtest_top14)\n",
        "y_proba=rnd_clf.predict_proba(xtest_top14)[:,1]\n",
        "print(\"With top 14 features\")\n",
        "report(rnd_clf,y_test,y_pred,y_proba)\n",
        "threshold_testing(y_proba)\n",
        "print(\"\\n\")\n",
        "rnd_clf=RandomForestClassifier(max_depth=15,min_samples_split=20,min_samples_leaf=5,n_estimators=100,max_features=\"sqrt\",random_state=42)\n",
        "rnd_clf.fit(xtrain_top11,y_res)\n",
        "y_pred=rnd_clf.predict(xtest_top11)\n",
        "y_proba=rnd_clf.predict_proba(xtest_top11)[:,1]\n",
        "print(\"With top 11 features\")\n",
        "report(rnd_clf,y_test,y_pred,y_proba)\n",
        "threshold_testing(y_proba)"
      ],
      "metadata": {
        "colab": {
          "base_uri": "https://localhost:8080/"
        },
        "id": "lauJKp32L47i",
        "outputId": "99d370d8-24c1-48f0-bb19-d8af57f5759a"
      },
      "id": "lauJKp32L47i",
      "execution_count": 54,
      "outputs": [
        {
          "output_type": "stream",
          "name": "stdout",
          "text": [
            "With top 14 features\n",
            "              precision    recall  f1-score   support\n",
            "\n",
            "           0       0.94      0.95      0.94      4462\n",
            "           1       0.82      0.76      0.79      1237\n",
            "\n",
            "    accuracy                           0.91      5699\n",
            "   macro avg       0.88      0.86      0.87      5699\n",
            "weighted avg       0.91      0.91      0.91      5699\n",
            "\n",
            "Confusion Matrix:\n",
            "  [[4254  208]\n",
            " [ 295  942]]\n",
            "ROC AUC Score: 0.93\n",
            "best_f1: 0.80\n",
            "best_thresh: 0.57\n",
            "\n",
            "\n",
            "With top 11 features\n",
            "              precision    recall  f1-score   support\n",
            "\n",
            "           0       0.94      0.94      0.94      4462\n",
            "           1       0.78      0.77      0.78      1237\n",
            "\n",
            "    accuracy                           0.90      5699\n",
            "   macro avg       0.86      0.86      0.86      5699\n",
            "weighted avg       0.90      0.90      0.90      5699\n",
            "\n",
            "Confusion Matrix:\n",
            "  [[4194  268]\n",
            " [ 281  956]]\n",
            "ROC AUC Score: 0.92\n",
            "best_f1: 0.78\n",
            "best_thresh: 0.50\n"
          ]
        }
      ]
    },
    {
      "cell_type": "markdown",
      "source": [
        "`Based on this results we can choose to pick 14 features rather than 11 features although, all 16 features had greater performance`"
      ],
      "metadata": {
        "id": "JRyWtKnnOs-l"
      },
      "id": "JRyWtKnnOs-l"
    },
    {
      "cell_type": "markdown",
      "source": [
        "### Visualizing most important features"
      ],
      "metadata": {
        "id": "xnUfMTcR92bd"
      },
      "id": "xnUfMTcR92bd"
    },
    {
      "cell_type": "code",
      "source": [
        "top_11=top_features.head(11)"
      ],
      "metadata": {
        "id": "hylx25MM9ekS"
      },
      "id": "hylx25MM9ekS",
      "execution_count": 28,
      "outputs": []
    },
    {
      "cell_type": "code",
      "source": [
        "sns.barplot(x=top_11.values,y=top_11.index)\n",
        "plt.title(\"Top 11 Feature Importances\")\n"
      ],
      "metadata": {
        "colab": {
          "base_uri": "https://localhost:8080/",
          "height": 469
        },
        "id": "pLvqxh_7-LPU",
        "outputId": "dec9d5fe-fd60-4e79-cc45-c9130a66bb62"
      },
      "id": "pLvqxh_7-LPU",
      "execution_count": 38,
      "outputs": [
        {
          "output_type": "execute_result",
          "data": {
            "text/plain": [
              "Text(0.5, 1.0, 'Top 11 Feature Importances')"
            ]
          },
          "metadata": {},
          "execution_count": 38
        },
        {
          "output_type": "display_data",
          "data": {
            "text/plain": [
              "<Figure size 640x480 with 1 Axes>"
            ],
            "image/png": "[encoded data removed]"
          },
          "metadata": {}
        }
      ]
    },
    {
      "cell_type": "markdown",
      "source": [
        "## XGBoost Classifier"
      ],
      "metadata": {
        "id": "jxWz6VgpPB0M"
      },
      "id": "jxWz6VgpPB0M"
    },
    {
      "cell_type": "code",
      "source": [
        "xgb=XGBClassifier(\n",
        "    n_estimators=500,\n",
        "    learning_rate=0.05,\n",
        "    max_depth=15,\n",
        "    eval_metric=\"aucpr\"\n",
        ")"
      ],
      "metadata": {
        "id": "ci83TvKuNfZI"
      },
      "id": "ci83TvKuNfZI",
      "execution_count": 58,
      "outputs": []
    },
    {
      "cell_type": "code",
      "source": [
        "xgb.fit(x_res,y_res,verbose=False)"
      ],
      "metadata": {
        "colab": {
          "base_uri": "https://localhost:8080/",
          "height": 254
        },
        "id": "2PVh_9YfRxcx",
        "outputId": "4cc0a103-9934-4f02-b743-ca85c2f6e6d5"
      },
      "id": "2PVh_9YfRxcx",
      "execution_count": 59,
      "outputs": [
        {
          "output_type": "execute_result",
          "data": {
            "text/plain": [
              "XGBClassifier(base_score=None, booster=None, callbacks=None,\n",
              "              colsample_bylevel=None, colsample_bynode=None,\n",
              "              colsample_bytree=None, device=None, early_stopping_rounds=None,\n",
              "              enable_categorical=False, eval_metric='aucpr', feature_types=None,\n",
              "              gamma=None, grow_policy=None, importance_type=None,\n",
              "              interaction_constraints=None, learning_rate=0.05, max_bin=None,\n",
              "              max_cat_threshold=None, max_cat_to_onehot=None,\n",
              "              max_delta_step=None, max_depth=15, max_leaves=None,\n",
              "              min_child_weight=None, missing=nan, monotone_constraints=None,\n",
              "              multi_strategy=None, n_estimators=500, n_jobs=None,\n",
              "              num_parallel_tree=None, random_state=None, ...)"
            ],
            "text/html": [
              "<style>#sk-container-id-1 {\n",
              "  /* Definition of color scheme common for light and dark mode */\n",
              "  --sklearn-color-text: #000;\n",
              "  --sklearn-color-text-muted: #666;\n",
              "  --sklearn-color-line: gray;\n",
              "  /* Definition of color scheme for unfitted estimators */\n",
              "  --sklearn-color-unfitted-level-0: #fff5e6;\n",
              "  --sklearn-color-unfitted-level-1: #f6e4d2;\n",
              "  --sklearn-color-unfitted-level-2: #ffe0b3;\n",
              "  --sklearn-color-unfitted-level-3: chocolate;\n",
              "  /* Definition of color scheme for fitted estimators */\n",
              "  --sklearn-color-fitted-level-0: #f0f8ff;\n",
              "  --sklearn-color-fitted-level-1: #d4ebff;\n",
              "  --sklearn-color-fitted-level-2: #b3dbfd;\n",
              "  --sklearn-color-fitted-level-3: cornflowerblue;\n",
              "\n",
              "  /* Specific color for light theme */\n",
              "  --sklearn-color-text-on-default-background: var(--sg-text-color, var(--theme-code-foreground, var(--jp-content-font-color1, black)));\n",
              "  --sklearn-color-background: var(--sg-background-color, var(--theme-background, var(--jp-layout-color0, white)));\n",
              "  --sklearn-color-border-box: var(--sg-text-color, var(--theme-code-foreground, var(--jp-content-font-color1, black)));\n",
              "  --sklearn-color-icon: #696969;\n",
              "\n",
              "  @media (prefers-color-scheme: dark) {\n",
              "    /* Redefinition of color scheme for dark theme */\n",
              "    --sklearn-color-text-on-default-background: var(--sg-text-color, var(--theme-code-foreground, var(--jp-content-font-color1, white)));\n",
              "    --sklearn-color-background: var(--sg-background-color, var(--theme-background, var(--jp-layout-color0, #111)));\n",
              "    --sklearn-color-border-box: var(--sg-text-color, var(--theme-code-foreground, var(--jp-content-font-color1, white)));\n",
              "    --sklearn-color-icon: #878787;\n",
              "  }\n",
              "}\n",
              "\n",
              "#sk-container-id-1 {\n",
              "  color: var(--sklearn-color-text);\n",
              "}\n",
              "\n",
              "#sk-container-id-1 pre {\n",
              "  padding: 0;\n",
              "}\n",
              "\n",
              "#sk-container-id-1 input.sk-hidden--visually {\n",
              "  border: 0;\n",
              "  clip: rect(1px 1px 1px 1px);\n",
              "  clip: rect(1px, 1px, 1px, 1px);\n",
              "  height: 1px;\n",
              "  margin: -1px;\n",
              "  overflow: hidden;\n",
              "  padding: 0;\n",
              "  position: absolute;\n",
              "  width: 1px;\n",
              "}\n",
              "\n",
              "#sk-container-id-1 div.sk-dashed-wrapped {\n",
              "  border: 1px dashed var(--sklearn-color-line);\n",
              "  margin: 0 0.4em 0.5em 0.4em;\n",
              "  box-sizing: border-box;\n",
              "  padding-bottom: 0.4em;\n",
              "  background-color: var(--sklearn-color-background);\n",
              "}\n",
              "\n",
              "#sk-container-id-1 div.sk-container {\n",
              "  /* jupyter's `normalize.less` sets `[hidden] { display: none; }`\n",
              "     but bootstrap.min.css set `[hidden] { display: none !important; }`\n",
              "     so we also need the `!important` here to be able to override the\n",
              "     default hidden behavior on the sphinx rendered scikit-learn.org.\n",
              "     See: https://github.com/scikit-learn/scikit-learn/issues/21755 */\n",
              "  display: inline-block !important;\n",
              "  position: relative;\n",
              "}\n",
              "\n",
              "#sk-container-id-1 div.sk-text-repr-fallback {\n",
              "  display: none;\n",
              "}\n",
              "\n",
              "div.sk-parallel-item,\n",
              "div.sk-serial,\n",
              "div.sk-item {\n",
              "  /* draw centered vertical line to link estimators */\n",
              "  background-image: linear-gradient(var(--sklearn-color-text-on-default-background), var(--sklearn-color-text-on-default-background));\n",
              "  background-size: 2px 100%;\n",
              "  background-repeat: no-repeat;\n",
              "  background-position: center center;\n",
              "}\n",
              "\n",
              "/* Parallel-specific style estimator block */\n",
              "\n",
              "#sk-container-id-1 div.sk-parallel-item::after {\n",
              "  content: \"\";\n",
              "  width: 100%;\n",
              "  border-bottom: 2px solid var(--sklearn-color-text-on-default-background);\n",
              "  flex-grow: 1;\n",
              "}\n",
              "\n",
              "#sk-container-id-1 div.sk-parallel {\n",
              "  display: flex;\n",
              "  align-items: stretch;\n",
              "  justify-content: center;\n",
              "  background-color: var(--sklearn-color-background);\n",
              "  position: relative;\n",
              "}\n",
              "\n",
              "#sk-container-id-1 div.sk-parallel-item {\n",
              "  display: flex;\n",
              "  flex-direction: column;\n",
              "}\n",
              "\n",
              "#sk-container-id-1 div.sk-parallel-item:first-child::after {\n",
              "  align-self: flex-end;\n",
              "  width: 50%;\n",
              "}\n",
              "\n",
              "#sk-container-id-1 div.sk-parallel-item:last-child::after {\n",
              "  align-self: flex-start;\n",
              "  width: 50%;\n",
              "}\n",
              "\n",
              "#sk-container-id-1 div.sk-parallel-item:only-child::after {\n",
              "  width: 0;\n",
              "}\n",
              "\n",
              "/* Serial-specific style estimator block */\n",
              "\n",
              "#sk-container-id-1 div.sk-serial {\n",
              "  display: flex;\n",
              "  flex-direction: column;\n",
              "  align-items: center;\n",
              "  background-color: var(--sklearn-color-background);\n",
              "  padding-right: 1em;\n",
              "  padding-left: 1em;\n",
              "}\n",
              "\n",
              "\n",
              "/* Toggleable style: style used for estimator/Pipeline/ColumnTransformer box that is\n",
              "clickable and can be expanded/collapsed.\n",
              "- Pipeline and ColumnTransformer use this feature and define the default style\n",
              "- Estimators will overwrite some part of the style using the `sk-estimator` class\n",
              "*/\n",
              "\n",
              "/* Pipeline and ColumnTransformer style (default) */\n",
              "\n",
              "#sk-container-id-1 div.sk-toggleable {\n",
              "  /* Default theme specific background. It is overwritten whether we have a\n",
              "  specific estimator or a Pipeline/ColumnTransformer */\n",
              "  background-color: var(--sklearn-color-background);\n",
              "}\n",
              "\n",
              "/* Toggleable label */\n",
              "#sk-container-id-1 label.sk-toggleable__label {\n",
              "  cursor: pointer;\n",
              "  display: flex;\n",
              "  width: 100%;\n",
              "  margin-bottom: 0;\n",
              "  padding: 0.5em;\n",
              "  box-sizing: border-box;\n",
              "  text-align: center;\n",
              "  align-items: start;\n",
              "  justify-content: space-between;\n",
              "  gap: 0.5em;\n",
              "}\n",
              "\n",
              "#sk-container-id-1 label.sk-toggleable__label .caption {\n",
              "  font-size: 0.6rem;\n",
              "  font-weight: lighter;\n",
              "  color: var(--sklearn-color-text-muted);\n",
              "}\n",
              "\n",
              "#sk-container-id-1 label.sk-toggleable__label-arrow:before {\n",
              "  /* Arrow on the left of the label */\n",
              "  content: \"▸\";\n",
              "  float: left;\n",
              "  margin-right: 0.25em;\n",
              "  color: var(--sklearn-color-icon);\n",
              "}\n",
              "\n",
              "#sk-container-id-1 label.sk-toggleable__label-arrow:hover:before {\n",
              "  color: var(--sklearn-color-text);\n",
              "}\n",
              "\n",
              "/* Toggleable content - dropdown */\n",
              "\n",
              "#sk-container-id-1 div.sk-toggleable__content {\n",
              "  max-height: 0;\n",
              "  max-width: 0;\n",
              "  overflow: hidden;\n",
              "  text-align: left;\n",
              "  /* unfitted */\n",
              "  background-color: var(--sklearn-color-unfitted-level-0);\n",
              "}\n",
              "\n",
              "#sk-container-id-1 div.sk-toggleable__content.fitted {\n",
              "  /* fitted */\n",
              "  background-color: var(--sklearn-color-fitted-level-0);\n",
              "}\n",
              "\n",
              "#sk-container-id-1 div.sk-toggleable__content pre {\n",
              "  margin: 0.2em;\n",
              "  border-radius: 0.25em;\n",
              "  color: var(--sklearn-color-text);\n",
              "  /* unfitted */\n",
              "  background-color: var(--sklearn-color-unfitted-level-0);\n",
              "}\n",
              "\n",
              "#sk-container-id-1 div.sk-toggleable__content.fitted pre {\n",
              "  /* unfitted */\n",
              "  background-color: var(--sklearn-color-fitted-level-0);\n",
              "}\n",
              "\n",
              "#sk-container-id-1 input.sk-toggleable__control:checked~div.sk-toggleable__content {\n",
              "  /* Expand drop-down */\n",
              "  max-height: 200px;\n",
              "  max-width: 100%;\n",
              "  overflow: auto;\n",
              "}\n",
              "\n",
              "#sk-container-id-1 input.sk-toggleable__control:checked~label.sk-toggleable__label-arrow:before {\n",
              "  content: \"▾\";\n",
              "}\n",
              "\n",
              "/* Pipeline/ColumnTransformer-specific style */\n",
              "\n",
              "#sk-container-id-1 div.sk-label input.sk-toggleable__control:checked~label.sk-toggleable__label {\n",
              "  color: var(--sklearn-color-text);\n",
              "  background-color: var(--sklearn-color-unfitted-level-2);\n",
              "}\n",
              "\n",
              "#sk-container-id-1 div.sk-label.fitted input.sk-toggleable__control:checked~label.sk-toggleable__label {\n",
              "  background-color: var(--sklearn-color-fitted-level-2);\n",
              "}\n",
              "\n",
              "/* Estimator-specific style */\n",
              "\n",
              "/* Colorize estimator box */\n",
              "#sk-container-id-1 div.sk-estimator input.sk-toggleable__control:checked~label.sk-toggleable__label {\n",
              "  /* unfitted */\n",
              "  background-color: var(--sklearn-color-unfitted-level-2);\n",
              "}\n",
              "\n",
              "#sk-container-id-1 div.sk-estimator.fitted input.sk-toggleable__control:checked~label.sk-toggleable__label {\n",
              "  /* fitted */\n",
              "  background-color: var(--sklearn-color-fitted-level-2);\n",
              "}\n",
              "\n",
              "#sk-container-id-1 div.sk-label label.sk-toggleable__label,\n",
              "#sk-container-id-1 div.sk-label label {\n",
              "  /* The background is the default theme color */\n",
              "  color: var(--sklearn-color-text-on-default-background);\n",
              "}\n",
              "\n",
              "/* On hover, darken the color of the background */\n",
              "#sk-container-id-1 div.sk-label:hover label.sk-toggleable__label {\n",
              "  color: var(--sklearn-color-text);\n",
              "  background-color: var(--sklearn-color-unfitted-level-2);\n",
              "}\n",
              "\n",
              "/* Label box, darken color on hover, fitted */\n",
              "#sk-container-id-1 div.sk-label.fitted:hover label.sk-toggleable__label.fitted {\n",
              "  color: var(--sklearn-color-text);\n",
              "  background-color: var(--sklearn-color-fitted-level-2);\n",
              "}\n",
              "\n",
              "/* Estimator label */\n",
              "\n",
              "#sk-container-id-1 div.sk-label label {\n",
              "  font-family: monospace;\n",
              "  font-weight: bold;\n",
              "  display: inline-block;\n",
              "  line-height: 1.2em;\n",
              "}\n",
              "\n",
              "#sk-container-id-1 div.sk-label-container {\n",
              "  text-align: center;\n",
              "}\n",
              "\n",
              "/* Estimator-specific */\n",
              "#sk-container-id-1 div.sk-estimator {\n",
              "  font-family: monospace;\n",
              "  border: 1px dotted var(--sklearn-color-border-box);\n",
              "  border-radius: 0.25em;\n",
              "  box-sizing: border-box;\n",
              "  margin-bottom: 0.5em;\n",
              "  /* unfitted */\n",
              "  background-color: var(--sklearn-color-unfitted-level-0);\n",
              "}\n",
              "\n",
              "#sk-container-id-1 div.sk-estimator.fitted {\n",
              "  /* fitted */\n",
              "  background-color: var(--sklearn-color-fitted-level-0);\n",
              "}\n",
              "\n",
              "/* on hover */\n",
              "#sk-container-id-1 div.sk-estimator:hover {\n",
              "  /* unfitted */\n",
              "  background-color: var(--sklearn-color-unfitted-level-2);\n",
              "}\n",
              "\n",
              "#sk-container-id-1 div.sk-estimator.fitted:hover {\n",
              "  /* fitted */\n",
              "  background-color: var(--sklearn-color-fitted-level-2);\n",
              "}\n",
              "\n",
              "/* Specification for estimator info (e.g. \"i\" and \"?\") */\n",
              "\n",
              "/* Common style for \"i\" and \"?\" */\n",
              "\n",
              ".sk-estimator-doc-link,\n",
              "a:link.sk-estimator-doc-link,\n",
              "a:visited.sk-estimator-doc-link {\n",
              "  float: right;\n",
              "  font-size: smaller;\n",
              "  line-height: 1em;\n",
              "  font-family: monospace;\n",
              "  background-color: var(--sklearn-color-background);\n",
              "  border-radius: 1em;\n",
              "  height: 1em;\n",
              "  width: 1em;\n",
              "  text-decoration: none !important;\n",
              "  margin-left: 0.5em;\n",
              "  text-align: center;\n",
              "  /* unfitted */\n",
              "  border: var(--sklearn-color-unfitted-level-1) 1pt solid;\n",
              "  color: var(--sklearn-color-unfitted-level-1);\n",
              "}\n",
              "\n",
              ".sk-estimator-doc-link.fitted,\n",
              "a:link.sk-estimator-doc-link.fitted,\n",
              "a:visited.sk-estimator-doc-link.fitted {\n",
              "  /* fitted */\n",
              "  border: var(--sklearn-color-fitted-level-1) 1pt solid;\n",
              "  color: var(--sklearn-color-fitted-level-1);\n",
              "}\n",
              "\n",
              "/* On hover */\n",
              "div.sk-estimator:hover .sk-estimator-doc-link:hover,\n",
              ".sk-estimator-doc-link:hover,\n",
              "div.sk-label-container:hover .sk-estimator-doc-link:hover,\n",
              ".sk-estimator-doc-link:hover {\n",
              "  /* unfitted */\n",
              "  background-color: var(--sklearn-color-unfitted-level-3);\n",
              "  color: var(--sklearn-color-background);\n",
              "  text-decoration: none;\n",
              "}\n",
              "\n",
              "div.sk-estimator.fitted:hover .sk-estimator-doc-link.fitted:hover,\n",
              ".sk-estimator-doc-link.fitted:hover,\n",
              "div.sk-label-container:hover .sk-estimator-doc-link.fitted:hover,\n",
              ".sk-estimator-doc-link.fitted:hover {\n",
              "  /* fitted */\n",
              "  background-color: var(--sklearn-color-fitted-level-3);\n",
              "  color: var(--sklearn-color-background);\n",
              "  text-decoration: none;\n",
              "}\n",
              "\n",
              "/* Span, style for the box shown on hovering the info icon */\n",
              ".sk-estimator-doc-link span {\n",
              "  display: none;\n",
              "  z-index: 9999;\n",
              "  position: relative;\n",
              "  font-weight: normal;\n",
              "  right: .2ex;\n",
              "  padding: .5ex;\n",
              "  margin: .5ex;\n",
              "  width: min-content;\n",
              "  min-width: 20ex;\n",
              "  max-width: 50ex;\n",
              "  color: var(--sklearn-color-text);\n",
              "  box-shadow: 2pt 2pt 4pt #999;\n",
              "  /* unfitted */\n",
              "  background: var(--sklearn-color-unfitted-level-0);\n",
              "  border: .5pt solid var(--sklearn-color-unfitted-level-3);\n",
              "}\n",
              "\n",
              ".sk-estimator-doc-link.fitted span {\n",
              "  /* fitted */\n",
              "  background: var(--sklearn-color-fitted-level-0);\n",
              "  border: var(--sklearn-color-fitted-level-3);\n",
              "}\n",
              "\n",
              ".sk-estimator-doc-link:hover span {\n",
              "  display: block;\n",
              "}\n",
              "\n",
              "/* \"?\"-specific style due to the `<a>` HTML tag */\n",
              "\n",
              "#sk-container-id-1 a.estimator_doc_link {\n",
              "  float: right;\n",
              "  font-size: 1rem;\n",
              "  line-height: 1em;\n",
              "  font-family: monospace;\n",
              "  background-color: var(--sklearn-color-background);\n",
              "  border-radius: 1rem;\n",
              "  height: 1rem;\n",
              "  width: 1rem;\n",
              "  text-decoration: none;\n",
              "  /* unfitted */\n",
              "  color: var(--sklearn-color-unfitted-level-1);\n",
              "  border: var(--sklearn-color-unfitted-level-1) 1pt solid;\n",
              "}\n",
              "\n",
              "#sk-container-id-1 a.estimator_doc_link.fitted {\n",
              "  /* fitted */\n",
              "  border: var(--sklearn-color-fitted-level-1) 1pt solid;\n",
              "  color: var(--sklearn-color-fitted-level-1);\n",
              "}\n",
              "\n",
              "/* On hover */\n",
              "#sk-container-id-1 a.estimator_doc_link:hover {\n",
              "  /* unfitted */\n",
              "  background-color: var(--sklearn-color-unfitted-level-3);\n",
              "  color: var(--sklearn-color-background);\n",
              "  text-decoration: none;\n",
              "}\n",
              "\n",
              "#sk-container-id-1 a.estimator_doc_link.fitted:hover {\n",
              "  /* fitted */\n",
              "  background-color: var(--sklearn-color-fitted-level-3);\n",
              "}\n",
              "</style><div id=\"sk-container-id-1\" class=\"sk-top-container\"><div class=\"sk-text-repr-fallback\"><pre>XGBClassifier(base_score=None, booster=None, callbacks=None,\n",
              "              colsample_bylevel=None, colsample_bynode=None,\n",
              "              colsample_bytree=None, device=None, early_stopping_rounds=None,\n",
              "              enable_categorical=False, eval_metric=&#x27;aucpr&#x27;, feature_types=None,\n",
              "              gamma=None, grow_policy=None, importance_type=None,\n",
              "              interaction_constraints=None, learning_rate=0.05, max_bin=None,\n",
              "              max_cat_threshold=None, max_cat_to_onehot=None,\n",
              "              max_delta_step=None, max_depth=15, max_leaves=None,\n",
              "              min_child_weight=None, missing=nan, monotone_constraints=None,\n",
              "              multi_strategy=None, n_estimators=500, n_jobs=None,\n",
              "              num_parallel_tree=None, random_state=None, ...)</pre><b>In a Jupyter environment, please rerun this cell to show the HTML representation or trust the notebook. <br />On GitHub, the HTML representation is unable to render, please try loading this page with nbviewer.org.</b></div><div class=\"sk-container\" hidden><div class=\"sk-item\"><div class=\"sk-estimator fitted sk-toggleable\"><input class=\"sk-toggleable__control sk-hidden--visually\" id=\"sk-estimator-id-1\" type=\"checkbox\" checked><label for=\"sk-estimator-id-1\" class=\"sk-toggleable__label fitted sk-toggleable__label-arrow\"><div><div>XGBClassifier</div></div><div><span class=\"sk-estimator-doc-link fitted\">i<span>Fitted</span></span></div></label><div class=\"sk-toggleable__content fitted\"><pre>XGBClassifier(base_score=None, booster=None, callbacks=None,\n",
              "              colsample_bylevel=None, colsample_bynode=None,\n",
              "              colsample_bytree=None, device=None, early_stopping_rounds=None,\n",
              "              enable_categorical=False, eval_metric=&#x27;aucpr&#x27;, feature_types=None,\n",
              "              gamma=None, grow_policy=None, importance_type=None,\n",
              "              interaction_constraints=None, learning_rate=0.05, max_bin=None,\n",
              "              max_cat_threshold=None, max_cat_to_onehot=None,\n",
              "              max_delta_step=None, max_depth=15, max_leaves=None,\n",
              "              min_child_weight=None, missing=nan, monotone_constraints=None,\n",
              "              multi_strategy=None, n_estimators=500, n_jobs=None,\n",
              "              num_parallel_tree=None, random_state=None, ...)</pre></div> </div></div></div></div>"
            ]
          },
          "metadata": {},
          "execution_count": 59
        }
      ]
    },
    {
      "cell_type": "code",
      "source": [
        "y_pred=xgb.predict(x_test)\n",
        "y_proba=xgb.predict_proba(x_test)[:,1]\n",
        "report(xgb,y_test,y_pred,y_proba)\n",
        "threshold_testing(y_proba)"
      ],
      "metadata": {
        "colab": {
          "base_uri": "https://localhost:8080/"
        },
        "id": "jn_5ljMgR8ar",
        "outputId": "3135bf52-a6cf-4bdb-ca56-11ce3bdfb403"
      },
      "id": "jn_5ljMgR8ar",
      "execution_count": 61,
      "outputs": [
        {
          "output_type": "stream",
          "name": "stdout",
          "text": [
            "              precision    recall  f1-score   support\n",
            "\n",
            "           0       0.94      0.98      0.96      4462\n",
            "           1       0.92      0.76      0.83      1237\n",
            "\n",
            "    accuracy                           0.93      5699\n",
            "   macro avg       0.93      0.87      0.89      5699\n",
            "weighted avg       0.93      0.93      0.93      5699\n",
            "\n",
            "Confusion Matrix:\n",
            "  [[4377   85]\n",
            " [ 302  935]]\n",
            "ROC AUC Score: 0.94\n",
            "best_f1: 0.83\n",
            "best_thresh: 0.51\n"
          ]
        }
      ]
    },
    {
      "cell_type": "markdown",
      "source": [
        "### Using Early Stopping"
      ],
      "metadata": {
        "id": "vzUmfNM8SUPR"
      },
      "id": "vzUmfNM8SUPR"
    },
    {
      "cell_type": "code",
      "source": [
        "x_boost,x_val,y_boost,y_val= train_test_split(x_res,y_res,test_size=0.2)"
      ],
      "metadata": {
        "id": "1Y61DyMiYyU0"
      },
      "id": "1Y61DyMiYyU0",
      "execution_count": 66,
      "outputs": []
    },
    {
      "cell_type": "code",
      "source": [
        "xgb=XGBClassifier(\n",
        "    n_estimators=500,\n",
        "    learning_rate=0.05,\n",
        "    eval_metric=\"aucpr\",\n",
        "    max_depth=15,\n",
        "    early_stopping_rounds=30\n",
        ")"
      ],
      "metadata": {
        "id": "dn6J4n5fSG-R"
      },
      "id": "dn6J4n5fSG-R",
      "execution_count": 67,
      "outputs": []
    },
    {
      "cell_type": "code",
      "source": [
        "xgb.fit(\n",
        "    x_boost,y_boost,\n",
        "    eval_set=[(x_val,y_val)],\n",
        "    verbose=False\n",
        ")\n",
        "print(f\"best_iteration= {xgb.best_iteration}, best_score= {xgb.best_score}\")\n",
        "y_pred=xgb.predict(x_test)\n",
        "y_proba=xgb.predict_proba(x_test)[:,1]\n",
        "report(xgb,y_test,y_pred,y_proba)\n",
        "threshold_testing(y_proba)"
      ],
      "metadata": {
        "colab": {
          "base_uri": "https://localhost:8080/"
        },
        "id": "47ebvZPEY_5n",
        "outputId": "c6514d0e-0227-47c0-bd3e-9a103f19a9df"
      },
      "id": "47ebvZPEY_5n",
      "execution_count": 68,
      "outputs": [
        {
          "output_type": "stream",
          "name": "stdout",
          "text": [
            "best_iteration= 329, best_score= 0.9889183509672792\n",
            "              precision    recall  f1-score   support\n",
            "\n",
            "           0       0.93      0.98      0.96      4462\n",
            "           1       0.90      0.75      0.82      1237\n",
            "\n",
            "    accuracy                           0.93      5699\n",
            "   macro avg       0.92      0.87      0.89      5699\n",
            "weighted avg       0.93      0.93      0.93      5699\n",
            "\n",
            "Confusion Matrix:\n",
            "  [[4363   99]\n",
            " [ 305  932]]\n",
            "ROC AUC Score: 0.94\n",
            "best_f1: 0.83\n",
            "best_thresh: 0.58\n"
          ]
        }
      ]
    },
    {
      "cell_type": "markdown",
      "source": [
        "### GridSearchCV"
      ],
      "metadata": {
        "id": "eXLHtwkiaXLh"
      },
      "id": "eXLHtwkiaXLh"
    },
    {
      "cell_type": "markdown",
      "source": [
        "`We can not use Early Stopping with GridSearchCV`"
      ],
      "metadata": {
        "id": "BHqDEMlHa0XK"
      },
      "id": "BHqDEMlHa0XK"
    },
    {
      "cell_type": "code",
      "source": [
        "params={\n",
        "    \"n_estimators\":[500],\n",
        "    \"max_depth\":[15,20],\n",
        "    \"gamma\":[0,0.1,0.3],\n",
        "    \"learning_rate\":[0.01,0.05,0.1],\n",
        "}\n",
        "xgb=XGBClassifier(eval_metric=\"aucpr\",verbose=False,random_state=42)"
      ],
      "metadata": {
        "id": "tP-cWNWgY_L9"
      },
      "id": "tP-cWNWgY_L9",
      "execution_count": 6,
      "outputs": []
    },
    {
      "cell_type": "code",
      "source": [
        "grid=GridSearchCV(\n",
        "    xgb,params,\n",
        "    cv=5,\n",
        "    n_jobs=-1,\n",
        "    verbose=0,\n",
        "    scoring=\"f1\"\n",
        ")\n",
        "grid.fit(x_res,y_res)\n",
        "print(grid.best_params_,grid.best_score_)\n",
        "clf=grid.best_estimator_\n",
        "y_pred=clf.predict(x_test)\n",
        "y_proba=clf.predict_proba(x_test)[:,1]"
      ],
      "metadata": {
        "id": "LW4fJZkDcIHq"
      },
      "id": "LW4fJZkDcIHq",
      "execution_count": null,
      "outputs": []
    },
    {
      "cell_type": "code",
      "source": [
        "report(clf,y_test,y_pred,y_proba)\n",
        "threshold_testing(y_proba)\n",
        "# {'gamma': 0, 'learning_rate': 0.05, 'max_depth': 15, 'n_estimators': 500}\n",
        "# grid.best_score_= 0.94"
      ],
      "metadata": {
        "colab": {
          "base_uri": "https://localhost:8080/"
        },
        "id": "GgNmGgIXietj",
        "outputId": "12e84465-24f0-40ac-afba-370db308436f"
      },
      "id": "GgNmGgIXietj",
      "execution_count": 12,
      "outputs": [
        {
          "output_type": "stream",
          "name": "stdout",
          "text": [
            "              precision    recall  f1-score   support\n",
            "\n",
            "           0       0.94      0.98      0.96      4462\n",
            "           1       0.92      0.76      0.83      1237\n",
            "\n",
            "    accuracy                           0.93      5699\n",
            "   macro avg       0.93      0.87      0.89      5699\n",
            "weighted avg       0.93      0.93      0.93      5699\n",
            "\n",
            "Confusion Matrix:\n",
            "  [[4377   85]\n",
            " [ 302  935]]\n",
            "ROC AUC Score: 0.94\n",
            "best_f1: 0.83\n",
            "best_thresh: 0.51\n"
          ]
        }
      ]
    },
    {
      "cell_type": "markdown",
      "source": [
        "## Stacking Classifer"
      ],
      "metadata": {
        "id": "A8y2zYMf6imi"
      },
      "id": "A8y2zYMf6imi"
    },
    {
      "cell_type": "code",
      "source": [
        "estimators=[\n",
        "    (\"log\",LogisticRegression(max_iter=6000,random_state=42)),\n",
        "    (\"rnd\",RandomForestClassifier(max_depth=15,n_estimators=100,min_samples_split=20,min_samples_leaf=5,random_state=42)),\n",
        "    (\"xgb\",XGBClassifier(n_estimators=329,learning_rate=0.05,eval_metric=\"aucpr\",max_depth=15,random_state=42))\n",
        "]"
      ],
      "metadata": {
        "id": "jRWU0aysfLKY"
      },
      "id": "jRWU0aysfLKY",
      "execution_count": 13,
      "outputs": []
    },
    {
      "cell_type": "code",
      "source": [
        "meta_model1=LogisticRegression(random_state=42)\n",
        "meta_model2=DecisionTreeClassifier(random_state=42)\n",
        "stacking_clf=StackingClassifier(\n",
        "    estimators=estimators,\n",
        "    final_estimator=meta_model1,\n",
        "    cv=5,\n",
        "    n_jobs=-1\n",
        ")\n",
        "stacking_clf.fit(x_res,y_res)\n",
        "y_pred=stacking_clf.predict(x_test)\n",
        "y_proba=stacking_clf.predict_proba(x_test)[:,1]\n",
        "report(stacking_clf,y_test,y_pred,y_proba)\n",
        "threshold_testing(y_proba)"
      ],
      "metadata": {
        "colab": {
          "base_uri": "https://localhost:8080/"
        },
        "id": "8rritIpaeKx-",
        "outputId": "b505b8bc-824a-41f8-b7a9-23953167e470"
      },
      "id": "8rritIpaeKx-",
      "execution_count": 15,
      "outputs": [
        {
          "output_type": "stream",
          "name": "stdout",
          "text": [
            "              precision    recall  f1-score   support\n",
            "\n",
            "           0       0.94      0.97      0.96      4462\n",
            "           1       0.89      0.76      0.82      1237\n",
            "\n",
            "    accuracy                           0.93      5699\n",
            "   macro avg       0.92      0.87      0.89      5699\n",
            "weighted avg       0.93      0.93      0.93      5699\n",
            "\n",
            "Confusion Matrix:\n",
            "  [[4349  113]\n",
            " [ 291  946]]\n",
            "ROC AUC Score: 0.94\n",
            "best_f1: 0.83\n",
            "best_thresh: 0.73\n"
          ]
        }
      ]
    },
    {
      "cell_type": "markdown",
      "source": [
        "## LightGBM"
      ],
      "metadata": {
        "id": "Mz8FAH63jYuP"
      },
      "id": "Mz8FAH63jYuP"
    },
    {
      "cell_type": "code",
      "source": [
        "!pip install lightgbm"
      ],
      "metadata": {
        "colab": {
          "base_uri": "https://localhost:8080/"
        },
        "id": "4_4s9OaOjXph",
        "outputId": "6ae5f377-41f8-4355-8893-7214ec2a2052"
      },
      "id": "4_4s9OaOjXph",
      "execution_count": 16,
      "outputs": [
        {
          "output_type": "stream",
          "name": "stdout",
          "text": [
            "Requirement already satisfied: lightgbm in /usr/local/lib/python3.11/dist-packages (4.5.0)\n",
            "Requirement already satisfied: numpy>=1.17.0 in /usr/local/lib/python3.11/dist-packages (from lightgbm) (2.0.2)\n",
            "Requirement already satisfied: scipy in /usr/local/lib/python3.11/dist-packages (from lightgbm) (1.15.3)\n"
          ]
        }
      ]
    },
    {
      "cell_type": "code",
      "source": [
        "import lightgbm as lgb"
      ],
      "metadata": {
        "id": "AIS4yOlmjjdb"
      },
      "id": "AIS4yOlmjjdb",
      "execution_count": 17,
      "outputs": []
    },
    {
      "cell_type": "code",
      "source": [
        "model=lgb.LGBMClassifier(\n",
        "    n_estimators=200,\n",
        "    max_depth=15,\n",
        "    learning_rate=0.05,\n",
        "    random_state=42\n",
        ")"
      ],
      "metadata": {
        "id": "m2AvxAW_jyhC"
      },
      "id": "m2AvxAW_jyhC",
      "execution_count": 19,
      "outputs": []
    },
    {
      "cell_type": "code",
      "source": [
        "model.fit(x_res,y_res)\n",
        "y_pred=model.predict(x_test)\n",
        "y_proba=model.predict_proba(x_test)[:,1]\n",
        "report(model,y_test,y_pred,y_proba)\n",
        "threshold_testing(y_proba)"
      ],
      "metadata": {
        "colab": {
          "base_uri": "https://localhost:8080/"
        },
        "id": "qI0dJ9kXkDXT",
        "outputId": "1fd38777-b4fb-45ea-b1c9-0be2f7caa0a0"
      },
      "id": "qI0dJ9kXkDXT",
      "execution_count": 20,
      "outputs": [
        {
          "output_type": "stream",
          "name": "stdout",
          "text": [
            "[LightGBM] [Info] Number of positive: 17846, number of negative: 17846\n",
            "[LightGBM] [Info] Auto-choosing col-wise multi-threading, the overhead of testing was 0.007241 seconds.\n",
            "You can set `force_col_wise=true` to remove the overhead.\n",
            "[LightGBM] [Info] Total Bins 3657\n",
            "[LightGBM] [Info] Number of data points in the train set: 35692, number of used features: 16\n",
            "[LightGBM] [Info] [binary:BoostFromScore]: pavg=0.500000 -> initscore=0.000000\n",
            "200\n",
            "              precision    recall  f1-score   support\n",
            "\n",
            "           0       0.93      0.98      0.96      4462\n",
            "           1       0.93      0.73      0.82      1237\n",
            "\n",
            "    accuracy                           0.93      5699\n",
            "   macro avg       0.93      0.86      0.89      5699\n",
            "weighted avg       0.93      0.93      0.93      5699\n",
            "\n",
            "Confusion Matrix:\n",
            "  [[4393   69]\n",
            " [ 331  906]]\n",
            "ROC AUC Score: 0.94\n",
            "best_f1: 0.82\n",
            "best_thresh: 0.56\n"
          ]
        }
      ]
    },
    {
      "cell_type": "code",
      "source": [],
      "metadata": {
        "id": "IYoOKJZYkhnz"
      },
      "id": "IYoOKJZYkhnz",
      "execution_count": null,
      "outputs": []
    }
  ],
  "metadata": {
    "kernelspec": {
      "display_name": "Python 3",
      "name": "python3"
    },
    "language_info": {
      "codemirror_mode": {
        "name": "ipython",
        "version": 3
      },
      "file_extension": ".py",
      "mimetype": "text/x-python",
      "name": "python",
      "nbconvert_exporter": "python",
      "pygments_lexer": "ipython3",
      "version": "3.10.16"
    },
    "colab": {
      "provenance": []
    }
  },
  "nbformat": 4,
  "nbformat_minor": 5
}